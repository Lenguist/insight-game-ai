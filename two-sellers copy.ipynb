{
 "cells": [
  {
   "attachments": {},
   "cell_type": "markdown",
   "metadata": {},
   "source": [
    "# Two sellers"
   ]
  },
  {
   "cell_type": "code",
   "execution_count": 2,
   "metadata": {},
   "outputs": [
    {
     "data": {
      "text/plain": [
       "['accept offer', 'competitor won']"
      ]
     },
     "execution_count": 2,
     "metadata": {},
     "output_type": "execute_result"
    }
   ],
   "source": [
    "from buyers import EducatedBuyer\n",
    "from simulations import *\n",
    "from sellers import *\n",
    "edubuyer = EducatedBuyer(15, 0.2)\n",
    "edubuyer.check_all_offers([15,16])"
   ]
  },
  {
   "cell_type": "code",
   "execution_count": 3,
   "metadata": {},
   "outputs": [],
   "source": [
    "\n",
    "import numpy as np\n",
    "import matplotlib.pyplot as plt\n",
    "def show_histogram(mean, stdev):\n",
    "  num_samples = 1000\n",
    "  samples_float = np.random.normal(mean, stdev, num_samples)\n",
    "  samples = np.round(samples_float).astype(int)\n",
    "  plt.hist(samples, bins=20, density=True)\n",
    "  plt.show()\n",
    "\n",
    "def sample_one_point(mean, stdev):\n",
    "  num_samples = 1\n",
    "  samples_float = np.random.normal(mean, stdev, num_samples)\n",
    "  samples = np.round(samples_float).astype(int)\n",
    "  return samples[0]"
   ]
  },
  {
   "cell_type": "code",
   "execution_count": 4,
   "metadata": {},
   "outputs": [],
   "source": [
    "\n",
    "def two_seller_negotiation(edubuyer, sellers):\n",
    "  # assume 2 sellers\n",
    "  terminate = False\n",
    "  while not terminate:\n",
    "    offers = [seller.make_offer() for seller in sellers]\n",
    "    decisions = edubuyer.check_all_offers(offers)\n",
    "    terminate = (\"walk away\" in decisions or \"accept offer\" in decisions)\n",
    "    # this kind of a junky way to code it \n",
    "    # but it works for now\n",
    "    for i, seller in enumerate(sellers):\n",
    "      new_state = {\"last-offer\":offers[i],\n",
    "                  \"comp-last-offer\":(offers[:i] + offers[i+1:])[0],\n",
    "                  \"offers-made\":seller.state[\"offers-made\"]+1}\n",
    "      seller.state = new_state\n",
    "  # get reward for the agents if terminated\n",
    "  profits = [None for i in range(len(sellers))]\n",
    "  for i, seller in enumerate(sellers):\n",
    "    if decisions[i] == \"accept offer\":\n",
    "      profits[i]=seller.state[\"last-offer\"]-seller.value\n",
    "    elif decisions[i] == \"walk away\":\n",
    "      profits[i]=0\n",
    "    elif decisions[i] == \"competitor won\":\n",
    "      profits[i]=0\n",
    "  return profits"
   ]
  },
  {
   "cell_type": "code",
   "execution_count": 5,
   "metadata": {},
   "outputs": [
    {
     "name": "stdout",
     "output_type": "stream",
     "text": [
      "[4673, 4647]\n"
     ]
    }
   ],
   "source": [
    "# buyer distrubution\n",
    "mean = 15\n",
    "stdev = 3\n",
    "#show_histogram(mean, stdev)\n",
    "value = 10\n",
    "rounds = 10000\n",
    "imp_incr = 0.1\n",
    "\n",
    "init_offer = mean+4*stdev\n",
    "range_max = init_offer\n",
    "n = int((range_max-value)/2)\n",
    "random_seller = RandomSeller(value=value, init_offer=range_max)\n",
    "heuristic_seller = DescentArithmeticSeller(value=value, init_offer=init_offer, init_descent = n)\n",
    "sellers = [random_seller, heuristic_seller]\n",
    "\n",
    "\n",
    "total_profits = [0 for i in range(len(sellers))]\n",
    "\n",
    "for i in range(rounds):\n",
    "  maxprice = sample_one_point(mean,stdev)\n",
    "  edubuyer = EducatedBuyer(maxprice, imp_incr)\n",
    "  profits = two_seller_negotiation(edubuyer, sellers)\n",
    "  for i in range(len(total_profits)):\n",
    "    total_profits[i] += profits[i]\n",
    "print(total_profits)"
   ]
  },
  {
   "cell_type": "code",
   "execution_count": 6,
   "metadata": {},
   "outputs": [
    {
     "data": {
      "image/png": "[encoded data removed]",
      "text/plain": [
       "<Figure size 640x480 with 1 Axes>"
      ]
     },
     "metadata": {},
     "output_type": "display_data"
    }
   ],
   "source": [
    "range_min = 11\n",
    "range_max = 100\n",
    "rounds = 10000\n",
    "init_offer=range_max\n",
    "\n",
    "sellerQ = QLearningSeller(value=value, init_offer=init_offer)\n",
    "results = []\n",
    "for i in range(10):\n",
    "    result = basic_simulation(value,\n",
    "                              range_min,\n",
    "                              range_max,\n",
    "                              imp_init=0,\n",
    "                              imp_incr=imp_incr,\n",
    "                              rounds = rounds,\n",
    "                              seller=sellerQ,\n",
    "                              verbose=False)\n",
    "    results.append(result)\n",
    "\n",
    "import matplotlib.pyplot as plt\n",
    "# Plotting the data\n",
    "plt.plot(results)\n",
    "\n",
    "# Adding labels and title\n",
    "plt.xlabel('X-axis')\n",
    "plt.ylabel('Y-axis')\n",
    "plt.title('Data Graph')\n",
    "\n",
    "# Displaying the graph\n",
    "plt.show()\n"
   ]
  },
  {
   "cell_type": "code",
   "execution_count": null,
   "metadata": {},
   "outputs": [],
   "source": []
  },
  {
   "cell_type": "code",
   "execution_count": null,
   "metadata": {},
   "outputs": [],
   "source": []
  }
 ],
 "metadata": {
  "kernelspec": {
   "display_name": "Python 3",
   "language": "python",
   "name": "python3"
  },
  "language_info": {
   "codemirror_mode": {
    "name": "ipython",
    "version": 3
   },
   "file_extension": ".py",
   "mimetype": "text/x-python",
   "name": "python",
   "nbconvert_exporter": "python",
   "pygments_lexer": "ipython3",
   "version": "3.9.6"
  },
  "orig_nbformat": 4
 },
 "nbformat": 4,
 "nbformat_minor": 2
}
