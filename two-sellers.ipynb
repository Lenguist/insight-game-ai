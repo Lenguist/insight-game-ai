{
 "cells": [
  {
   "cell_type": "code",
   "execution_count": 1,
   "metadata": {},
   "outputs": [],
   "source": [
    "# get one seller Q leaning to work\n",
    "# print table nicelya to allow diagnosing issues\n",
    "# get twoseller Q learning to wokr\n",
    "# get one seller Q learning with normal maxprice generation to work\n",
    "# get two seller Q learning with normal maxprice to work\n",
    "# get two seller Q learning with taking competitor offer into account to work"
   ]
  },
  {
   "attachments": {},
   "cell_type": "markdown",
   "metadata": {},
   "source": [
    "# One Seller Q learning"
   ]
  },
  {
   "cell_type": "code",
   "execution_count": null,
   "metadata": {},
   "outputs": [],
   "source": [
    "import random\n",
    "class QLearningSeller(Seller):\n",
    "  def __init__(self, value, init_offer):\n",
    "    super().__init__(value, init_offer)\n",
    "    action_space_size = self.init_offer - self.value\n",
    "    state_space_size = (self.init_offer - self.value) ** 2\n",
    "    self.q_table = np.zeros((state_space_size, action_space_size))\n",
    "\n",
    "    # Q-Learning parameters\n",
    "    # alpha\n",
    "    self.learning_rate = 0.1\n",
    "    # gamma\n",
    "    self.discount_rate = 0.99\n",
    "    # exploration rate for when the model is still learning\n",
    "    self.exploration_rate = .15\n",
    "\n",
    "    # # unused variables for a changing exploration rate\n",
    "    # self.max_exploration_rate = 1\n",
    "    # self.min_exploration_rate = 0.01\n",
    "    # self.exploration_decay_rate = 0.001\n",
    "\n",
    "  def make_offer(self):\n",
    "    random_number = random.uniform(0, 1)\n",
    "    if random_number > self.exploration_rate:\n",
    "      print(self.q_table[self.get_state_array_number(self.state), :])\n",
    "      offer = np.argmax(self.q_table[self.get_state_array_number(self.state), :]) + (self.value+1)\n",
    "    else: #exploring\n",
    "      offer = random.randint(self.value+1,self.state['last-offer']-1)\n",
    "    return offer\n",
    "\n",
    "  def update_table(self, offer, decision, new_state):\n",
    "    if decision == 'accept offer':\n",
    "      reward = offer - self.value\n",
    "    else:\n",
    "      reward = 0\n",
    "    state_array_number = self.get_state_array_number(self.state)\n",
    "    new_state_array_number = self.get_state_array_number(new_state)\n",
    "    self.q_table[state_array_number, offer-(self.value+1)] = self.q_table[state_array_number, offer-(self.value+1)] * (1 - self.learning_rate) + \\\n",
    "                                  self.learning_rate * (reward + self.discount_rate * np.max(self.q_table[new_state_array_number, :]))\n",
    "\n",
    "  # helper methods\n",
    "  def get_state_array_number(self, state):\n",
    "    return state['last-offer']-(self.value+1)+(self.init_offer-self.value)*state['offers-made']\n",
    "\n",
    "  def from_array_num_get_state(self, array_num):\n",
    "    offers_made = math.floor(array_num/(self.init_offer-self.value))\n",
    "    last_offer =  array_num % (self.init_offer-self.value) + (self.value + 1)\n",
    "    return {\"last-offer\":last_offer, \"offers-made\":offers_made}\n",
    "\n",
    "  def set_exploiting(self):\n",
    "    self.exploration_rate = 0"
   ]
  },
  {
   "attachments": {},
   "cell_type": "markdown",
   "metadata": {},
   "source": []
  },
  {
   "attachments": {},
   "cell_type": "markdown",
   "metadata": {},
   "source": [
    "# Two sellers"
   ]
  },
  {
   "cell_type": "code",
   "execution_count": 151,
   "metadata": {},
   "outputs": [],
   "source": [
    "#sample normal maxprice\n",
    "import numpy as np\n",
    "import matplotlib.pyplot as plt\n",
    "\n",
    "def show_histogram(mean, stdev):\n",
    "  num_samples = 1000\n",
    "  samples_float = np.random.normal(mean, stdev, num_samples)\n",
    "  samples = np.round(samples_float).astype(int)\n",
    "  plt.hist(samples, bins=20, density=True)\n",
    "  plt.show()\n",
    "\n",
    "def sample_one_point(mean, stdev):\n",
    "  num_samples = 1\n",
    "  samples_float = np.random.normal(mean, stdev, num_samples)\n",
    "  samples = np.round(samples_float).astype(int)\n",
    "  return samples[0]"
   ]
  },
  {
   "cell_type": "code",
   "execution_count": 121,
   "metadata": {},
   "outputs": [],
   "source": [
    "def two_seller_negotiation(edubuyer, sellers):\n",
    "  # assume 2 sellers\n",
    "  terminate = False\n",
    "  while not terminate:\n",
    "    offers = [seller.make_offer() for seller in sellers]\n",
    "    decisions = edubuyer.check_all_offers(offers)\n",
    "    terminate = (\"walk away\" in decisions or \"accept offer\" in decisions)\n",
    "    # this kind of a junky way to code it\n",
    "    # but it works for now\n",
    "    for i, seller in enumerate(sellers):\n",
    "      new_state = {\"last-offer\":offers[i],\n",
    "                  \"comp-last-offer\":(offers[:i] + offers[i+1:])[0],\n",
    "                  \"offers-made\":seller.state[\"offers-made\"]+1}\n",
    "      seller.update_table(offers[i], decisions[i], new_state)\n",
    "      seller.state = new_state\n",
    "  # get reward for the agents if terminated\n",
    "  profits = [None for i in range(len(sellers))]\n",
    "  for i, seller in enumerate(sellers):\n",
    "    if decisions[i] == \"accept offer\":\n",
    "      profits[i]=seller.state[\"last-offer\"]-seller.value\n",
    "    elif decisions[i] == \"walk away\":\n",
    "      profits[i]=0\n",
    "    elif decisions[i] == \"competitor won\":\n",
    "      profits[i]=0\n",
    "  return profits"
   ]
  },
  {
   "cell_type": "code",
   "execution_count": 123,
   "metadata": {},
   "outputs": [],
   "source": [
    "import random\n",
    "class QLearningSeller(Seller):\n",
    "  def __init__(self, value, init_offer):\n",
    "    super().__init__(value, init_offer)\n",
    "    action_space_size = self.init_offer - self.value\n",
    "    state_space_size = (self.init_offer - self.value) ** 2\n",
    "    self.q_table = np.zeros((state_space_size, action_space_size))\n",
    "\n",
    "    # Q-Learning parameters\n",
    "    # alpha\n",
    "    self.learning_rate = 0.1\n",
    "    # gamma\n",
    "    self.discount_rate = 0.99\n",
    "    # exploration rate for when the model is still learning\n",
    "    self.exploration_rate = .15\n",
    "\n",
    "    # # unused variables for a changing exploration rate\n",
    "    # self.max_exploration_rate = 1\n",
    "    # self.min_exploration_rate = 0.01\n",
    "    # self.exploration_decay_rate = 0.001\n",
    "\n",
    "  def make_offer(self):\n",
    "    random_number = random.uniform(0, 1)\n",
    "    if random_number > self.exploration_rate:\n",
    "      print(self.q_table[self.get_state_array_number(self.state), :])\n",
    "      offer = np.argmax(self.q_table[self.get_state_array_number(self.state), :]) + (self.value+1)\n",
    "    else: #exploring\n",
    "      offer = random.randint(self.value+1,self.state['last-offer']-1)\n",
    "    return offer\n",
    "\n",
    "  def update_table(self, offer, decision, new_state):\n",
    "    if decision == 'accept offer':\n",
    "      reward = offer - self.value\n",
    "    else:\n",
    "      reward = 0\n",
    "    state_array_number = self.get_state_array_number(self.state)\n",
    "    new_state_array_number = self.get_state_array_number(new_state)\n",
    "    self.q_table[state_array_number, offer-(self.value+1)] = self.q_table[state_array_number, offer-(self.value+1)] * (1 - self.learning_rate) + \\\n",
    "                                  self.learning_rate * (reward + self.discount_rate * np.max(self.q_table[new_state_array_number, :]))\n",
    "\n",
    "  # helper methods\n",
    "  def get_state_array_number(self, state):\n",
    "    return state['last-offer']-(self.value+1)+(self.init_offer-self.value)*state['offers-made']\n",
    "\n",
    "  def from_array_num_get_state(self, array_num):\n",
    "    offers_made = math.floor(array_num/(self.init_offer-self.value))\n",
    "    last_offer =  array_num % (self.init_offer-self.value) + (self.value + 1)\n",
    "    return {\"last-offer\":last_offer, \"offers-made\":offers_made}\n",
    "\n",
    "  def set_exploiting(self):\n",
    "    self.exploration_rate = 0"
   ]
  },
  {
   "cell_type": "code",
   "execution_count": 124,
   "metadata": {},
   "outputs": [],
   "source": [
    "#sample normal maxprice\n",
    "import numpy as np\n",
    "import matplotlib.pyplot as plt\n",
    "\n",
    "def show_histogram(mean, stdev):\n",
    "  num_samples = 1000\n",
    "  samples_float = np.random.normal(mean, stdev, num_samples)\n",
    "  samples = np.round(samples_float).astype(int)\n",
    "\n",
    "  # Round all values below 12 up to 11\n",
    "  samples[samples < 12] = 11\n",
    "\n",
    "  plt.hist(samples, bins=20, density=True)\n",
    "  plt.show()\n",
    "\n",
    "\n",
    "def sample_one_point(mean, stdev):\n",
    "  num_samples = 1\n",
    "  samples_float = np.random.normal(mean, stdev, num_samples)\n",
    "  samples = np.round(samples_float).astype(int)\n",
    "  sample = samples[0]\n",
    "  if sample<12:\n",
    "    return 12\n",
    "  else:\n",
    "    return sample"
   ]
  },
  {
   "cell_type": "code",
   "execution_count": 125,
   "metadata": {},
   "outputs": [
    {
     "data": {
      "image/png": "[encoded data removed]",
      "text/plain": [
       "<Figure size 640x480 with 1 Axes>"
      ]
     },
     "metadata": {},
     "output_type": "display_data"
    }
   ],
   "source": [
    "show_histogram(15,3)"
   ]
  },
  {
   "cell_type": "code",
   "execution_count": 126,
   "metadata": {},
   "outputs": [
    {
     "name": "stdout",
     "output_type": "stream",
     "text": [
      "[0. 0. 0. 0. 0.]\n"
     ]
    },
    {
     "ename": "ValueError",
     "evalue": "empty range for randrange() (11, 11, 0)",
     "output_type": "error",
     "traceback": [
      "\u001b[0;31m---------------------------------------------------------------------------\u001b[0m",
      "\u001b[0;31mValueError\u001b[0m                                Traceback (most recent call last)",
      "Cell \u001b[0;32mIn[126], line 17\u001b[0m\n\u001b[1;32m     15\u001b[0m maxprice \u001b[39m=\u001b[39m random\u001b[39m.\u001b[39mrandint(range_min, range_max)\n\u001b[1;32m     16\u001b[0m edubuyer \u001b[39m=\u001b[39m EducatedBuyer(maxprice, imp_incr)\n\u001b[0;32m---> 17\u001b[0m profits \u001b[39m=\u001b[39m two_seller_negotiation(edubuyer, sellers)\n",
      "Cell \u001b[0;32mIn[121], line 5\u001b[0m, in \u001b[0;36mtwo_seller_negotiation\u001b[0;34m(edubuyer, sellers)\u001b[0m\n\u001b[1;32m      3\u001b[0m terminate \u001b[39m=\u001b[39m \u001b[39mFalse\u001b[39;00m\n\u001b[1;32m      4\u001b[0m \u001b[39mwhile\u001b[39;00m \u001b[39mnot\u001b[39;00m terminate:\n\u001b[0;32m----> 5\u001b[0m   offers \u001b[39m=\u001b[39m [seller\u001b[39m.\u001b[39mmake_offer() \u001b[39mfor\u001b[39;00m seller \u001b[39min\u001b[39;00m sellers]\n\u001b[1;32m      6\u001b[0m   decisions \u001b[39m=\u001b[39m edubuyer\u001b[39m.\u001b[39mcheck_all_offers(offers)\n\u001b[1;32m      7\u001b[0m   terminate \u001b[39m=\u001b[39m (\u001b[39m\"\u001b[39m\u001b[39mwalk away\u001b[39m\u001b[39m\"\u001b[39m \u001b[39min\u001b[39;00m decisions \u001b[39mor\u001b[39;00m \u001b[39m\"\u001b[39m\u001b[39maccept offer\u001b[39m\u001b[39m\"\u001b[39m \u001b[39min\u001b[39;00m decisions)\n",
      "Cell \u001b[0;32mIn[121], line 5\u001b[0m, in \u001b[0;36m<listcomp>\u001b[0;34m(.0)\u001b[0m\n\u001b[1;32m      3\u001b[0m terminate \u001b[39m=\u001b[39m \u001b[39mFalse\u001b[39;00m\n\u001b[1;32m      4\u001b[0m \u001b[39mwhile\u001b[39;00m \u001b[39mnot\u001b[39;00m terminate:\n\u001b[0;32m----> 5\u001b[0m   offers \u001b[39m=\u001b[39m [seller\u001b[39m.\u001b[39;49mmake_offer() \u001b[39mfor\u001b[39;00m seller \u001b[39min\u001b[39;00m sellers]\n\u001b[1;32m      6\u001b[0m   decisions \u001b[39m=\u001b[39m edubuyer\u001b[39m.\u001b[39mcheck_all_offers(offers)\n\u001b[1;32m      7\u001b[0m   terminate \u001b[39m=\u001b[39m (\u001b[39m\"\u001b[39m\u001b[39mwalk away\u001b[39m\u001b[39m\"\u001b[39m \u001b[39min\u001b[39;00m decisions \u001b[39mor\u001b[39;00m \u001b[39m\"\u001b[39m\u001b[39maccept offer\u001b[39m\u001b[39m\"\u001b[39m \u001b[39min\u001b[39;00m decisions)\n",
      "Cell \u001b[0;32mIn[123], line 28\u001b[0m, in \u001b[0;36mQLearningSeller.make_offer\u001b[0;34m(self)\u001b[0m\n\u001b[1;32m     26\u001b[0m   offer \u001b[39m=\u001b[39m np\u001b[39m.\u001b[39margmax(\u001b[39mself\u001b[39m\u001b[39m.\u001b[39mq_table[\u001b[39mself\u001b[39m\u001b[39m.\u001b[39mget_state_array_number(\u001b[39mself\u001b[39m\u001b[39m.\u001b[39mstate), :]) \u001b[39m+\u001b[39m (\u001b[39mself\u001b[39m\u001b[39m.\u001b[39mvalue\u001b[39m+\u001b[39m\u001b[39m1\u001b[39m)\n\u001b[1;32m     27\u001b[0m \u001b[39melse\u001b[39;00m: \u001b[39m#exploring\u001b[39;00m\n\u001b[0;32m---> 28\u001b[0m   offer \u001b[39m=\u001b[39m random\u001b[39m.\u001b[39;49mrandint(\u001b[39mself\u001b[39;49m\u001b[39m.\u001b[39;49mvalue\u001b[39m+\u001b[39;49m\u001b[39m1\u001b[39;49m,\u001b[39mself\u001b[39;49m\u001b[39m.\u001b[39;49mstate[\u001b[39m'\u001b[39;49m\u001b[39mlast-offer\u001b[39;49m\u001b[39m'\u001b[39;49m]\u001b[39m-\u001b[39;49m\u001b[39m1\u001b[39;49m)\n\u001b[1;32m     29\u001b[0m \u001b[39mreturn\u001b[39;00m offer\n",
      "File \u001b[0;32m/Library/Developer/CommandLineTools/Library/Frameworks/Python3.framework/Versions/3.9/lib/python3.9/random.py:338\u001b[0m, in \u001b[0;36mRandom.randint\u001b[0;34m(self, a, b)\u001b[0m\n\u001b[1;32m    334\u001b[0m \u001b[39mdef\u001b[39;00m \u001b[39mrandint\u001b[39m(\u001b[39mself\u001b[39m, a, b):\n\u001b[1;32m    335\u001b[0m \u001b[39m    \u001b[39m\u001b[39m\"\"\"Return random integer in range [a, b], including both end points.\u001b[39;00m\n\u001b[1;32m    336\u001b[0m \u001b[39m    \"\"\"\u001b[39;00m\n\u001b[0;32m--> 338\u001b[0m     \u001b[39mreturn\u001b[39;00m \u001b[39mself\u001b[39;49m\u001b[39m.\u001b[39;49mrandrange(a, b\u001b[39m+\u001b[39;49m\u001b[39m1\u001b[39;49m)\n",
      "File \u001b[0;32m/Library/Developer/CommandLineTools/Library/Frameworks/Python3.framework/Versions/3.9/lib/python3.9/random.py:316\u001b[0m, in \u001b[0;36mRandom.randrange\u001b[0;34m(self, start, stop, step)\u001b[0m\n\u001b[1;32m    314\u001b[0m     \u001b[39mreturn\u001b[39;00m istart \u001b[39m+\u001b[39m \u001b[39mself\u001b[39m\u001b[39m.\u001b[39m_randbelow(width)\n\u001b[1;32m    315\u001b[0m \u001b[39mif\u001b[39;00m step \u001b[39m==\u001b[39m \u001b[39m1\u001b[39m:\n\u001b[0;32m--> 316\u001b[0m     \u001b[39mraise\u001b[39;00m \u001b[39mValueError\u001b[39;00m(\u001b[39m\"\u001b[39m\u001b[39mempty range for randrange() (\u001b[39m\u001b[39m%d\u001b[39;00m\u001b[39m, \u001b[39m\u001b[39m%d\u001b[39;00m\u001b[39m, \u001b[39m\u001b[39m%d\u001b[39;00m\u001b[39m)\u001b[39m\u001b[39m\"\u001b[39m \u001b[39m%\u001b[39m (istart, istop, width))\n\u001b[1;32m    318\u001b[0m \u001b[39m# Non-unit step argument supplied.\u001b[39;00m\n\u001b[1;32m    319\u001b[0m istep \u001b[39m=\u001b[39m \u001b[39mint\u001b[39m(step)\n",
      "\u001b[0;31mValueError\u001b[0m: empty range for randrange() (11, 11, 0)"
     ]
    }
   ],
   "source": [
    "range_min = 11\n",
    "range_max = 15\n",
    "#show_histogram(mean, stdev)\n",
    "value = 10\n",
    "rounds = 10000\n",
    "imp_incr = 0.1\n",
    "\n",
    "init_offer = range_max\n",
    "n = int((init_offer-value)/2)\n",
    "random_seller = RandomSeller(value=value, init_offer=init_offer)\n",
    "qseller = QLearningSeller(value=value, init_offer=init_offer)\n",
    "sellers = [random_seller, qseller]\n",
    "\n",
    "for i in range(100):\n",
    "  maxprice = random.randint(range_min, range_max)\n",
    "  edubuyer = EducatedBuyer(maxprice, imp_incr)\n",
    "  profits = two_seller_negotiation(edubuyer, sellers)"
   ]
  },
  {
   "cell_type": "code",
   "execution_count": null,
   "metadata": {},
   "outputs": [],
   "source": [
    "def two_seller_negotiation(edubuyer, sellers):\n",
    "  # assume 2 sellers\n",
    "  terminate = False\n",
    "  while not terminate:\n",
    "    offers = [seller.make_offer() for seller in sellers]\n",
    "    decisions = edubuyer.check_all_offers(offers)\n",
    "    terminate = (\"walk away\" in decisions or \"accept offer\" in decisions)\n",
    "    # this kind of a junky way to code it\n",
    "    # but it works for now\n",
    "    for i, seller in enumerate(sellers):\n",
    "      new_state = {\"last-offer\":offers[i],\n",
    "                  \"comp-last-offer\":(offers[:i] + offers[i+1:])[0],\n",
    "                  \"offers-made\":seller.state[\"offers-made\"]+1}\n",
    "      seller.update_table(offers[i], decisions[i], new_state)\n",
    "      seller.state = new_state\n",
    "  # get reward for the agents if terminated\n",
    "  profits = [None for i in range(len(sellers))]\n",
    "  for i, seller in enumerate(sellers):\n",
    "    if decisions[i] == \"accept offer\":\n",
    "      profits[i]=seller.state[\"last-offer\"]-seller.value\n",
    "    elif decisions[i] == \"walk away\":\n",
    "      profits[i]=0\n",
    "    elif decisions[i] == \"competitor won\":\n",
    "      profits[i]=0\n",
    "  return profits"
   ]
  },
  {
   "cell_type": "code",
   "execution_count": 146,
   "metadata": {},
   "outputs": [
    {
     "name": "stdout",
     "output_type": "stream",
     "text": [
      "Defaulting to user installation because normal site-packages is not writeable\n",
      "Requirement already satisfied: tabulate in /Users/mbondarenko/Library/Python/3.9/lib/python/site-packages (0.9.0)\n",
      "\u001b[33mWARNING: You are using pip version 21.2.4; however, version 23.1.2 is available.\n",
      "You should consider upgrading via the '/Library/Developer/CommandLineTools/usr/bin/python3 -m pip install --upgrade pip' command.\u001b[0m\n",
      "Note: you may need to restart the kernel to use updated packages.\n"
     ]
    }
   ],
   "source": [
    "%pip install tabulate"
   ]
  },
  {
   "cell_type": "code",
   "execution_count": 147,
   "metadata": {},
   "outputs": [],
   "source": [
    "\n",
    "from tabulate import tabulate\n",
    "import math\n",
    "\n",
    "\n",
    "import random\n",
    "class QLearningSeller(Seller):\n",
    "  def __init__(self, value, init_offer):\n",
    "    super().__init__(value, init_offer)\n",
    "    action_space_size = self.init_offer - self.value\n",
    "    state_space_size = (self.init_offer - self.value) ** 2\n",
    "    self.q_table = np.zeros((state_space_size, action_space_size))\n",
    "\n",
    "    # Q-Learning parameters\n",
    "    # alpha\n",
    "    self.learning_rate = 0.1\n",
    "    # gamma\n",
    "    self.discount_rate = 0.99\n",
    "    # exploration rate for when the model is still learning\n",
    "    self.exploration_rate = .15\n",
    "\n",
    "    # # unused variables for a changing exploration rate\n",
    "    # self.max_exploration_rate = 1\n",
    "    # self.min_exploration_rate = 0.01\n",
    "    # self.exploration_decay_rate = 0.001\n",
    "\n",
    "  def make_offer(self):\n",
    "    random_number = random.uniform(0, 1)\n",
    "    if random_number > self.exploration_rate:\n",
    "      self.print_table\n",
    "      offer = np.argmax(self.q_table[self.get_state_array_number(self.state), :]) + (self.value+1)\n",
    "    else: #exploring\n",
    "      offer = random.randint(self.value+1,self.state['last-offer'])\n",
    "    return offer\n",
    "\n",
    "  def update_table(self, offer, decision, new_state):\n",
    "    if decision == 'accept offer':\n",
    "      reward = offer - self.value\n",
    "    else:\n",
    "      reward = 0\n",
    "    state_array_number = self.get_state_array_number(self.state)\n",
    "    new_state_array_number = self.get_state_array_number(new_state)\n",
    "    self.q_table[state_array_number, offer-(self.value+1)] = self.q_table[state_array_number, offer-(self.value+1)] * (1 - self.learning_rate) + \\\n",
    "                                  self.learning_rate * (reward + self.discount_rate * np.max(self.q_table[new_state_array_number, :]))\n",
    "\n",
    "  # helper methods\n",
    "  def get_state_array_number(self, state):\n",
    "    return state['last-offer']-(self.value+1)+(self.init_offer-self.value)*state['offers-made']\n",
    "\n",
    "  def from_array_num_get_state(self, array_num):\n",
    "    offers_made = math.floor(array_num/(self.init_offer-self.value))\n",
    "    last_offer =  array_num % (self.init_offer-self.value) + (self.value + 1)\n",
    "    return {\"last-offer\":last_offer, \"offers-made\":offers_made}\n",
    "\n",
    "  def set_exploiting(self):\n",
    "    self.exploration_rate = 0\n",
    "\n",
    "  def print_table(self):\n",
    "      headers = [str(i) for i in range(self.q_table.shape[1])]\n",
    "      rows = [list(map(str, row)) for row in self.q_table.tolist()]\n",
    "      formatted_rows = [[f\"State {i}\"] + row for i, row in enumerate(rows)]\n",
    "      print(tabulate(formatted_rows, headers, tablefmt='fancy_grid'))\n",
    "\n"
   ]
  },
  {
   "cell_type": "code",
   "execution_count": 148,
   "metadata": {},
   "outputs": [],
   "source": [
    "def sample_one_point(mean, stdev):\n",
    "  num_samples = 1\n",
    "  samples_float = np.random.normal(mean, stdev, num_samples)\n",
    "  samples = np.round(samples_float).astype(int)\n",
    "  sample = samples[0]\n",
    "  if sample<12:\n",
    "    return 11\n",
    "  else:\n",
    "    return sample"
   ]
  },
  {
   "cell_type": "code",
   "execution_count": 149,
   "metadata": {},
   "outputs": [
    {
     "name": "stdout",
     "output_type": "stream",
     "text": [
      "[0. 0. 0. 0. 0.]\n"
     ]
    },
    {
     "ename": "IndexError",
     "evalue": "index 25 is out of bounds for axis 0 with size 25",
     "output_type": "error",
     "traceback": [
      "\u001b[0;31m---------------------------------------------------------------------------\u001b[0m",
      "\u001b[0;31mIndexError\u001b[0m                                Traceback (most recent call last)",
      "Cell \u001b[0;32mIn[149], line 6\u001b[0m\n\u001b[1;32m      4\u001b[0m maxprice \u001b[39m=\u001b[39m sample_one_point(mean,stdev)\n\u001b[1;32m      5\u001b[0m edubuyer \u001b[39m=\u001b[39m EducatedBuyer(maxprice, imp_incr)\n\u001b[0;32m----> 6\u001b[0m profits \u001b[39m=\u001b[39m two_seller_negotiation(edubuyer, sellers)\n\u001b[1;32m      7\u001b[0m \u001b[39mfor\u001b[39;00m i \u001b[39min\u001b[39;00m \u001b[39mrange\u001b[39m(\u001b[39mlen\u001b[39m(total_profits)):\n\u001b[1;32m      8\u001b[0m   total_profits[i] \u001b[39m+\u001b[39m\u001b[39m=\u001b[39m profits[i]\n",
      "Cell \u001b[0;32mIn[127], line 14\u001b[0m, in \u001b[0;36mtwo_seller_negotiation\u001b[0;34m(edubuyer, sellers)\u001b[0m\n\u001b[1;32m     10\u001b[0m   \u001b[39mfor\u001b[39;00m i, seller \u001b[39min\u001b[39;00m \u001b[39menumerate\u001b[39m(sellers):\n\u001b[1;32m     11\u001b[0m     new_state \u001b[39m=\u001b[39m {\u001b[39m\"\u001b[39m\u001b[39mlast-offer\u001b[39m\u001b[39m\"\u001b[39m:offers[i],\n\u001b[1;32m     12\u001b[0m                 \u001b[39m\"\u001b[39m\u001b[39mcomp-last-offer\u001b[39m\u001b[39m\"\u001b[39m:(offers[:i] \u001b[39m+\u001b[39m offers[i\u001b[39m+\u001b[39m\u001b[39m1\u001b[39m:])[\u001b[39m0\u001b[39m],\n\u001b[1;32m     13\u001b[0m                 \u001b[39m\"\u001b[39m\u001b[39moffers-made\u001b[39m\u001b[39m\"\u001b[39m:seller\u001b[39m.\u001b[39mstate[\u001b[39m\"\u001b[39m\u001b[39moffers-made\u001b[39m\u001b[39m\"\u001b[39m]\u001b[39m+\u001b[39m\u001b[39m1\u001b[39m}\n\u001b[0;32m---> 14\u001b[0m     seller\u001b[39m.\u001b[39;49mupdate_table(offers[i], decisions[i], new_state)\n\u001b[1;32m     15\u001b[0m     seller\u001b[39m.\u001b[39mstate \u001b[39m=\u001b[39m new_state\n\u001b[1;32m     16\u001b[0m \u001b[39m# get reward for the agents if terminated\u001b[39;00m\n",
      "Cell \u001b[0;32mIn[123], line 39\u001b[0m, in \u001b[0;36mQLearningSeller.update_table\u001b[0;34m(self, offer, decision, new_state)\u001b[0m\n\u001b[1;32m     36\u001b[0m state_array_number \u001b[39m=\u001b[39m \u001b[39mself\u001b[39m\u001b[39m.\u001b[39mget_state_array_number(\u001b[39mself\u001b[39m\u001b[39m.\u001b[39mstate)\n\u001b[1;32m     37\u001b[0m new_state_array_number \u001b[39m=\u001b[39m \u001b[39mself\u001b[39m\u001b[39m.\u001b[39mget_state_array_number(new_state)\n\u001b[1;32m     38\u001b[0m \u001b[39mself\u001b[39m\u001b[39m.\u001b[39mq_table[state_array_number, offer\u001b[39m-\u001b[39m(\u001b[39mself\u001b[39m\u001b[39m.\u001b[39mvalue\u001b[39m+\u001b[39m\u001b[39m1\u001b[39m)] \u001b[39m=\u001b[39m \u001b[39mself\u001b[39m\u001b[39m.\u001b[39mq_table[state_array_number, offer\u001b[39m-\u001b[39m(\u001b[39mself\u001b[39m\u001b[39m.\u001b[39mvalue\u001b[39m+\u001b[39m\u001b[39m1\u001b[39m)] \u001b[39m*\u001b[39m (\u001b[39m1\u001b[39m \u001b[39m-\u001b[39m \u001b[39mself\u001b[39m\u001b[39m.\u001b[39mlearning_rate) \u001b[39m+\u001b[39m \\\n\u001b[0;32m---> 39\u001b[0m                               \u001b[39mself\u001b[39m\u001b[39m.\u001b[39mlearning_rate \u001b[39m*\u001b[39m (reward \u001b[39m+\u001b[39m \u001b[39mself\u001b[39m\u001b[39m.\u001b[39mdiscount_rate \u001b[39m*\u001b[39m np\u001b[39m.\u001b[39mmax(\u001b[39mself\u001b[39;49m\u001b[39m.\u001b[39;49mq_table[new_state_array_number, :]))\n",
      "\u001b[0;31mIndexError\u001b[0m: index 25 is out of bounds for axis 0 with size 25"
     ]
    }
   ],
   "source": [
    "total_profits = [0 for i in range(len(sellers))]\n",
    "\n",
    "for i in range(rounds):\n",
    "  maxprice = sample_one_point(mean,stdev)\n",
    "  edubuyer = EducatedBuyer(maxprice, imp_incr)\n",
    "  profits = two_seller_negotiation(edubuyer, sellers)\n",
    "  for i in range(len(total_profits)):\n",
    "    total_profits[i] += profits[i]\n",
    "print(total_profits)"
   ]
  },
  {
   "cell_type": "code",
   "execution_count": 150,
   "metadata": {},
   "outputs": [
    {
     "data": {
      "image/png": "[encoded data removed]",
      "text/plain": [
       "<Figure size 640x480 with 1 Axes>"
      ]
     },
     "metadata": {},
     "output_type": "display_data"
    }
   ],
   "source": [
    "from buyers import Buyer\n",
    "from simulations import basic_simulation\n",
    "\n",
    "range_min = 11\n",
    "range_max = 15\n",
    "rounds = 100\n",
    "init_offer=range_max\n",
    "\n",
    "sellerQ = QLearningSeller(value=value, init_offer=init_offer)\n",
    "results = []\n",
    "for i in range(1):\n",
    "    result = basic_simulation(value,\n",
    "                              range_min,\n",
    "                              range_max,\n",
    "                              imp_init=0,\n",
    "                              imp_incr=imp_incr,\n",
    "                              rounds = rounds,\n",
    "                              seller=sellerQ,\n",
    "                              verbose=False)\n",
    "    results.append(result)\n",
    "\n",
    "import matplotlib.pyplot as plt\n",
    "# Plotting the data\n",
    "plt.plot(results)\n",
    "\n",
    "# Adding labels and title\n",
    "plt.xlabel('X-axis')\n",
    "plt.ylabel('Y-axis')\n",
    "plt.title('Data Graph')\n",
    "\n",
    "# Displaying the graph\n",
    "plt.show()\n"
   ]
  },
  {
   "cell_type": "code",
   "execution_count": null,
   "metadata": {},
   "outputs": [],
   "source": []
  },
  {
   "cell_type": "code",
   "execution_count": null,
   "metadata": {},
   "outputs": [],
   "source": []
  }
 ],
 "metadata": {
  "kernelspec": {
   "display_name": "Python 3",
   "language": "python",
   "name": "python3"
  },
  "language_info": {
   "codemirror_mode": {
    "name": "ipython",
    "version": 3
   },
   "file_extension": ".py",
   "mimetype": "text/x-python",
   "name": "python",
   "nbconvert_exporter": "python",
   "pygments_lexer": "ipython3",
   "version": "3.9.6"
  },
  "orig_nbformat": 4
 },
 "nbformat": 4,
 "nbformat_minor": 2
}
