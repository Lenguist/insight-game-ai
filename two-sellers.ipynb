{
 "cells": [
  {
   "attachments": {},
   "cell_type": "markdown",
   "metadata": {},
   "source": [
    "# Two sellers"
   ]
  },
  {
   "cell_type": "code",
   "execution_count": 1,
   "metadata": {},
   "outputs": [],
   "source": [
    "#sample normal maxprice\n",
    "import numpy as np\n",
    "import matplotlib.pyplot as plt\n",
    "\n",
    "def show_histogram(mean, stdev):\n",
    "  num_samples = 1000\n",
    "  samples_float = np.random.normal(mean, stdev, num_samples)\n",
    "  samples = np.round(samples_float).astype(int)\n",
    "  plt.hist(samples, bins=20, density=True)\n",
    "  plt.show()\n",
    "\n",
    "def sample_one_point(mean, stdev):\n",
    "  num_samples = 1\n",
    "  samples_float = np.random.normal(mean, stdev, num_samples)\n",
    "  samples = np.round(samples_float).astype(int)\n",
    "  return samples[0]"
   ]
  },
  {
   "cell_type": "code",
   "execution_count": 2,
   "metadata": {},
   "outputs": [],
   "source": [
    "def two_seller_negotiation(edubuyer, sellers):\n",
    "  # assume 2 sellers\n",
    "  terminate = False\n",
    "  while not terminate:\n",
    "    offers = [seller.make_offer() for seller in sellers]\n",
    "    decisions = edubuyer.check_all_offers(offers)\n",
    "    terminate = (\"walk away\" in decisions or \"accept offer\" in decisions)\n",
    "    # this kind of a junky way to code it\n",
    "    # but it works for now\n",
    "    for i, seller in enumerate(sellers):\n",
    "      new_state = {\"last-offer\":offers[i],\n",
    "                  \"comp-last-offer\":(offers[:i] + offers[i+1:])[0],\n",
    "                  \"offers-made\":seller.state[\"offers-made\"]+1}\n",
    "      seller.state = new_state\n",
    "  # get reward for the agents if terminated\n",
    "  profits = [None for i in range(len(sellers))]\n",
    "  for i, seller in enumerate(sellers):\n",
    "    if decisions[i] == \"accept offer\":\n",
    "      profits[i]=seller.state[\"last-offer\"]-seller.value\n",
    "    elif decisions[i] == \"walk away\":\n",
    "      profits[i]=0\n",
    "    elif decisions[i] == \"competitor won\":\n",
    "      profits[i]=0\n",
    "  return profits"
   ]
  },
  {
   "cell_type": "code",
   "execution_count": 3,
   "metadata": {},
   "outputs": [],
   "source": [
    "from buyers import EducatedBuyer\n",
    "from sellers import RandomSeller, Seller, DescentArithmeticSeller"
   ]
  },
  {
   "cell_type": "code",
   "execution_count": 4,
   "metadata": {},
   "outputs": [],
   "source": [
    "import random\n",
    "class QLearningSeller(Seller):\n",
    "  def __init__(self, value, init_offer):\n",
    "    super().__init__(value, init_offer)\n",
    "    action_space_size = self.init_offer - self.value\n",
    "    state_space_size = (self.init_offer - self.value) ** 2\n",
    "    self.q_table = np.zeros((state_space_size, action_space_size))\n",
    "\n",
    "    # Q-Learning parameters\n",
    "    # alpha\n",
    "    self.learning_rate = 0.1\n",
    "    # gamma\n",
    "    self.discount_rate = 0.99\n",
    "    # exploration rate for when the model is still learning\n",
    "    self.exploration_rate = .15\n",
    "\n",
    "    # # unused variables for a changing exploration rate\n",
    "    # self.max_exploration_rate = 1\n",
    "    # self.min_exploration_rate = 0.01\n",
    "    # self.exploration_decay_rate = 0.001\n",
    "\n",
    "  def make_offer(self):\n",
    "    random_number = random.uniform(0, 1)\n",
    "    if random_number > self.exploration_rate:\n",
    "      offer = np.argmax(self.q_table[self.get_state_array_number(self.state), :]) + (self.value+1)\n",
    "    else: #exploring\n",
    "      offer = random.randint(self.value+1,self.state['last-offer']-1)\n",
    "    return offer\n",
    "\n",
    "  def update_table(self, offer, decision, new_state):\n",
    "    if decision == 'accept offer':\n",
    "      reward = offer - self.value\n",
    "    else:\n",
    "      reward = 0\n",
    "    state_array_number = self.get_state_array_number(self.state)\n",
    "    new_state_array_number = self.get_state_array_number(new_state)\n",
    "    self.q_table[state_array_number, offer-(self.value+1)] = self.q_table[state_array_number, offer-(self.value+1)] * (1 - self.learning_rate) + \\\n",
    "                                  self.learning_rate * (reward + self.discount_rate * np.max(self.q_table[new_state_array_number, :]))\n",
    "\n",
    "  # helper methods\n",
    "  def get_state_array_number(self, state):\n",
    "    return state['last-offer']-(self.value+1)+(self.init_offer-self.value)*state['offers-made']\n",
    "\n",
    "  def from_array_num_get_state(self, array_num):\n",
    "    offers_made = math.floor(array_num/(self.init_offer-self.value))\n",
    "    last_offer =  array_num % (self.init_offer-self.value) + (self.value + 1)\n",
    "    return {\"last-offer\":last_offer, \"offers-made\":offers_made}\n",
    "\n",
    "  def set_exploiting(self):\n",
    "    self.exploration_rate = 0"
   ]
  },
  {
   "cell_type": "code",
   "execution_count": 8,
   "metadata": {},
   "outputs": [
    {
     "name": "stdout",
     "output_type": "stream",
     "text": [
      "[4734, 4617]\n"
     ]
    }
   ],
   "source": [
    "# buyer distrubution\n",
    "mean = 15\n",
    "stdev = 3\n",
    "#show_histogram(mean, stdev)\n",
    "value = 10\n",
    "rounds = 10000\n",
    "imp_incr = 0.1\n",
    "\n",
    "init_offer = mean+4*stdev\n",
    "n = int((init_offer-value)/2)\n",
    "random_seller = RandomSeller(value=value, init_offer=init_offer)\n",
    "heuristic_seller = DescentArithmeticSeller(value=value, init_offer=init_offer, init_descent = n)\n",
    "sellers = [random_seller, heuristic_seller]\n",
    "\n",
    "\n",
    "total_profits = [0 for i in range(len(sellers))]\n",
    "\n",
    "for i in range(rounds):\n",
    "  maxprice = sample_one_point(mean,stdev)\n",
    "  edubuyer = EducatedBuyer(maxprice, imp_incr)\n",
    "  profits = two_seller_negotiation(edubuyer, sellers)\n",
    "  for i in range(len(total_profits)):\n",
    "    total_profits[i] += profits[i]\n",
    "print(total_profits)"
   ]
  },
  {
   "cell_type": "code",
   "execution_count": null,
   "metadata": {},
   "outputs": [],
   "source": []
  }
 ],
 "metadata": {
  "kernelspec": {
   "display_name": "Python 3",
   "language": "python",
   "name": "python3"
  },
  "language_info": {
   "codemirror_mode": {
    "name": "ipython",
    "version": 3
   },
   "file_extension": ".py",
   "mimetype": "text/x-python",
   "name": "python",
   "nbconvert_exporter": "python",
   "pygments_lexer": "ipython3",
   "version": "3.9.6"
  },
  "orig_nbformat": 4
 },
 "nbformat": 4,
 "nbformat_minor": 2
}
