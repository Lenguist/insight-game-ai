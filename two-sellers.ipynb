{
 "cells": [
  {
   "cell_type": "code",
   "execution_count": 1,
   "metadata": {},
   "outputs": [],
   "source": [
    "# get one seller Q leaning to work\n",
    "# print table nicelya to a\n",
    "# llow diagnosing issues\n",
    "# get twoseller Q learning to wokr\n",
    "# get one seller Q learning with normal maxprice generation to work\n",
    "# get two seller Q learning with normal maxprice to work\n",
    "# get two seller Q learning with taking competitor offer into account to work"
   ]
  },
  {
   "attachments": {},
   "cell_type": "markdown",
   "metadata": {},
   "source": [
    "# One Seller Q learning"
   ]
  },
  {
   "cell_type": "code",
   "execution_count": 2,
   "metadata": {},
   "outputs": [],
   "source": [
    "from sellers import Seller"
   ]
  },
  {
   "cell_type": "code",
   "execution_count": 3,
   "metadata": {},
   "outputs": [],
   "source": [
    "import random\n",
    "class QLearningSeller(Seller):\n",
    "  def __init__(self, value, init_offer):\n",
    "    super().__init__(value, init_offer)\n",
    "    action_space_size = self.init_offer - self.value\n",
    "    state_space_size = (self.init_offer - self.value) ** 2\n",
    "    self.q_table = np.zeros((state_space_size, action_space_size))\n",
    "\n",
    "    # Q-Learning parameters\n",
    "    # alpha\n",
    "    self.learning_rate = 0.1\n",
    "    # gamma\n",
    "    self.discount_rate = 0.99\n",
    "    # exploration rate for when the model is still learning\n",
    "    self.exploration_rate = .15\n",
    "\n",
    "    # # unused variables for a changing exploration rate\n",
    "    # self.max_exploration_rate = 1\n",
    "    # self.min_exploration_rate = 0.01\n",
    "    # self.exploration_decay_rate = 0.001\n",
    "\n",
    "  def make_offer(self):\n",
    "    random_number = random.uniform(0, 1)\n",
    "    if random_number > self.exploration_rate:\n",
    "      print(self.q_table[self.get_state_array_number(self.state), :])\n",
    "      offer = np.argmax(self.q_table[self.get_state_array_number(self.state), :]) + (self.value+1)\n",
    "    else: #exploring\n",
    "      offer = random.randint(self.value+1,self.state['last-offer']-1)\n",
    "    return offer\n",
    "\n",
    "  def update_table(self, offer, decision, new_state):\n",
    "    if decision == 'accept offer':\n",
    "      reward = offer - self.value\n",
    "    else:\n",
    "      reward = 0\n",
    "    state_array_number = self.get_state_array_number(self.state)\n",
    "    new_state_array_number = self.get_state_array_number(new_state)\n",
    "    self.q_table[state_array_number, offer-(self.value+1)] = self.q_table[state_array_number, offer-(self.value+1)] * (1 - self.learning_rate) + \\\n",
    "                                  self.learning_rate * (reward + self.discount_rate * np.max(self.q_table[new_state_array_number, :]))\n",
    "\n",
    "  # helper methods\n",
    "  def get_state_array_number(self, state):\n",
    "    return state['last-offer']-(self.value+1)+(self.init_offer-self.value)*state['offers-made']\n",
    "\n",
    "  def from_array_num_get_state(self, array_num):\n",
    "    offers_made = math.floor(array_num/(self.init_offer-self.value))\n",
    "    last_offer =  array_num % (self.init_offer-self.value) + (self.value + 1)\n",
    "    return {\"last-offer\":last_offer, \"offers-made\":offers_made}\n",
    "\n",
    "  def set_exploiting(self):\n",
    "    self.exploration_rate = 0"
   ]
  },
  {
   "attachments": {},
   "cell_type": "markdown",
   "metadata": {},
   "source": [
    "# Two sellers"
   ]
  },
  {
   "cell_type": "code",
   "execution_count": 4,
   "metadata": {},
   "outputs": [],
   "source": [
    "#buyer for two or more sellers\n",
    "class EducatedBuyer(object):\n",
    "    def __init__(self, max_price, imp_incr):\n",
    "        self.max_price = max_price\n",
    "        self.imp = 0\n",
    "        self.imp_incr = imp_incr\n",
    "\n",
    "    def check_all_offers(self, offers):\n",
    "        decisions = [] # saves decision for each offer\n",
    "        accept_indices = [] # saves indices of accepted offers\n",
    "        accept_values = [] # saves values of accepted offers\n",
    "\n",
    "        random_number = random.uniform(0, 1)\n",
    "        if random_number <= self.imp:\n",
    "            for i in range(len(offers)):\n",
    "                decisions.append(\"walk away\")\n",
    "        else:\n",
    "            for i, offer in enumerate(offers):\n",
    "                if offer <= self.max_price:\n",
    "                    decisions.append(\"accept offer\")\n",
    "                    accept_indices.append(i)\n",
    "                    accept_values.append(offer)\n",
    "                else:\n",
    "                    decisions.append(\"reject but continue\")\n",
    "\n",
    "        # if more than one offer is accepted\n",
    "        # NEED OT CHANGE REJECT BUT CONTINUE TO COMPETITOR WON OUT IF THERE ARE ANY ACCEPTS AT ALL\n",
    "        if len(accept_indices) > 0:\n",
    "            min_value = min(accept_values)\n",
    "            min_indices = [i for i, value in zip(accept_indices, accept_values) if value == min_value]\n",
    "\n",
    "            if len(min_indices) > 1:\n",
    "                # randomly choose an offer to accept if there are multiple offers with the minimum value\n",
    "                accept_index = random.choice(min_indices)\n",
    "            else:\n",
    "                # if there is a unique minimum, accept it\n",
    "                accept_index = min_indices[0]\n",
    "            for idx in range(len(decisions)):\n",
    "              if idx == accept_index:\n",
    "                decisions[idx] = \"accept offer\"\n",
    "              else:\n",
    "                decisions[idx] = \"competitor won\"\n",
    "\n",
    "        self.imp += self.imp_incr\n",
    "        return decisions"
   ]
  },
  {
   "cell_type": "code",
   "execution_count": 116,
   "metadata": {},
   "outputs": [],
   "source": []
  },
  {
   "cell_type": "code",
   "execution_count": 28,
   "metadata": {},
   "outputs": [
    {
     "name": "stdout",
     "output_type": "stream",
     "text": [
      "[55, 46]\n"
     ]
    }
   ],
   "source": [
    "from sellers import RandomSeller\n",
    "\n",
    "range_min = 11\n",
    "range_max = 30\n",
    "value = 10\n",
    "rounds = 10\n",
    "imp_incr = 0.1\n",
    "\n",
    "init_offer = range_max\n",
    "\n",
    "random_seller = RandomSeller(value=value, init_offer=init_offer)\n",
    "qseller = RandomSeller(value=value, init_offer=init_offer)\n",
    "sellers = [random_seller, qseller]\n",
    "\n",
    "total_profits = [0 for i in range(len(sellers))]\n",
    "for i in range(rounds):\n",
    "  maxprice = random.randint(range_min, range_max)\n",
    "  edubuyer = EducatedBuyer(maxprice, imp_incr)\n",
    "  profits = two_seller_negotiation(edubuyer, sellers, False)\n",
    "  for i in range(len(sellers)):\n",
    "    total_profits[i] += profits[i]\n",
    "print(total_profits)\n"
   ]
  },
  {
   "cell_type": "code",
   "execution_count": null,
   "metadata": {},
   "outputs": [],
   "source": [
    "import random\n",
    "import json\n",
    "import pandas as pd\n",
    "\n",
    "class UpdatedQLearningSeller(Seller):\n",
    "    def __init__(self, value, init_offer):\n",
    "        super().__init__(value, init_offer)\n",
    "        self.q_dict = {}\n",
    "\n",
    "        self.learning_rate = .1\n",
    "        self.discount_rate = 1\n",
    "        self.exploration_rate = .1\n",
    "\n",
    "    def make_offer(self):\n",
    "        random_number = random.uniform(0, 1)\n",
    "        state = (self.state['last-offer'], self.state['offers-made'])\n",
    "        if random_number > self.exploration_rate:\n",
    "          if state in self.q_dict and self.q_dict[state]:  # checking if state is a valid key and the corresponding dictionary is not empty\n",
    "            offer = max(self.q_dict[state], key=self.q_dict[state].get) + (self.value + 1)\n",
    "          else:  # you can define a default behavior when the state is not in the Q-table yet\n",
    "            offer = random.randint(self.value+1, self.state['last-offer'])\n",
    "        else:\n",
    "            offer = random.randint(self.value+1, self.state['last-offer'])\n",
    "        return offer\n",
    "\n",
    "    def update_table(self, offer, decision, new_state):\n",
    "        reward = offer - self.value if decision == 'accept offer' else 0\n",
    "        state = (self.state['last-offer'], self.state['offers-made'])\n",
    "        new_state = (new_state['last-offer'], new_state['offers-made'])\n",
    "        action = offer\n",
    "\n",
    "        old_q_value = self.q_dict.get(state, {}).get(action, 0)\n",
    "        max_new_state_q_value = max(self.q_dict.get(new_state, {}).values(), default=0)\n",
    "        new_q_value = (1 - self.learning_rate) * old_q_value + self.learning_rate * (reward + self.discount_rate * max_new_state_q_value)\n",
    "\n",
    "        if state not in self.q_dict:\n",
    "            self.q_dict[state] = {}\n",
    "\n",
    "        self.q_dict[state][action] = new_q_value\n",
    "\n",
    "    def set_exploiting(self):\n",
    "        self.exploration_rate = 0\n",
    "\n",
    "    def give_table(self):\n",
    "        # convert the q_dict to a DataFrame\n",
    "        df = pd.DataFrame(self.q_dict).T\n",
    "        return df\n",
    "\n"
   ]
  },
  {
   "attachments": {},
   "cell_type": "markdown",
   "metadata": {},
   "source": [
    "# Q learning two sellers"
   ]
  },
  {
   "cell_type": "code",
   "execution_count": 123,
   "metadata": {},
   "outputs": [],
   "source": [
    "def two_seller_negotiation(edubuyer, sellers, verbose = False):\n",
    "  # assume 2 sellers\n",
    "  terminate = False\n",
    "  if verbose:\n",
    "    print(f\"buyer maxprice: {edubuyer.max_price}\")\n",
    "    for i, seller  in enumerate(sellers):\n",
    "      print(f\"seller{i} state: {seller.state}\")\n",
    "    print()\n",
    "  while not terminate:\n",
    "\n",
    "    offers = [seller.make_offer() for seller in sellers]\n",
    "    decisions = edubuyer.check_all_offers(offers)\n",
    "    terminate = (\"walk away\" in decisions or \"accept offer\" in decisions)\n",
    "    # this kind of a junky way to code it\n",
    "    # but it works for now\n",
    "    for i, seller in enumerate(sellers):\n",
    "      new_state = {\"last-offer\":offers[i],\n",
    "                  \"comp-last-offer\":(offers[:i] + offers[i+1:])[0],\n",
    "                  \"offers-made\":seller.state[\"offers-made\"]+1}\n",
    "      seller.update_table(offers[i], decisions[i], new_state)\n",
    "      seller.state = new_state\n",
    "\n",
    "      if verbose:\n",
    "        print(f\"seller{i} state: {seller.state}\")\n",
    "        print(f\"decision {decisions[i]}\")\n",
    "\n",
    "    if verbose:\n",
    "      print()\n",
    "\n",
    "\n",
    "  # get reward for the agents if terminated\n",
    "  profits = [None for i in range(len(sellers))]\n",
    "  for i, seller in enumerate(sellers):\n",
    "    if decisions[i] == \"accept offer\":\n",
    "      profits[i]=seller.state[\"last-offer\"]-seller.value\n",
    "    elif decisions[i] == \"walk away\":\n",
    "      profits[i]=0\n",
    "    elif decisions[i] == \"competitor won\":\n",
    "      profits[i]=0\n",
    "  for seller in sellers:\n",
    "    seller.reset_state()\n",
    "  return profits"
   ]
  },
  {
   "cell_type": "code",
   "execution_count": 162,
   "metadata": {},
   "outputs": [],
   "source": [
    "import random\n",
    "class QLearningSeller(Seller):\n",
    "  def __init__(self, value, init_offer):\n",
    "    super().__init__(value, init_offer)\n",
    "    action_space_size = self.init_offer - self.value\n",
    "    state_space_size = (self.init_offer - self.value) ** 2\n",
    "    self.q_table = np.zeros((state_space_size, action_space_size))\n",
    "\n",
    "    # Q-Learning parameters\n",
    "    # alpha\n",
    "    self.learning_rate = 0.1\n",
    "    # gamma\n",
    "    self.discount_rate = 0.99\n",
    "    # exploration rate for when the model is still learning\n",
    "    self.exploration_rate = .01\n",
    "\n",
    "    # # unused variables for a changing exploration rate\n",
    "    # self.max_exploration_rate = 1\n",
    "    # self.min_exploration_rate = 0.01\n",
    "    # self.exploration_decay_rate = 0.001\n",
    "\n",
    "  def make_offer(self):\n",
    "    random_number = random.uniform(0, 1)\n",
    "    if random_number > self.exploration_rate:\n",
    "      #print(self.q_table[self.get_state_array_number(self.state), :])\n",
    "      offer = np.argmax(self.q_table[self.get_state_array_number(self.state), :]) + (self.value+1)\n",
    "    else: #exploring\n",
    "      offer = random.randint(self.value+1,self.state['last-offer']-1)\n",
    "    return offer\n",
    "\n",
    "  def update_table(self, offer, decision, new_state):\n",
    "    if decision == 'accept offer':\n",
    "      reward = offer - self.value\n",
    "    else:\n",
    "      reward = 0\n",
    "    state_array_number = self.get_state_array_number(self.state)\n",
    "    new_state_array_number = self.get_state_array_number(new_state)\n",
    "    self.q_table[state_array_number, offer-(self.value+1)] = self.q_table[state_array_number, offer-(self.value+1)] * (1 - self.learning_rate) + \\\n",
    "                                  self.learning_rate * (reward + self.discount_rate * np.max(self.q_table[new_state_array_number, :]))\n",
    "\n",
    "  # helper methods\n",
    "  def get_state_array_number(self, state):\n",
    "    return state['last-offer']-(self.value+1)+(self.init_offer-self.value)*state['offers-made']\n",
    "\n",
    "  def from_array_num_get_state(self, array_num):\n",
    "    offers_made = math.floor(array_num/(self.init_offer-self.value))\n",
    "    last_offer =  array_num % (self.init_offer-self.value) + (self.value + 1)\n",
    "    return {\"last-offer\":last_offer, \"offers-made\":offers_made}\n",
    "\n",
    "  def set_exploiting(self):\n",
    "    self.exploration_rate = 0"
   ]
  },
  {
   "cell_type": "code",
   "execution_count": 163,
   "metadata": {},
   "outputs": [],
   "source": [
    "from sellers import Seller\n",
    "import numpy as np"
   ]
  },
  {
   "cell_type": "code",
   "execution_count": 164,
   "metadata": {},
   "outputs": [],
   "source": [
    "\"Seller classes\"\n",
    "import random\n",
    "import numpy as np\n",
    "import math\n",
    "class Seller(object):\n",
    "  def __init__(self, value, init_offer):\n",
    "    self.value = value\n",
    "    self.init_offer = init_offer\n",
    "    self.state = {\"last-offer\": self.init_offer, \"offers-made\":0, \"comp-last-offer\":self.init_offer} # initial state\n",
    "  def make_offer(self):\n",
    "    raise NotImplementedError(\"Subclasses should implement this method.\")\n",
    "  def reset_state(self):\n",
    "    self.state = {\"last-offer\":self.init_offer, \"offers-made\":0, \"comp-last-offer\":self.init_offer}\n",
    "  def update_table(self, offer, decision, new_state):\n",
    "    pass"
   ]
  },
  {
   "cell_type": "code",
   "execution_count": 173,
   "metadata": {},
   "outputs": [
    {
     "data": {
      "image/png": "[encoded data removed]",
      "text/plain": [
       "<Figure size 640x480 with 1 Axes>"
      ]
     },
     "metadata": {},
     "output_type": "display_data"
    }
   ],
   "source": [
    "from sellers import DescentByOneSeller\n",
    "from buyers import EducatedBuyer\n",
    "import matplotlib.pyplot as plt\n",
    "\n",
    "range_min = 11\n",
    "range_max = 15\n",
    "value = 10\n",
    "rounds = 100\n",
    "imp_incr = 0.2\n",
    "\n",
    "init_offer = range_max\n",
    "\n",
    "random_seller = DescentByOneSeller(value=value, init_offer=init_offer)\n",
    "qseller = QLearningSeller(value=value, init_offer=init_offer)\n",
    "sellers = [random_seller, qseller]\n",
    "\n",
    "profits_random_seller = []\n",
    "profits_q_seller = []\n",
    "\n",
    "# Simulation of 100 rounds\n",
    "for _ in range(100):\n",
    "    total_profits = [0 for i in range(len(sellers))]\n",
    "    for i in range(rounds):\n",
    "        maxprice = 20\n",
    "        edubuyer = EducatedBuyer(maxprice, imp_incr)\n",
    "        profits = two_seller_negotiation(edubuyer, sellers, False)\n",
    "        #print(qseller.q_table)\n",
    "        for i in range(len(sellers)):\n",
    "            total_profits[i] += profits[i]\n",
    "\n",
    "    profits_random_seller.append(total_profits[0])\n",
    "    profits_q_seller.append(total_profits[1])\n",
    "\n",
    "# Plotting\n",
    "fig, ax = plt.subplots()\n",
    "ax.plot(profits_random_seller)\n",
    "ax.plot(profits_q_seller)\n",
    "ax.set_xlabel('time')\n",
    "ax.set_ylabel('money')\n",
    "ax.set_title('some shit')\n",
    "plt.show()"
   ]
  },
  {
   "cell_type": "code",
   "execution_count": 145,
   "metadata": {},
   "outputs": [
    {
     "data": {
      "image/png": "[encoded data removed]",
      "text/plain": [
       "<Figure size 640x480 with 1 Axes>"
      ]
     },
     "metadata": {},
     "output_type": "display_data"
    }
   ],
   "source": [
    "import matplotlib.pyplot as plt\n",
    "\n",
    "# Create a list of data\n",
    "y = [1, 4, 9, 16, 25]\n",
    "\n",
    "\n",
    "fig, ax = plt.subplots()\n",
    "ax.plot(y)\n",
    "ax.set_xlabel('time')\n",
    "ax.set_ylabel('money')\n",
    "ax.set_title('some shit')\n",
    "plt.show()\n"
   ]
  },
  {
   "attachments": {},
   "cell_type": "markdown",
   "metadata": {},
   "source": [
    "# Normal price distribution"
   ]
  },
  {
   "cell_type": "code",
   "execution_count": 6,
   "metadata": {},
   "outputs": [],
   "source": [
    "import numpy as np\n",
    "import matplotlib.pyplot as plt\n",
    "def show_histogram(mean, stdev):\n",
    "  num_samples = 1000\n",
    "  samples_float = np.random.normal(mean, stdev, num_samples)\n",
    "  samples = np.round(samples_float).astype(int)\n",
    "  plt.hist(samples, bins=20, density=True)\n",
    "  plt.show()\n",
    "\n",
    "def sample_one_point(mean, stdev):\n",
    "  num_samples = 1\n",
    "  samples_float = np.random.normal(mean, stdev, num_samples)\n",
    "  samples = np.round(samples_float).astype(int)\n",
    "  return samples[0]"
   ]
  },
  {
   "cell_type": "code",
   "execution_count": 14,
   "metadata": {},
   "outputs": [
    {
     "ename": "NameError",
     "evalue": "name 'RandomSeller' is not defined",
     "output_type": "error",
     "traceback": [
      "\u001b[0;31m---------------------------------------------------------------------------\u001b[0m",
      "\u001b[0;31mNameError\u001b[0m                                 Traceback (most recent call last)",
      "Cell \u001b[0;32mIn[14], line 10\u001b[0m\n\u001b[1;32m      8\u001b[0m init_offer \u001b[39m=\u001b[39m range_max\n\u001b[1;32m      9\u001b[0m n \u001b[39m=\u001b[39m \u001b[39mint\u001b[39m((init_offer\u001b[39m-\u001b[39mvalue)\u001b[39m/\u001b[39m\u001b[39m2\u001b[39m)\n\u001b[0;32m---> 10\u001b[0m random_seller \u001b[39m=\u001b[39m RandomSeller(value\u001b[39m=\u001b[39mvalue, init_offer\u001b[39m=\u001b[39minit_offer)\n\u001b[1;32m     11\u001b[0m qseller \u001b[39m=\u001b[39m QLearningSeller(value\u001b[39m=\u001b[39mvalue, init_offer\u001b[39m=\u001b[39minit_offer)\n\u001b[1;32m     12\u001b[0m sellers \u001b[39m=\u001b[39m [random_seller, qseller]\n",
      "\u001b[0;31mNameError\u001b[0m: name 'RandomSeller' is not defined"
     ]
    }
   ],
   "source": []
  },
  {
   "cell_type": "code",
   "execution_count": 15,
   "metadata": {},
   "outputs": [],
   "source": [
    "def two_seller_negotiation(edubuyer, sellers):\n",
    "  # assume 2 sellers\n",
    "  terminate = False\n",
    "  while not terminate:\n",
    "    offers = [seller.make_offer() for seller in sellers]\n",
    "    decisions = edubuyer.check_all_offers(offers)\n",
    "    terminate = (\"walk away\" in decisions or \"accept offer\" in decisions)\n",
    "    # this kind of a junky way to code it\n",
    "    # but it works for now\n",
    "    for i, seller in enumerate(sellers):\n",
    "      new_state = {\"last-offer\":offers[i],\n",
    "                  \"comp-last-offer\":(offers[:i] + offers[i+1:])[0],\n",
    "                  \"offers-made\":seller.state[\"offers-made\"]+1}\n",
    "      seller.update_table(offers[i], decisions[i], new_state)\n",
    "      seller.state = new_state\n",
    "  # get reward for the agents if terminated\n",
    "  profits = [None for i in range(len(sellers))]\n",
    "  for i, seller in enumerate(sellers):\n",
    "    if decisions[i] == \"accept offer\":\n",
    "      profits[i]=seller.state[\"last-offer\"]-seller.value\n",
    "    elif decisions[i] == \"walk away\":\n",
    "      profits[i]=0\n",
    "    elif decisions[i] == \"competitor won\":\n",
    "      profits[i]=0\n",
    "  return profits"
   ]
  },
  {
   "cell_type": "code",
   "execution_count": 16,
   "metadata": {},
   "outputs": [
    {
     "name": "stdout",
     "output_type": "stream",
     "text": [
      "Defaulting to user installation because normal site-packages is not writeable\n",
      "Requirement already satisfied: tabulate in /Users/mbondarenko/Library/Python/3.9/lib/python/site-packages (0.9.0)\n",
      "\u001b[33mWARNING: You are using pip version 21.2.4; however, version 23.1.2 is available.\n",
      "You should consider upgrading via the '/Library/Developer/CommandLineTools/usr/bin/python3 -m pip install --upgrade pip' command.\u001b[0m\n",
      "Note: you may need to restart the kernel to use updated packages.\n"
     ]
    }
   ],
   "source": [
    "%pip install tabulate"
   ]
  },
  {
   "cell_type": "code",
   "execution_count": 17,
   "metadata": {},
   "outputs": [],
   "source": [
    "\n",
    "from tabulate import tabulate\n",
    "import math\n",
    "\n",
    "\n",
    "import random\n",
    "class QLearningSeller(Seller):\n",
    "  def __init__(self, value, init_offer):\n",
    "    super().__init__(value, init_offer)\n",
    "    action_space_size = self.init_offer - self.value\n",
    "    state_space_size = (self.init_offer - self.value) ** 2\n",
    "    self.q_table = np.zeros((state_space_size, action_space_size))\n",
    "\n",
    "    # Q-Learning parameters\n",
    "    # alpha\n",
    "    self.learning_rate = 0.1\n",
    "    # gamma\n",
    "    self.discount_rate = 0.99\n",
    "    # exploration rate for when the model is still learning\n",
    "    self.exploration_rate = .15\n",
    "\n",
    "    # # unused variables for a changing exploration rate\n",
    "    # self.max_exploration_rate = 1\n",
    "    # self.min_exploration_rate = 0.01\n",
    "    # self.exploration_decay_rate = 0.001\n",
    "\n",
    "  def make_offer(self):\n",
    "    random_number = random.uniform(0, 1)\n",
    "    if random_number > self.exploration_rate:\n",
    "      self.print_table\n",
    "      offer = np.argmax(self.q_table[self.get_state_array_number(self.state), :]) + (self.value+1)\n",
    "    else: #exploring\n",
    "      offer = random.randint(self.value+1,self.state['last-offer'])\n",
    "    return offer\n",
    "\n",
    "  def update_table(self, offer, decision, new_state):\n",
    "    if decision == 'accept offer':\n",
    "      reward = offer - self.value\n",
    "    else:\n",
    "      reward = 0\n",
    "    state_array_number = self.get_state_array_number(self.state)\n",
    "    new_state_array_number = self.get_state_array_number(new_state)\n",
    "    self.q_table[state_array_number, offer-(self.value+1)] = self.q_table[state_array_number, offer-(self.value+1)] * (1 - self.learning_rate) + \\\n",
    "                                  self.learning_rate * (reward + self.discount_rate * np.max(self.q_table[new_state_array_number, :]))\n",
    "\n",
    "  # helper methods\n",
    "  def get_state_array_number(self, state):\n",
    "    return state['last-offer']-(self.value+1)+(self.init_offer-self.value)*state['offers-made']\n",
    "\n",
    "  def from_array_num_get_state(self, array_num):\n",
    "    offers_made = math.floor(array_num/(self.init_offer-self.value))\n",
    "    last_offer =  array_num % (self.init_offer-self.value) + (self.value + 1)\n",
    "    return {\"last-offer\":last_offer, \"offers-made\":offers_made}\n",
    "\n",
    "  def set_exploiting(self):\n",
    "    self.exploration_rate = 0\n",
    "\n",
    "  def print_table(self):\n",
    "      headers = [str(i) for i in range(self.q_table.shape[1])]\n",
    "      rows = [list(map(str, row)) for row in self.q_table.tolist()]\n",
    "      formatted_rows = [[f\"State {i}\"] + row for i, row in enumerate(rows)]\n",
    "      print(tabulate(formatted_rows, headers, tablefmt='fancy_grid'))\n",
    "\n"
   ]
  },
  {
   "cell_type": "code",
   "execution_count": 18,
   "metadata": {},
   "outputs": [],
   "source": [
    "def sample_one_point(mean, stdev):\n",
    "  num_samples = 1\n",
    "  samples_float = np.random.normal(mean, stdev, num_samples)\n",
    "  samples = np.round(samples_float).astype(int)\n",
    "  sample = samples[0]\n",
    "  if sample<12:\n",
    "    return 11\n",
    "  else:\n",
    "    return sample"
   ]
  },
  {
   "cell_type": "code",
   "execution_count": 19,
   "metadata": {},
   "outputs": [
    {
     "ename": "NameError",
     "evalue": "name 'sellers' is not defined",
     "output_type": "error",
     "traceback": [
      "\u001b[0;31m---------------------------------------------------------------------------\u001b[0m",
      "\u001b[0;31mNameError\u001b[0m                                 Traceback (most recent call last)",
      "Cell \u001b[0;32mIn[19], line 1\u001b[0m\n\u001b[0;32m----> 1\u001b[0m total_profits \u001b[39m=\u001b[39m [\u001b[39m0\u001b[39m \u001b[39mfor\u001b[39;00m i \u001b[39min\u001b[39;00m \u001b[39mrange\u001b[39m(\u001b[39mlen\u001b[39m(sellers))]\n\u001b[1;32m      3\u001b[0m \u001b[39mfor\u001b[39;00m i \u001b[39min\u001b[39;00m \u001b[39mrange\u001b[39m(rounds):\n\u001b[1;32m      4\u001b[0m   maxprice \u001b[39m=\u001b[39m sample_one_point(mean,stdev)\n",
      "\u001b[0;31mNameError\u001b[0m: name 'sellers' is not defined"
     ]
    }
   ],
   "source": [
    "total_profits = [0 for i in range(len(sellers))]\n",
    "\n",
    "for i in range(rounds):\n",
    "  maxprice = sample_one_point(mean,stdev)\n",
    "  edubuyer = EducatedBuyer(maxprice, imp_incr)\n",
    "  profits = two_seller_negotiation(edubuyer, sellers)\n",
    "  for i in range(len(total_profits)):\n",
    "    total_profits[i] += profits[i]\n",
    "print(total_profits)"
   ]
  },
  {
   "cell_type": "code",
   "execution_count": 20,
   "metadata": {},
   "outputs": [
    {
     "data": {
      "image/png": "[encoded data removed]",
      "text/plain": [
       "<Figure size 640x480 with 1 Axes>"
      ]
     },
     "metadata": {},
     "output_type": "display_data"
    }
   ],
   "source": [
    "from buyers import Buyer\n",
    "from simulations import basic_simulation\n",
    "\n",
    "range_min = 11\n",
    "range_max = 15\n",
    "rounds = 100\n",
    "init_offer=range_max\n",
    "\n",
    "sellerQ = QLearningSeller(value=value, init_offer=init_offer)\n",
    "results = []\n",
    "for i in range(1):\n",
    "    result = basic_simulation(value,\n",
    "                              range_min,\n",
    "                              range_max,\n",
    "                              imp_init=0,\n",
    "                              imp_incr=imp_incr,\n",
    "                              rounds = rounds,\n",
    "                              seller=sellerQ,\n",
    "                              verbose=False)\n",
    "    results.append(result)\n",
    "\n",
    "import matplotlib.pyplot as plt\n",
    "# Plotting the data\n",
    "plt.plot(results)\n",
    "\n",
    "# Adding labels and title\n",
    "plt.xlabel('X-axis')\n",
    "plt.ylabel('Y-axis')\n",
    "plt.title('Data Graph')\n",
    "\n",
    "# Displaying the graph\n",
    "plt.show()\n"
   ]
  },
  {
   "cell_type": "code",
   "execution_count": null,
   "metadata": {},
   "outputs": [],
   "source": []
  },
  {
   "cell_type": "code",
   "execution_count": null,
   "metadata": {},
   "outputs": [],
   "source": []
  }
 ],
 "metadata": {
  "kernelspec": {
   "display_name": "Python 3",
   "language": "python",
   "name": "python3"
  },
  "language_info": {
   "codemirror_mode": {
    "name": "ipython",
    "version": 3
   },
   "file_extension": ".py",
   "mimetype": "text/x-python",
   "name": "python",
   "nbconvert_exporter": "python",
   "pygments_lexer": "ipython3",
   "version": "3.9.6"
  },
  "orig_nbformat": 4
 },
 "nbformat": 4,
 "nbformat_minor": 2
}
