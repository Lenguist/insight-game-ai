{
  "cells": [
    {
      "attachments": {},
      "cell_type": "markdown",
      "metadata": {
        "colab_type": "text",
        "id": "view-in-github"
      },
      "source": [
        "<a href=\"https://colab.research.google.com/github/Lenguist/insight-game-ai/blob/main/simple_sim_united.ipynb\" target=\"_parent\"><img src=\"https://colab.research.google.com/assets/colab-badge.svg\" alt=\"Open In Colab\"/></a>"
      ]
    },
    {
      "attachments": {},
      "cell_type": "markdown",
      "metadata": {},
      "source": [
        "Description moved to readme"
      ]
    },
    {
      "attachments": {},
      "cell_type": "markdown",
      "metadata": {
        "id": "uh7UkWmEYYlv"
      },
      "source": [
        "# Simulation code (only know # of turns)\n"
      ]
    },
    {
      "cell_type": "code",
      "execution_count": null,
      "metadata": {
        "id": "hqjQLEp9YYl_"
      },
      "outputs": [],
      "source": [
        "from simulations import basic_simulation\n",
        "from sellers import RandomSeller\n",
        "from sellers import DescentArithmeticSeller\n",
        "imp_list = [i / 10.0 for i in range(11)]\n",
        "all_results = []\n",
        "\n",
        "# params that are needed to initialize seller\n",
        "value = 10\n",
        "range_min = 11\n",
        "range_max = 30\n",
        "rounds = 10000\n",
        "init_offer=range_max\n",
        "\n",
        "# random agent\n",
        "random_results = []\n",
        "seller = RandomSeller(value=value, init_offer=init_offer)\n",
        "for imp_incr in imp_list:\n",
        "  result = basic_simulation(value,\n",
        "                        range_min,\n",
        "                        range_max,\n",
        "                        imp_incr = imp_incr,\n",
        "                        imp_init = 0,\n",
        "                        rounds = rounds,\n",
        "                        seller=seller)\n",
        "  random_results.append(result)\n",
        "\n",
        "# simple heuristic agent, consistently performs better than random\n",
        "arithmetic_results = []\n",
        "n = int((init_offer-value)/2)\n",
        "seller = DescentArithmeticSeller(value=value, init_offer=init_offer, init_descent = n)\n",
        "for imp_incr in imp_list:\n",
        "  result = basic_simulation(value,\n",
        "                        range_min,\n",
        "                        range_max,\n",
        "                        imp_incr = imp_incr,\n",
        "                        imp_init = 0,\n",
        "                        rounds = rounds,\n",
        "                        seller=seller)\n",
        "  arithmetic_results.append(result)"
      ]
    },
    {
      "cell_type": "code",
      "execution_count": null,
      "metadata": {
        "colab": {
          "base_uri": "https://localhost:8080/",
          "height": 564
        },
        "id": "_EUgCmRMYYmA",
        "outputId": "1fc323cb-723a-4090-b8ac-6ec3b3be6b55"
      },
      "outputs": [],
      "source": [
        "import matplotlib.pyplot as plt\n",
        "\n",
        "plt.figure(figsize=(10, 6))\n",
        "plt.plot(imp_list, random_results, marker='o', label=f'RandomSeller')\n",
        "plt.plot(imp_list, arithmetic_results, marker='o', label=f'DescentArithmeticSeller')\n",
        "plt.title('Payoff vs. Imp_incr')\n",
        "plt.xlabel('Impatience Incremenet')\n",
        "plt.ylabel('Average Episode Payoff')\n",
        "plt.grid()\n",
        "\n",
        "plt.legend()  # This will create a legend using the labels specified in the plot functions\n",
        "\n",
        "plt.show()"
      ]
    },
    {
      "cell_type": "code",
      "execution_count": null,
      "metadata": {
        "id": "vSFlSIcOD15X"
      },
      "outputs": [],
      "source": [
        "from simulations import *\n",
        "imp_list = [i / 10.0 for i in range(11)]\n",
        "all_results = []\n",
        "\n",
        "# params that are needed to initialize seller\n",
        "value = 10\n",
        "range_min = 11\n",
        "range_max = 30\n",
        "rounds = 10000\n",
        "init_offer=range_max\n",
        "\n",
        "# random agent\n",
        "seller = RandomSeller(value=value, init_offer=init_offer)\n",
        "random_results = random_imp_simulation(value,\n",
        "                        range_min,\n",
        "                        range_max,\n",
        "                        rounds = rounds,\n",
        "                        seller=seller)\n",
        "\n",
        "# simple heuristic agent, consistently performs better than random\n",
        "n = int((init_offer-value)/2)\n",
        "seller = DescentArithmeticSeller(value=value, init_offer=init_offer, init_descent = n)\n",
        "arithmetic_results = random_imp_simulation(value,\n",
        "                        range_min,\n",
        "                        range_max,\n",
        "                        rounds = rounds,\n",
        "                        seller=seller)"
      ]
    },
    {
      "cell_type": "code",
      "execution_count": null,
      "metadata": {
        "colab": {
          "base_uri": "https://localhost:8080/"
        },
        "id": "k_OTh1cmFdaA",
        "outputId": "5492c038-0360-4616-e7fa-9a3a2a27cdfd"
      },
      "outputs": [],
      "source": [
        "# random agent random impatience results\n",
        "random_results"
      ]
    },
    {
      "cell_type": "code",
      "execution_count": null,
      "metadata": {
        "colab": {
          "base_uri": "https://localhost:8080/"
        },
        "id": "LjZOKCqKFlDm",
        "outputId": "e572e801-c8d0-4c5c-aade-99e04a4f61ff"
      },
      "outputs": [],
      "source": [
        "# arithmetic agent random impatience result\n",
        "arithmetic_results"
      ]
    },
    {
      "cell_type": "code",
      "execution_count": null,
      "metadata": {
        "id": "32PP3RTVD2YM"
      },
      "outputs": [],
      "source": [
        "mean_list = [i/10.0 for i in range(11)]\n",
        "all_results = []\n",
        "\n",
        "# params that are needed to initialize seller\n",
        "value = 10\n",
        "range_min = 11\n",
        "range_max = 30\n",
        "rounds = 100000\n",
        "init_offer=range_max\n",
        "\n",
        "# random agent\n",
        "random_results = []\n",
        "seller = RandomSeller(value=value, init_offer=init_offer)\n",
        "for mean in mean_list:\n",
        "  result = normal_imp_simulation(value,\n",
        "                        range_min,\n",
        "                        range_max,\n",
        "                        mean = mean,\n",
        "                        rounds = rounds,\n",
        "                        seller=seller)\n",
        "  random_results.append(result)\n",
        "\n",
        "# simple heuristic agent, consistently performs better than random\n",
        "arithmetic_results = []\n",
        "n = int((init_offer-value)/2)\n",
        "seller = DescentArithmeticSeller(value=value, init_offer=init_offer, init_descent = n)\n",
        "for mean in mean_list:\n",
        "  result = normal_imp_simulation(value,\n",
        "                        range_min,\n",
        "                        range_max,\n",
        "                        mean = mean,\n",
        "                        rounds = rounds,\n",
        "                        seller=seller)\n",
        "  arithmetic_results.append(result)"
      ]
    },
    {
      "cell_type": "code",
      "execution_count": null,
      "metadata": {
        "colab": {
          "base_uri": "https://localhost:8080/",
          "height": 564
        },
        "id": "1g8Nn3TiFlyf",
        "outputId": "3583a5dc-a2bd-403f-ad4a-85a4f1a4f91d"
      },
      "outputs": [],
      "source": [
        "import matplotlib.pyplot as plt\n",
        "\n",
        "plt.figure(figsize=(10, 6))\n",
        "plt.plot(mean_list, random_results, marker='o', label=f'RandomSeller')\n",
        "plt.plot(mean_list, arithmetic_results, marker='o', label=f'DescentArithmeticSeller')\n",
        "plt.title('Payoff vs. Imp_incr')\n",
        "plt.xlabel('Mean Impatience Incremenet')\n",
        "plt.ylabel('Average Episode Payoff')\n",
        "plt.grid()\n",
        "\n",
        "plt.legend()  # This will create a legend using the labels specified in the plot functions\n",
        "\n",
        "plt.show()"
      ]
    },
    {
      "attachments": {},
      "cell_type": "markdown",
      "metadata": {
        "id": "trg7_RlQFR9_"
      },
      "source": [
        "# Two sellers"
      ]
    },
    {
      "cell_type": "code",
      "execution_count": 5,
      "metadata": {
        "id": "cCgpaXinFWUH"
      },
      "outputs": [],
      "source": [
        "from sellers import *\n",
        "from buyer import Buyer\n",
        "from episode import Episode"
      ]
    },
    {
      "cell_type": "code",
      "execution_count": 6,
      "metadata": {},
      "outputs": [],
      "source": [
        "import random\n",
        "\n",
        "class EducatedBuyer(object):\n",
        "    def __init__(self, max_price, imp_incr):\n",
        "        self.max_price = max_price\n",
        "        self.imp = 0\n",
        "        self.imp_incr = imp_incr\n",
        "\n",
        "    def check_all_offers(self, offers):\n",
        "        decisions = [] # saves decision for each offer\n",
        "        accept_indices = [] # saves indices of accepted offers\n",
        "        accept_values = [] # saves values of accepted offers\n",
        "\n",
        "        random_number = random.uniform(0, 1)\n",
        "        if random_number <= self.imp:\n",
        "            for i in range(len(offers)):\n",
        "                decisions.append(\"walk away\")\n",
        "        else:\n",
        "            for i, offer in enumerate(offers):\n",
        "                if offer <= self.max_price:\n",
        "                    decisions.append(\"accept offer\")\n",
        "                    accept_indices.append(i)\n",
        "                    accept_values.append(offer)\n",
        "                else:\n",
        "                    decisions.append(\"reject but continue\")\n",
        "\n",
        "        # if more than one offer is accepted\n",
        "        # NEED OT CHANGE REJECT BUT CONTINUE TO COMPETITOR WON OUT IF THERE ARE ANY ACCEPTS AT ALL\n",
        "        if len(accept_indices) > 0:\n",
        "            min_value = min(accept_values)\n",
        "            min_indices = [i for i, value in zip(accept_indices, accept_values) if value == min_value]\n",
        "\n",
        "            if len(min_indices) > 1:\n",
        "                # randomly choose an offer to accept if there are multiple offers with the minimum value\n",
        "                accept_index = random.choice(min_indices)\n",
        "            else:\n",
        "                # if there is a unique minimum, accept it\n",
        "                accept_index = min_indices[0]\n",
        "            for idx in range(len(decisions)):\n",
        "              if idx == accept_index:\n",
        "                decisions[idx] = \"accept offer\"\n",
        "              else:\n",
        "                decisions[idx] = \"competitor won\"\n",
        "\n",
        "        self.imp += self.imp_incr\n",
        "        return decisions\n"
      ]
    },
    {
      "cell_type": "code",
      "execution_count": 8,
      "metadata": {},
      "outputs": [
        {
          "data": {
            "text/plain": [
              "['accept offer',\n",
              " 'competitor won',\n",
              " 'competitor won',\n",
              " 'competitor won',\n",
              " 'competitor won']"
            ]
          },
          "execution_count": 8,
          "metadata": {},
          "output_type": "execute_result"
        }
      ],
      "source": [
        "edubuyer = EducatedBuyer(15, 0.2)\n",
        "edubuyer.check_all_offers([11,20,23,45,63])"
      ]
    },
    {
      "cell_type": "code",
      "execution_count": 275,
      "metadata": {},
      "outputs": [],
      "source": [
        "edubuyer = EducatedBuyer(15, 0.1)\n",
        "edubuyer.check_all_offers([20,20])\n",
        "\n",
        "value = 10\n",
        "range_min = 11\n",
        "range_max = 30\n",
        "\n",
        "n = int((range_max-value)/2)\n",
        "\n",
        "random_seller = RandomSeller(value=value, init_offer=range_max)\n",
        "heuristic_seller = DescentArithmeticSeller(value=value, init_offer=init_offer, init_descent = n)\n",
        "sellers = [random_seller, heuristic_seller]\n",
        "\n",
        "def two_seller_negotiation(edubuyer, sellers):\n",
        "  # assume 2 sellers\n",
        "  terminate = False\n",
        "  while not terminate:\n",
        "    offers = [seller.make_offer() for seller in sellers]\n",
        "    decisions = edubuyer.check_all_offers(offers)\n",
        "    terminate = (\"walk away\" in decisions or \"accept offer\" in decisions)\n",
        "    # this kind of a junky way to code it \n",
        "    # but it works for now\n",
        "    for i, seller in enumerate(sellers):\n",
        "      new_state = {\"last-offer\":offers[i],\n",
        "                  \"comp-last-offer\":(offers[:i] + offers[i+1:])[0],\n",
        "                  \"offers-made\":seller.state[\"offers-made\"]+1}\n",
        "      seller.state = new_state\n",
        "  # get reward for the agents if terminated\n",
        "  profits = [None for i in range(len(sellers))]\n",
        "  for i, seller in enumerate(sellers):\n",
        "    if decisions[i] == \"accept offer\":\n",
        "      profits[i]=seller.state[\"last-offer\"]-seller.value\n",
        "    elif decisions[i] == \"walk away\":\n",
        "      profits[i]=0\n",
        "    elif decisions[i] == \"competitor won\":\n",
        "      profits[i]=0\n"
      ]
    },
    {
      "cell_type": "code",
      "execution_count": 308,
      "metadata": {},
      "outputs": [],
      "source": [
        "import numpy as np\n",
        "import matplotlib.pyplot as plt\n",
        "def show_histogram(mean, stdev):\n",
        "  num_samples = 1000\n",
        "  samples_float = np.random.normal(mean, stdev, num_samples)\n",
        "  samples = np.round(samples_float).astype(int)\n",
        "  plt.hist(samples, bins=20, density=True)\n",
        "  plt.show()\n",
        "\n",
        "def sample_one_point(mean, stdev):\n",
        "  num_samples = 1\n",
        "  samples_float = np.random.normal(mean, stdev, num_samples)\n",
        "  samples = np.round(samples_float).astype(int)\n",
        "  return samples[0]"
      ]
    },
    {
      "cell_type": "code",
      "execution_count": 307,
      "metadata": {},
      "outputs": [],
      "source": [
        "# buyer distrubution\n",
        "mean = 15\n",
        "stdev = 3\n",
        "#show_histogram(mean, stdev)\n",
        "value = 10\n",
        "rounds = 1000\n",
        "imp_incr = 0.1\n",
        "\n",
        "init_offer = mean+3*\n",
        "n = int((range_max-value)/2)\n",
        "random_seller = RandomSeller(value=value, init_offer=range_max)\n",
        "heuristic_seller = DescentArithmeticSeller(value=value, init_offer=init_offer, init_descent = n)\n",
        "sellers = [random_seller, heuristic_seller]\n",
        "\n",
        "total_profits = []\n",
        "for i in range(rounds):\n",
        "  maxprice = sample_one_point(mean,stdev)\n",
        "  edubuyer = EducatedBuyer(maxprice, imp_incr)\n",
        "  profits = two_seller_negotiation(edubuyer, sellers)"
      ]
    },
    {
      "cell_type": "code",
      "execution_count": 279,
      "metadata": {},
      "outputs": [
        {
          "name": "stdout",
          "output_type": "stream",
          "text": [
            "walk away\n",
            "{'last-offer': 13, 'comp-last-offer': 11, 'offers-made': 2}\n",
            "walk away\n",
            "{'last-offer': 11, 'comp-last-offer': 13, 'offers-made': 2}\n",
            "[0, 0]\n"
          ]
        }
      ],
      "source": [
        "edubuyer = EducatedBuyer(15, 0.1)\n",
        "edubuyer.check_all_offers([20,20])\n",
        "\n",
        "value = 10\n",
        "range_min = 11\n",
        "range_max = 30\n",
        "\n",
        "\n",
        "\n",
        "\n",
        "\n",
        "two_seller_negotiation(edubuyer, sellers)"
      ]
    },
    {
      "cell_type": "code",
      "execution_count": null,
      "metadata": {},
      "outputs": [],
      "source": []
    }
  ],
  "metadata": {
    "colab": {
      "collapsed_sections": [
        "69z6-KSkV1yu",
        "bEinUhfKWGiE",
        "G9TrUpGJWQmM"
      ],
      "include_colab_link": true,
      "provenance": []
    },
    "kernelspec": {
      "display_name": "Python 3",
      "name": "python3"
    },
    "language_info": {
      "codemirror_mode": {
        "name": "ipython",
        "version": 3
      },
      "file_extension": ".py",
      "mimetype": "text/x-python",
      "name": "python",
      "nbconvert_exporter": "python",
      "pygments_lexer": "ipython3",
      "version": "3.9.6"
    }
  },
  "nbformat": 4,
  "nbformat_minor": 0
}
