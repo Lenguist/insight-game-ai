{
  "nbformat": 4,
  "nbformat_minor": 0,
  "metadata": {
    "colab": {
      "provenance": [],
      "include_colab_link": true
    },
    "kernelspec": {
      "name": "python3",
      "display_name": "Python 3"
    },
    "language_info": {
      "name": "python"
    }
  },
  "cells": [
    {
      "cell_type": "markdown",
      "metadata": {
        "id": "view-in-github",
        "colab_type": "text"
      },
      "source": [
        "<a href=\"https://colab.research.google.com/github/Lenguist/insight-game-ai/blob/main/simple_sim_united.ipynb\" target=\"_parent\"><img src=\"https://colab.research.google.com/assets/colab-badge.svg\" alt=\"Open In Colab\"/></a>"
      ]
    },
    {
      "cell_type": "code",
      "source": [
        "#@title rules\n",
        "\"\"\"\n",
        "The Simple Simulation\n",
        "\n",
        "Rules: There is a Seller (Agent) who interacts with a Buyer (environment) trying to sell a car.\n",
        "The car has intrinsic value to the seller which is modelled with a variable value. Any price higher than value will constitute a profit for the Seller.\n",
        "The Buyer has some max price they are willing to pay for the car. This value is generated from a uniform random distribution in the range of (range_min, range_max).\n",
        "This range is known to the Seller. After the Buyer max price is set it will not change over the course of the interaction.\n",
        "The Seller makes repeated offers to the Buyer and the Buyer will either accept the offer (if it is below maximum price) or reject it.\n",
        "Every time the Seller makes an offer Buyer get more impatient and they are more likely to walk away from the deal entrirely.\n",
        "This is modelled by the Buyer having some probability to walk (impatience) evaluated at the beginning of each round.\n",
        "Impatience is incremented each round by a constant amount known to the Seller. The initial impatience is always 0.\n",
        "\n",
        "The goal of the Seller agent is to maximize profit over many interactions with Buyers.\n",
        "QUESTION: shouldn't the number of cars be constant? aka there is incentive to keep the car if the car supply is limited\n",
        "\n",
        "Variables:\n",
        "value - constant across interactions, known to the Agent\n",
        "range_min, range_max - constant across interactions, known to the Agent\n",
        "Buyer's max_price - generated uniformly random from range_min, range_max at the beginning of each interaction\n",
        "imp_incr - constant across interactions, known to the Agent\n",
        "imp_init - assumed to always be 0\n",
        "\n",
        "Future complications to the model are immediately obvious from writing out the variables.\n",
        "1. buyer max_price can be generated using a different known distribution\n",
        "2. buyer max_price can be generated using an unknown distribution\n",
        "3. imp_incr can be be non-constant, or hidden from the Seller\n",
        "4. imp_init can differ to account for Buyer variability\n",
        "We will discover which of those complications are informative in the process of experimentation.\n",
        "\n",
        "After we experiment with those the next step would be to allow Buyer to make bids, limit the supply of vehicles, introduce competition with another Seller,\n",
        "and make Buyer behaviour incrasingly more complex (bluffs, urgency, etc)\n",
        "\"\"\""
      ],
      "metadata": {
        "colab": {
          "base_uri": "https://localhost:8080/",
          "height": 108
        },
        "id": "hf8csv5jUiEx",
        "outputId": "39c51fba-66fe-4629-d2db-52c97feae7a8"
      },
      "execution_count": 8,
      "outputs": [
        {
          "output_type": "execute_result",
          "data": {
            "text/plain": [
              "\"\\nThe Simple Simulation\\n\\nRules: There is a Seller (Agent) who interacts with a Buyer (environment) trying to sell a car.\\nThe car has intrinsic value to the seller which is modelled with a variable value. Any price higher than value will constitute a profit for the Seller.\\nThe Buyer has some max price they are willing to pay for the car. This value is generated from a uniform random distribution in the range of (range_min, range_max). \\nThis range is known to the Seller. After the Buyer max price is set it will not change over the course of the interaction.\\nThe Seller makes repeated offers to the Buyer and the Buyer will either accept the offer (if it is below maximum price) or reject it.\\nEvery time the Seller makes an offer Buyer get more impatient and they are more likely to walk away from the deal entrirely. \\nThis is modelled by the Buyer having some probability to walk (impatience) evaluated at the beginning of each round.\\nImpatience is incremented each round by a constant amount known to the Seller. The initial impatience is always 0.\\n\\nThe goal of the Seller agent is to maximize profit over many interactions with Buyers.\\nQUESTION: shouldn't the number of cars be constant? aka there is incentive to keep the car if the car supply is limited\\n\\nVariables:\\nvalue - constant across interactions, known to the Agent\\nrange_min, range_max - constant across interactions, known to the Agent\\nBuyer's max_price - generated uniformly random from range_min, range_max at the beginning of each interaction\\nimp_incr - constant across interactions, known to the Agent\\nimp_init - assumed to always be 0\\n\\nFuture complications to the model are immediately obvious from writing out the variables.\\n1. buyer max_price can be generated using a different known distribution\\n2. buyer max_price can be generated using an unknown distribution\\n3. imp_incr can be be non-constant, or hidden from the Seller\\n4. imp_init can differ to account for Buyer variability\\nWe will discover which of those complications are informative in the process of experimentation.\\n\\nAfter we experiment with those the next step would be to allow Buyer to make bids, limit the supply of vehicles, introduce competition with another Seller, \\nand make Buyer behaviour incrasingly more complex (bluffs, urgency, etc)\\n\""
            ],
            "application/vnd.google.colaboratory.intrinsic+json": {
              "type": "string"
            }
          },
          "metadata": {},
          "execution_count": 8
        }
      ]
    },
    {
      "cell_type": "code",
      "source": [
        "\"\"\"\n",
        "code is structured in the following way. First, we initialize a Simulation with a certain value, range_min, range_max, imp_incr and imp_init.\n",
        "after that, we initialize an Interaction which constitutes to a single negotiation. That will include a Buyer max_price which will be generated according to simulaiton rules."
      ],
      "metadata": {
        "id": "s7svTIH7ZstK"
      },
      "execution_count": null,
      "outputs": []
    },
    {
      "cell_type": "code",
      "source": [
        "import random\n",
        "class Buyer(object):\n",
        "    def __init__(self, maxprice, imp, imp_incr):\n",
        "        self.maxprice = maxprice\n",
        "        self.imp = imp\n",
        "    def check_offer(self, offer):\n",
        "      random_number = random.uniform(0, 1)\n",
        "      if random_number <= buyer.imp:\n",
        "        return \"walk away\"\n",
        "      elif offer <= maxprice:\n",
        "        return \"accept offer\"\n",
        "      else:\n",
        "        self.imp += imp_incr\n",
        "        return \"reject but continue\""
      ],
      "metadata": {
        "id": "83QEtUrsaHbh"
      },
      "execution_count": 124,
      "outputs": []
    },
    {
      "cell_type": "code",
      "source": [
        "class Seller(object):\n",
        "  def __init__(self, value):\n",
        "    self.value = value\n",
        "    self.history = []\n",
        "  def make_offer(self):\n",
        "    raise NotImplementedError(\"Subclasses should implement this method.\")\n",
        "  def save_round(self, offer, decision):\n",
        "    self.history.append({\"offer\":offer, \"decision\":decision})\n",
        "\n",
        "class DescentByOneSeller(Seller):\n",
        "  def __init__(self, value, init_offer):\n",
        "    super().__init__(value)  # Call to parent's __init__ method\n",
        "    self.init_offer = init_offer\n",
        "  def make_offer(self):\n",
        "    if len(self.history)==0:\n",
        "      offer = self.init_offer\n",
        "    else:\n",
        "      offer = self.history[-1][\"offer\"]-1\n",
        "    return offer\n",
        "\n",
        "class UserInputSeller(Seller):\n",
        " def make_offer(self):\n",
        "  offer = int(input(\"You: \"))\n",
        "  return offer"
      ],
      "metadata": {
        "id": "S1J8cqD-cVdy"
      },
      "execution_count": 130,
      "outputs": []
    },
    {
      "cell_type": "code",
      "source": [
        "class Interaction(object):\n",
        "  def __init__(self, buyer, seller, verbose=True):\n",
        "    self.buyer = buyer\n",
        "    self.seller = seller\n",
        "    self.verbose = verbose # whether to print info\n",
        "\n",
        "  def negotiation_round(self):\n",
        "    if self.verbose:\n",
        "      print(f\"The current buyer impatience is {self.buyer.imp}.\")\n",
        "    offer = self.seller.make_offer()\n",
        "    decision = self.buyer.check_offer(offer)\n",
        "    self.seller.save_round(offer, decision)\n",
        "    if self.verbose:\n",
        "      print(f\"Seller made offer of {offer}. The buyer decided to {decision}\")\n",
        "    return decision\n",
        "\n",
        "  def run_interaction(self):\n",
        "    decision = \"\"\n",
        "    while decision != \"walk away\" and decision != \"accept offer\":\n",
        "      decision = self.negotiation_round()\n",
        "    if decision == \"accept offer\":\n",
        "      final_offer = self.seller.history[-1][\"offer\"]\n",
        "      profit = final_offer - self.seller.value\n",
        "      if self.verbose:\n",
        "        print(f\"Deal made at {final_offer}\")\n",
        "        print(f\"Buyer's max_price was {self.buyer.maxprice}\")\n",
        "    else:\n",
        "      if self.verbose:\n",
        "        print(f\"No deal made - no profit.\")\n",
        "      profit = 0\n",
        "    return profit"
      ],
      "metadata": {
        "id": "-VLUVKr0l9Kh"
      },
      "execution_count": 131,
      "outputs": []
    },
    {
      "cell_type": "code",
      "source": [
        "# user interaction\n",
        "value = 10\n",
        "range_min = 11\n",
        "range_max = 15\n",
        "imp_incr = 0.2\n",
        "imp_init = 0\n",
        "\n",
        "rounds = 4\n",
        "i = 0\n",
        "total_profit = 0\n",
        "while i < rounds:\n",
        "  maxprice = int(random.uniform(range_min, range_max+1)) #+1 to include the upper bound\n",
        "  buyer = Buyer(maxprice, imp_init, imp_incr)\n",
        "  seller = UserInputSeller(value)\n",
        "\n",
        "  interaction = Interaction(buyer, seller, verbose=True)\n",
        "  profit = interaction.run_interaction()\n",
        "  total_profit += profit\n",
        "  i+= 1\n",
        "print(f\"Total_profit is {total_profit} over {rounds} rounds for an average return of {round(total_profit/rounds,2)}\")"
      ],
      "metadata": {
        "colab": {
          "base_uri": "https://localhost:8080/",
          "height": 410
        },
        "id": "Bzn7GLTkyVGy",
        "outputId": "fa5a368d-a42e-4b09-9478-025b3b223436"
      },
      "execution_count": 443,
      "outputs": [
        {
          "output_type": "stream",
          "name": "stdout",
          "text": [
            "The current buyer impatience is 0.\n"
          ]
        },
        {
          "output_type": "error",
          "ename": "KeyboardInterrupt",
          "evalue": "ignored",
          "traceback": [
            "\u001b[0;31m---------------------------------------------------------------------------\u001b[0m",
            "\u001b[0;31mKeyboardInterrupt\u001b[0m                         Traceback (most recent call last)",
            "\u001b[0;32m<ipython-input-443-147e090423d5>\u001b[0m in \u001b[0;36m<cell line: 11>\u001b[0;34m()\u001b[0m\n\u001b[1;32m     15\u001b[0m \u001b[0;34m\u001b[0m\u001b[0m\n\u001b[1;32m     16\u001b[0m   \u001b[0minteraction\u001b[0m \u001b[0;34m=\u001b[0m \u001b[0mInteraction\u001b[0m\u001b[0;34m(\u001b[0m\u001b[0mbuyer\u001b[0m\u001b[0;34m,\u001b[0m \u001b[0mseller\u001b[0m\u001b[0;34m,\u001b[0m \u001b[0mverbose\u001b[0m\u001b[0;34m=\u001b[0m\u001b[0;32mTrue\u001b[0m\u001b[0;34m)\u001b[0m\u001b[0;34m\u001b[0m\u001b[0;34m\u001b[0m\u001b[0m\n\u001b[0;32m---> 17\u001b[0;31m   \u001b[0mprofit\u001b[0m \u001b[0;34m=\u001b[0m \u001b[0minteraction\u001b[0m\u001b[0;34m.\u001b[0m\u001b[0mrun_interaction\u001b[0m\u001b[0;34m(\u001b[0m\u001b[0;34m)\u001b[0m\u001b[0;34m\u001b[0m\u001b[0;34m\u001b[0m\u001b[0m\n\u001b[0m\u001b[1;32m     18\u001b[0m   \u001b[0mtotal_profit\u001b[0m \u001b[0;34m+=\u001b[0m \u001b[0mprofit\u001b[0m\u001b[0;34m\u001b[0m\u001b[0;34m\u001b[0m\u001b[0m\n\u001b[1;32m     19\u001b[0m   \u001b[0mi\u001b[0m\u001b[0;34m+=\u001b[0m \u001b[0;36m1\u001b[0m\u001b[0;34m\u001b[0m\u001b[0;34m\u001b[0m\u001b[0m\n",
            "\u001b[0;32m<ipython-input-131-d6cadcd6a61b>\u001b[0m in \u001b[0;36mrun_interaction\u001b[0;34m(self)\u001b[0m\n\u001b[1;32m     18\u001b[0m     \u001b[0mdecision\u001b[0m \u001b[0;34m=\u001b[0m \u001b[0;34m\"\"\u001b[0m\u001b[0;34m\u001b[0m\u001b[0;34m\u001b[0m\u001b[0m\n\u001b[1;32m     19\u001b[0m     \u001b[0;32mwhile\u001b[0m \u001b[0mdecision\u001b[0m \u001b[0;34m!=\u001b[0m \u001b[0;34m\"walk away\"\u001b[0m \u001b[0;32mand\u001b[0m \u001b[0mdecision\u001b[0m \u001b[0;34m!=\u001b[0m \u001b[0;34m\"accept offer\"\u001b[0m\u001b[0;34m:\u001b[0m\u001b[0;34m\u001b[0m\u001b[0;34m\u001b[0m\u001b[0m\n\u001b[0;32m---> 20\u001b[0;31m       \u001b[0mdecision\u001b[0m \u001b[0;34m=\u001b[0m \u001b[0mself\u001b[0m\u001b[0;34m.\u001b[0m\u001b[0mnegotiation_round\u001b[0m\u001b[0;34m(\u001b[0m\u001b[0;34m)\u001b[0m\u001b[0;34m\u001b[0m\u001b[0;34m\u001b[0m\u001b[0m\n\u001b[0m\u001b[1;32m     21\u001b[0m     \u001b[0;32mif\u001b[0m \u001b[0mdecision\u001b[0m \u001b[0;34m==\u001b[0m \u001b[0;34m\"accept offer\"\u001b[0m\u001b[0;34m:\u001b[0m\u001b[0;34m\u001b[0m\u001b[0;34m\u001b[0m\u001b[0m\n\u001b[1;32m     22\u001b[0m       \u001b[0mfinal_offer\u001b[0m \u001b[0;34m=\u001b[0m \u001b[0mself\u001b[0m\u001b[0;34m.\u001b[0m\u001b[0mseller\u001b[0m\u001b[0;34m.\u001b[0m\u001b[0mhistory\u001b[0m\u001b[0;34m[\u001b[0m\u001b[0;34m-\u001b[0m\u001b[0;36m1\u001b[0m\u001b[0;34m]\u001b[0m\u001b[0;34m[\u001b[0m\u001b[0;34m\"offer\"\u001b[0m\u001b[0;34m]\u001b[0m\u001b[0;34m\u001b[0m\u001b[0;34m\u001b[0m\u001b[0m\n",
            "\u001b[0;32m<ipython-input-131-d6cadcd6a61b>\u001b[0m in \u001b[0;36mnegotiation_round\u001b[0;34m(self)\u001b[0m\n\u001b[1;32m      8\u001b[0m     \u001b[0;32mif\u001b[0m \u001b[0mself\u001b[0m\u001b[0;34m.\u001b[0m\u001b[0mverbose\u001b[0m\u001b[0;34m:\u001b[0m\u001b[0;34m\u001b[0m\u001b[0;34m\u001b[0m\u001b[0m\n\u001b[1;32m      9\u001b[0m       \u001b[0mprint\u001b[0m\u001b[0;34m(\u001b[0m\u001b[0;34mf\"The current buyer impatience is {self.buyer.imp}.\"\u001b[0m\u001b[0;34m)\u001b[0m\u001b[0;34m\u001b[0m\u001b[0;34m\u001b[0m\u001b[0m\n\u001b[0;32m---> 10\u001b[0;31m     \u001b[0moffer\u001b[0m \u001b[0;34m=\u001b[0m \u001b[0mself\u001b[0m\u001b[0;34m.\u001b[0m\u001b[0mseller\u001b[0m\u001b[0;34m.\u001b[0m\u001b[0mmake_offer\u001b[0m\u001b[0;34m(\u001b[0m\u001b[0;34m)\u001b[0m\u001b[0;34m\u001b[0m\u001b[0;34m\u001b[0m\u001b[0m\n\u001b[0m\u001b[1;32m     11\u001b[0m     \u001b[0mdecision\u001b[0m \u001b[0;34m=\u001b[0m \u001b[0mself\u001b[0m\u001b[0;34m.\u001b[0m\u001b[0mbuyer\u001b[0m\u001b[0;34m.\u001b[0m\u001b[0mcheck_offer\u001b[0m\u001b[0;34m(\u001b[0m\u001b[0moffer\u001b[0m\u001b[0;34m)\u001b[0m\u001b[0;34m\u001b[0m\u001b[0;34m\u001b[0m\u001b[0m\n\u001b[1;32m     12\u001b[0m     \u001b[0mself\u001b[0m\u001b[0;34m.\u001b[0m\u001b[0mseller\u001b[0m\u001b[0;34m.\u001b[0m\u001b[0msave_round\u001b[0m\u001b[0;34m(\u001b[0m\u001b[0moffer\u001b[0m\u001b[0;34m,\u001b[0m \u001b[0mdecision\u001b[0m\u001b[0;34m)\u001b[0m\u001b[0;34m\u001b[0m\u001b[0;34m\u001b[0m\u001b[0m\n",
            "\u001b[0;32m<ipython-input-130-342422d3b0bd>\u001b[0m in \u001b[0;36mmake_offer\u001b[0;34m(self)\u001b[0m\n\u001b[1;32m     21\u001b[0m \u001b[0;32mclass\u001b[0m \u001b[0mUserInputSeller\u001b[0m\u001b[0;34m(\u001b[0m\u001b[0mSeller\u001b[0m\u001b[0;34m)\u001b[0m\u001b[0;34m:\u001b[0m\u001b[0;34m\u001b[0m\u001b[0;34m\u001b[0m\u001b[0m\n\u001b[1;32m     22\u001b[0m  \u001b[0;32mdef\u001b[0m \u001b[0mmake_offer\u001b[0m\u001b[0;34m(\u001b[0m\u001b[0mself\u001b[0m\u001b[0;34m)\u001b[0m\u001b[0;34m:\u001b[0m\u001b[0;34m\u001b[0m\u001b[0;34m\u001b[0m\u001b[0m\n\u001b[0;32m---> 23\u001b[0;31m   \u001b[0moffer\u001b[0m \u001b[0;34m=\u001b[0m \u001b[0mint\u001b[0m\u001b[0;34m(\u001b[0m\u001b[0minput\u001b[0m\u001b[0;34m(\u001b[0m\u001b[0;34m\"You: \"\u001b[0m\u001b[0;34m)\u001b[0m\u001b[0;34m)\u001b[0m\u001b[0;34m\u001b[0m\u001b[0;34m\u001b[0m\u001b[0m\n\u001b[0m\u001b[1;32m     24\u001b[0m   \u001b[0;32mreturn\u001b[0m \u001b[0moffer\u001b[0m\u001b[0;34m\u001b[0m\u001b[0;34m\u001b[0m\u001b[0m\n",
            "\u001b[0;32m/usr/local/lib/python3.10/dist-packages/ipykernel/kernelbase.py\u001b[0m in \u001b[0;36mraw_input\u001b[0;34m(self, prompt)\u001b[0m\n\u001b[1;32m    849\u001b[0m                 \u001b[0;34m\"raw_input was called, but this frontend does not support input requests.\"\u001b[0m\u001b[0;34m\u001b[0m\u001b[0;34m\u001b[0m\u001b[0m\n\u001b[1;32m    850\u001b[0m             )\n\u001b[0;32m--> 851\u001b[0;31m         return self._input_request(str(prompt),\n\u001b[0m\u001b[1;32m    852\u001b[0m             \u001b[0mself\u001b[0m\u001b[0;34m.\u001b[0m\u001b[0m_parent_ident\u001b[0m\u001b[0;34m,\u001b[0m\u001b[0;34m\u001b[0m\u001b[0;34m\u001b[0m\u001b[0m\n\u001b[1;32m    853\u001b[0m             \u001b[0mself\u001b[0m\u001b[0;34m.\u001b[0m\u001b[0m_parent_header\u001b[0m\u001b[0;34m,\u001b[0m\u001b[0;34m\u001b[0m\u001b[0;34m\u001b[0m\u001b[0m\n",
            "\u001b[0;32m/usr/local/lib/python3.10/dist-packages/ipykernel/kernelbase.py\u001b[0m in \u001b[0;36m_input_request\u001b[0;34m(self, prompt, ident, parent, password)\u001b[0m\n\u001b[1;32m    893\u001b[0m             \u001b[0;32mexcept\u001b[0m \u001b[0mKeyboardInterrupt\u001b[0m\u001b[0;34m:\u001b[0m\u001b[0;34m\u001b[0m\u001b[0;34m\u001b[0m\u001b[0m\n\u001b[1;32m    894\u001b[0m                 \u001b[0;31m# re-raise KeyboardInterrupt, to truncate traceback\u001b[0m\u001b[0;34m\u001b[0m\u001b[0;34m\u001b[0m\u001b[0m\n\u001b[0;32m--> 895\u001b[0;31m                 \u001b[0;32mraise\u001b[0m \u001b[0mKeyboardInterrupt\u001b[0m\u001b[0;34m(\u001b[0m\u001b[0;34m\"Interrupted by user\"\u001b[0m\u001b[0;34m)\u001b[0m \u001b[0;32mfrom\u001b[0m \u001b[0;32mNone\u001b[0m\u001b[0;34m\u001b[0m\u001b[0;34m\u001b[0m\u001b[0m\n\u001b[0m\u001b[1;32m    896\u001b[0m             \u001b[0;32mexcept\u001b[0m \u001b[0mException\u001b[0m \u001b[0;32mas\u001b[0m \u001b[0me\u001b[0m\u001b[0;34m:\u001b[0m\u001b[0;34m\u001b[0m\u001b[0;34m\u001b[0m\u001b[0m\n\u001b[1;32m    897\u001b[0m                 \u001b[0mself\u001b[0m\u001b[0;34m.\u001b[0m\u001b[0mlog\u001b[0m\u001b[0;34m.\u001b[0m\u001b[0mwarning\u001b[0m\u001b[0;34m(\u001b[0m\u001b[0;34m\"Invalid Message:\"\u001b[0m\u001b[0;34m,\u001b[0m \u001b[0mexc_info\u001b[0m\u001b[0;34m=\u001b[0m\u001b[0;32mTrue\u001b[0m\u001b[0;34m)\u001b[0m\u001b[0;34m\u001b[0m\u001b[0;34m\u001b[0m\u001b[0m\n",
            "\u001b[0;31mKeyboardInterrupt\u001b[0m: Interrupted by user"
          ]
        }
      ]
    },
    {
      "cell_type": "code",
      "source": [
        "# simulation\n",
        "value = 10\n",
        "range_min = 11\n",
        "range_max = 15\n",
        "imp_incr = 0.1\n",
        "imp_init = 0\n",
        "\n",
        "rounds = 1000000\n",
        "i = 0\n",
        "total_profit = 0\n",
        "while i < rounds:\n",
        "  maxprice = int(random.uniform(range_min, range_max+1)) #+1 to include the upper bound\n",
        "  buyer = Buyer(maxprice, imp_init, imp_incr)\n",
        "  seller = DescentByOneSeller(value, range_max)\n",
        "\n",
        "  interaction = Interaction(buyer, seller, verbose=False)\n",
        "  profit = interaction.run_interaction()\n",
        "  total_profit += profit\n",
        "  i+= 1\n",
        "print(total_profit)"
      ],
      "metadata": {
        "colab": {
          "base_uri": "https://localhost:8080/"
        },
        "id": "eiIkeqlvkkqm",
        "outputId": "08107715-4805-4b44-ab79-d9e05c4747d7"
      },
      "execution_count": 438,
      "outputs": [
        {
          "output_type": "stream",
          "name": "stdout",
          "text": [
            "2411349\n"
          ]
        }
      ]
    },
    {
      "cell_type": "code",
      "source": [
        "# to get optimal strategy\n",
        "import math\n",
        "from itertools import combinations\n",
        "\n",
        "def all_possible_strategies(range_min, range_max, imp_incr, imp_init):\n",
        "  strategies = []\n",
        "  #get max number of moves possible\n",
        "  max_moves = math.ceil((1-imp_init)/imp_incr + 1)\n",
        "\n",
        "  # Reverse the input range\n",
        "  numbers = list(range(range_min, range_max + 1))[::-1]\n",
        "\n",
        "  # Generate all combinations\n",
        "  all_combinations = [list(comb) for i in range(1, max_moves + 1) for comb in combinations(numbers, i)]\n",
        "\n",
        "  # Filter out combinations that don't end with range_min or don't have k numbers\n",
        "  filtered_combinations = [comb for comb in all_combinations if (comb[-1] == range_min) or len(comb) == max_moves]\n",
        "\n",
        "  return filtered_combinations"
      ],
      "metadata": {
        "id": "3SyxYz91ewEp"
      },
      "execution_count": 2,
      "outputs": []
    },
    {
      "cell_type": "code",
      "source": [
        "all_strategies = all_possible_strategies(range_min, range_max, imp_incr, imp_init)\n",
        "all_strategies"
      ],
      "metadata": {
        "id": "NUzp_ohomUsW",
        "colab": {
          "base_uri": "https://localhost:8080/"
        },
        "outputId": "168a9e22-6830-484e-d5e1-4886b734db3b"
      },
      "execution_count": 3,
      "outputs": [
        {
          "output_type": "execute_result",
          "data": {
            "text/plain": [
              "[[11],\n",
              " [15, 11],\n",
              " [14, 11],\n",
              " [13, 11],\n",
              " [12, 11],\n",
              " [15, 14, 11],\n",
              " [15, 13, 11],\n",
              " [15, 12, 11],\n",
              " [14, 13, 11],\n",
              " [14, 12, 11],\n",
              " [13, 12, 11],\n",
              " [15, 14, 13, 11],\n",
              " [15, 14, 12, 11],\n",
              " [15, 13, 12, 11],\n",
              " [14, 13, 12, 11],\n",
              " [15, 14, 13, 12, 11]]"
            ]
          },
          "metadata": {},
          "execution_count": 3
        }
      ]
    },
    {
      "cell_type": "code",
      "source": [
        "def calculate_payoff_realprice(strategy, real_price, imp_incr, imp_init, value):\n",
        "  payoff = 0\n",
        "  last_imp = 0\n",
        "  curr_imp = imp_init\n",
        "  for i in range(len(strategy)):\n",
        "    bid = strategy[i]\n",
        "    if bid <= real_price:\n",
        "      discount_factor = 1\n",
        "      for j in range(i):\n",
        "        discount_factor = discount_factor*(1-j*imp_incr)\n",
        "      payoff += discount_factor*(bid-value)\n",
        "      break\n",
        "    if bid > real_price:\n",
        "      last_imp = curr_imp\n",
        "      curr_imp = last_imp+imp_incr\n",
        "  return payoff"
      ],
      "metadata": {
        "id": "-NdQOpU-px8g"
      },
      "execution_count": null,
      "outputs": []
    },
    {
      "cell_type": "code",
      "source": [
        "def calculate_expected_payoff(strategy, range_min, range_max, imp_incr, imp_init, value):\n",
        "  expected_payoffs = []\n",
        "  for real_price in range(range_min, range_max+1):\n",
        "    expected_payoffs.append(calculate_payoff_realprice(strategy, real_price, imp_incr, imp_init, value))\n",
        "  expected_payoffs.append(sum(expected_payoffs)/(range_max+1-range_min))\n",
        "  return expected_payoffs"
      ],
      "metadata": {
        "id": "gxNY1-mysQuD"
      },
      "execution_count": null,
      "outputs": []
    },
    {
      "cell_type": "code",
      "source": [
        "#calculate_expected_payoff(all_strategies, range_min, range_max, imp_incr, imp_init, value)"
      ],
      "metadata": {
        "id": "PMAwMlfEr_dN",
        "colab": {
          "base_uri": "https://localhost:8080/",
          "height": 320
        },
        "outputId": "36246354-ee13-462a-923a-f1d88f50bbdc"
      },
      "execution_count": null,
      "outputs": [
        {
          "output_type": "error",
          "ename": "TypeError",
          "evalue": "ignored",
          "traceback": [
            "\u001b[0;31m---------------------------------------------------------------------------\u001b[0m",
            "\u001b[0;31mTypeError\u001b[0m                                 Traceback (most recent call last)",
            "\u001b[0;32m<ipython-input-18-7afeb41d2882>\u001b[0m in \u001b[0;36m<cell line: 1>\u001b[0;34m()\u001b[0m\n\u001b[0;32m----> 1\u001b[0;31m \u001b[0mcalculate_expected_payoff\u001b[0m\u001b[0;34m(\u001b[0m\u001b[0mall_strategies\u001b[0m\u001b[0;34m,\u001b[0m \u001b[0mrange_min\u001b[0m\u001b[0;34m,\u001b[0m \u001b[0mrange_max\u001b[0m\u001b[0;34m,\u001b[0m \u001b[0mimp_incr\u001b[0m\u001b[0;34m,\u001b[0m \u001b[0mimp_init\u001b[0m\u001b[0;34m,\u001b[0m \u001b[0mvalue\u001b[0m\u001b[0;34m)\u001b[0m\u001b[0;34m\u001b[0m\u001b[0;34m\u001b[0m\u001b[0m\n\u001b[0m",
            "\u001b[0;32m<ipython-input-17-61b8ca91f523>\u001b[0m in \u001b[0;36mcalculate_expected_payoff\u001b[0;34m(strategy, range_min, range_max, imp_incr, imp_init, value)\u001b[0m\n\u001b[1;32m      2\u001b[0m   \u001b[0mexpected_payoffs\u001b[0m \u001b[0;34m=\u001b[0m \u001b[0;34m[\u001b[0m\u001b[0;34m]\u001b[0m\u001b[0;34m\u001b[0m\u001b[0;34m\u001b[0m\u001b[0m\n\u001b[1;32m      3\u001b[0m   \u001b[0;32mfor\u001b[0m \u001b[0mreal_price\u001b[0m \u001b[0;32min\u001b[0m \u001b[0mrange\u001b[0m\u001b[0;34m(\u001b[0m\u001b[0mrange_min\u001b[0m\u001b[0;34m,\u001b[0m \u001b[0mrange_max\u001b[0m\u001b[0;34m+\u001b[0m\u001b[0;36m1\u001b[0m\u001b[0;34m)\u001b[0m\u001b[0;34m:\u001b[0m\u001b[0;34m\u001b[0m\u001b[0;34m\u001b[0m\u001b[0m\n\u001b[0;32m----> 4\u001b[0;31m     \u001b[0mexpected_payoffs\u001b[0m\u001b[0;34m.\u001b[0m\u001b[0mappend\u001b[0m\u001b[0;34m(\u001b[0m\u001b[0mcalculate_payoff_realprice\u001b[0m\u001b[0;34m(\u001b[0m\u001b[0mstrategy\u001b[0m\u001b[0;34m,\u001b[0m \u001b[0mreal_price\u001b[0m\u001b[0;34m,\u001b[0m \u001b[0mimp_incr\u001b[0m\u001b[0;34m,\u001b[0m \u001b[0mimp_init\u001b[0m\u001b[0;34m,\u001b[0m \u001b[0mvalue\u001b[0m\u001b[0;34m)\u001b[0m\u001b[0;34m)\u001b[0m\u001b[0;34m\u001b[0m\u001b[0;34m\u001b[0m\u001b[0m\n\u001b[0m\u001b[1;32m      5\u001b[0m   \u001b[0mexpected_payoffs\u001b[0m\u001b[0;34m.\u001b[0m\u001b[0mappend\u001b[0m\u001b[0;34m(\u001b[0m\u001b[0msum\u001b[0m\u001b[0;34m(\u001b[0m\u001b[0mexpected_payoffs\u001b[0m\u001b[0;34m)\u001b[0m\u001b[0;34m/\u001b[0m\u001b[0;34m(\u001b[0m\u001b[0mrange_max\u001b[0m\u001b[0;34m+\u001b[0m\u001b[0;36m1\u001b[0m\u001b[0;34m-\u001b[0m\u001b[0mrange_min\u001b[0m\u001b[0;34m)\u001b[0m\u001b[0;34m)\u001b[0m\u001b[0;34m\u001b[0m\u001b[0;34m\u001b[0m\u001b[0m\n\u001b[1;32m      6\u001b[0m   \u001b[0;32mreturn\u001b[0m \u001b[0mexpected_payoffs\u001b[0m\u001b[0;34m\u001b[0m\u001b[0;34m\u001b[0m\u001b[0m\n",
            "\u001b[0;32m<ipython-input-16-7fd98a33af12>\u001b[0m in \u001b[0;36mcalculate_payoff_realprice\u001b[0;34m(strategy, real_price, imp_incr, imp_init, value)\u001b[0m\n\u001b[1;32m      5\u001b[0m   \u001b[0;32mfor\u001b[0m \u001b[0mi\u001b[0m \u001b[0;32min\u001b[0m \u001b[0mrange\u001b[0m\u001b[0;34m(\u001b[0m\u001b[0mlen\u001b[0m\u001b[0;34m(\u001b[0m\u001b[0mstrategy\u001b[0m\u001b[0;34m)\u001b[0m\u001b[0;34m)\u001b[0m\u001b[0;34m:\u001b[0m\u001b[0;34m\u001b[0m\u001b[0;34m\u001b[0m\u001b[0m\n\u001b[1;32m      6\u001b[0m     \u001b[0mbid\u001b[0m \u001b[0;34m=\u001b[0m \u001b[0mstrategy\u001b[0m\u001b[0;34m[\u001b[0m\u001b[0mi\u001b[0m\u001b[0;34m]\u001b[0m\u001b[0;34m\u001b[0m\u001b[0;34m\u001b[0m\u001b[0m\n\u001b[0;32m----> 7\u001b[0;31m     \u001b[0;32mif\u001b[0m \u001b[0mbid\u001b[0m \u001b[0;34m<=\u001b[0m \u001b[0mreal_price\u001b[0m\u001b[0;34m:\u001b[0m\u001b[0;34m\u001b[0m\u001b[0;34m\u001b[0m\u001b[0m\n\u001b[0m\u001b[1;32m      8\u001b[0m       \u001b[0mdiscount_factor\u001b[0m \u001b[0;34m=\u001b[0m \u001b[0;36m1\u001b[0m\u001b[0;34m\u001b[0m\u001b[0;34m\u001b[0m\u001b[0m\n\u001b[1;32m      9\u001b[0m       \u001b[0;32mfor\u001b[0m \u001b[0mj\u001b[0m \u001b[0;32min\u001b[0m \u001b[0mrange\u001b[0m\u001b[0;34m(\u001b[0m\u001b[0mi\u001b[0m\u001b[0;34m)\u001b[0m\u001b[0;34m:\u001b[0m\u001b[0;34m\u001b[0m\u001b[0;34m\u001b[0m\u001b[0m\n",
            "\u001b[0;31mTypeError\u001b[0m: '<=' not supported between instances of 'list' and 'int'"
          ]
        }
      ]
    },
    {
      "cell_type": "code",
      "source": [
        "import pandas as pd\n",
        "\n",
        "header = [\"R\"]\n",
        "data = [list(range(range_min, range_max+1)) + [\"total\"]]\n",
        "for strategy in all_strategies:\n",
        "  header.append(str(strategy))\n",
        "  data.append(calculate_expected_payoff(strategy, range_min, range_max, imp_incr, imp_init, value))\n",
        "\n",
        "# Transpose the data\n",
        "data = list(map(list, zip(*data)))\n",
        "# Convert the data to a pandas DataFrame\n",
        "df = pd.DataFrame(data, columns=header)"
      ],
      "metadata": {
        "id": "P1vYzlwHw7KO"
      },
      "execution_count": null,
      "outputs": []
    },
    {
      "cell_type": "code",
      "source": [
        "df.iloc[len(df)-1][1:].sort_values()[:15]"
      ],
      "metadata": {
        "id": "srKGYlCNxqIK",
        "colab": {
          "base_uri": "https://localhost:8080/"
        },
        "outputId": "78b98da0-e145-44a9-91c6-baadbfce8ec0"
      },
      "execution_count": null,
      "outputs": [
        {
          "output_type": "execute_result",
          "data": {
            "text/plain": [
              "[11]                  1.0\n",
              "[15, 11]              1.8\n",
              "[12, 11]              1.8\n",
              "[14, 11]              2.2\n",
              "[13, 11]              2.2\n",
              "[15, 14, 11]         2.34\n",
              "[15, 12, 11]         2.38\n",
              "[13, 12, 11]         2.38\n",
              "[15, 13, 11]         2.56\n",
              "[14, 13, 11]         2.56\n",
              "[14, 12, 11]         2.58\n",
              "[15, 14, 13, 11]    2.628\n",
              "[15, 14, 12, 11]    2.664\n",
              "[15, 13, 12, 11]    2.704\n",
              "[14, 13, 12, 11]    2.704\n",
              "Name: 5, dtype: object"
            ]
          },
          "metadata": {},
          "execution_count": 22
        }
      ]
    },
    {
      "cell_type": "code",
      "source": [],
      "metadata": {
        "id": "DZRfWD0EPovl"
      },
      "execution_count": null,
      "outputs": []
    }
  ]
}