{
  "nbformat": 4,
  "nbformat_minor": 0,
  "metadata": {
    "colab": {
      "provenance": [],
      "collapsed_sections": [
        "69z6-KSkV1yu",
        "bEinUhfKWGiE"
      ],
      "include_colab_link": true
    },
    "kernelspec": {
      "name": "python3",
      "display_name": "Python 3"
    },
    "language_info": {
      "name": "python"
    }
  },
  "cells": [
    {
      "cell_type": "markdown",
      "metadata": {
        "id": "view-in-github",
        "colab_type": "text"
      },
      "source": [
        "<a href=\"https://colab.research.google.com/github/Lenguist/insight-game-ai/blob/main/simple_sim_united.ipynb\" target=\"_parent\"><img src=\"https://colab.research.google.com/assets/colab-badge.svg\" alt=\"Open In Colab\"/></a>"
      ]
    },
    {
      "cell_type": "code",
      "source": [
        "#@title rules\n",
        "\"\"\"\n",
        "The Simple Simulation\n",
        "\n",
        "Rules: There is a Seller (Agent) who interacts with a Buyer (environment) trying to sell a car.\n",
        "The car has intrinsic value to the seller which is modelled with a variable value. Any price higher than value will constitute a profit for the Seller.\n",
        "The Buyer has some max price they are willing to pay for the car. This value is generated from a uniform random distribution in the range of (range_min, range_max).\n",
        "This range is known to the Seller. After the Buyer max price is set it will not change over the course of the episode.\n",
        "The Seller makes repeated offers to the Buyer and the Buyer will either accept the offer (if it is below maximum price) or reject it.\n",
        "Every time the Seller makes an offer Buyer get more impatient and they are more likely to walk away from the deal entrirely.\n",
        "This is modelled by the Buyer having some probability to walk (impatience) evaluated at the beginning of each round.\n",
        "Impatience is incremented each round by a constant amount known to the Seller. The initial impatience is always 0.\n",
        "\n",
        "The goal of the Seller agent is to maximize average expected return for a random buyer.\n",
        "\n",
        "\n",
        "Variables:\n",
        "value - constant across episodes, known to the Agent\n",
        "range_min, range_max - constant across episodes, known to the Agent\n",
        "Buyer's max_price - generated uniformly random from range_min, range_max at the beginning of each episode\n",
        "imp_incr - constant across episodes, known to the Agent\n",
        "imp_init - assumed to always be 0\n",
        "\n",
        "Prices are assumed to be discretized as integers.\n",
        "\n",
        "Future complications to the model are immediately obvious from writing out the variables.\n",
        "1. buyer max_price can be generated using a different known distribution\n",
        "2. buyer max_price can be generated using an unknown distribution\n",
        "3. imp_incr can be be non-constant, or hidden from the Seller\n",
        "4. imp_init can differ to account for Buyer variability\n",
        "We will discover which of those complications are informative in the process of experimentation.\n",
        "\n",
        "After we experiment with those the next step would be to allow Buyer to make bids, limit the supply of vehicles, introduce competition with another Seller,\n",
        "and make Buyer behaviour incrasingly more complex (bluffs, urgency, etc)\n",
        "\n",
        "QUESTION: shouldn't the number of cars be constant? aka there is incentive to keep the car if the car supply is limited\n",
        "\"\"\""
      ],
      "metadata": {
        "colab": {
          "base_uri": "https://localhost:8080/",
          "height": 108
        },
        "id": "hf8csv5jUiEx",
        "outputId": "78ecab99-44db-4790-eaa7-211311ffc4da",
        "cellView": "form"
      },
      "execution_count": null,
      "outputs": [
        {
          "output_type": "execute_result",
          "data": {
            "text/plain": [
              "\"\\nThe Simple Simulation\\n\\nRules: There is a Seller (Agent) who interacts with a Buyer (environment) trying to sell a car.\\nThe car has intrinsic value to the seller which is modelled with a variable value. Any price higher than value will constitute a profit for the Seller.\\nThe Buyer has some max price they are willing to pay for the car. This value is generated from a uniform random distribution in the range of (range_min, range_max).\\nThis range is known to the Seller. After the Buyer max price is set it will not change over the course of the episode.\\nThe Seller makes repeated offers to the Buyer and the Buyer will either accept the offer (if it is below maximum price) or reject it.\\nEvery time the Seller makes an offer Buyer get more impatient and they are more likely to walk away from the deal entrirely.\\nThis is modelled by the Buyer having some probability to walk (impatience) evaluated at the beginning of each round.\\nImpatience is incremented each round by a constant amount known to the Seller. The initial impatience is always 0.\\n\\nThe goal of the Seller agent is to maximize average expected return for a random buyer.\\n\\n\\nVariables:\\nvalue - constant across episodes, known to the Agent\\nrange_min, range_max - constant across episodes, known to the Agent\\nBuyer's max_price - generated uniformly random from range_min, range_max at the beginning of each episode\\nimp_incr - constant across episodes, known to the Agent\\nimp_init - assumed to always be 0\\n\\nPrices are assumed to be discretized as integers.\\n\\nFuture complications to the model are immediately obvious from writing out the variables.\\n1. buyer max_price can be generated using a different known distribution\\n2. buyer max_price can be generated using an unknown distribution\\n3. imp_incr can be be non-constant, or hidden from the Seller\\n4. imp_init can differ to account for Buyer variability\\nWe will discover which of those complications are informative in the process of experimentation.\\n\\nAfter we experiment with those the next step would be to allow Buyer to make bids, limit the supply of vehicles, introduce competition with another Seller,\\nand make Buyer behaviour incrasingly more complex (bluffs, urgency, etc)\\n\\nQUESTION: shouldn't the number of cars be constant? aka there is incentive to keep the car if the car supply is limited\\n\""
            ],
            "application/vnd.google.colaboratory.intrinsic+json": {
              "type": "string"
            }
          },
          "metadata": {},
          "execution_count": 2
        }
      ]
    },
    {
      "cell_type": "code",
      "source": [
        "\"\"\"\n",
        "code is structured in the following way. First, we initialize a Simulation with a certain value, range_min, range_max, imp_incr and imp_init.\n",
        "after that, we initialize an Interaction which constitutes to a single negotiation. That will include a Buyer max_price which will be generated according to simulaiton rules.\n",
        "\"\"\""
      ],
      "metadata": {
        "colab": {
          "base_uri": "https://localhost:8080/",
          "height": 70
        },
        "id": "s7svTIH7ZstK",
        "outputId": "2fa1be6b-e893-40cf-d93b-b633dcbe521f"
      },
      "execution_count": null,
      "outputs": [
        {
          "output_type": "execute_result",
          "data": {
            "text/plain": [
              "'\\ncode is structured in the following way. First, we initialize a Simulation with a certain value, range_min, range_max, imp_incr and imp_init.\\nafter that, we initialize an Interaction which constitutes to a single negotiation. That will include a Buyer max_price which will be generated according to simulaiton rules.\\n'"
            ],
            "application/vnd.google.colaboratory.intrinsic+json": {
              "type": "string"
            }
          },
          "metadata": {},
          "execution_count": 1
        }
      ]
    },
    {
      "cell_type": "markdown",
      "source": [
        "# Old code (non-markov assumption)"
      ],
      "metadata": {
        "id": "69z6-KSkV1yu"
      }
    },
    {
      "cell_type": "code",
      "source": [
        "import random\n",
        "class Buyer(object):\n",
        "    def __init__(self, maxprice, imp, imp_incr):\n",
        "        self.maxprice = maxprice\n",
        "        self.imp = imp\n",
        "    def check_offer(self, offer):\n",
        "      random_number = random.uniform(0, 1)\n",
        "      if random_number <= buyer.imp:\n",
        "        return \"walk away\"\n",
        "      elif offer <= maxprice:\n",
        "        return \"accept offer\"\n",
        "      else:\n",
        "        self.imp += imp_incr\n",
        "        return \"reject but continue\""
      ],
      "metadata": {
        "id": "83QEtUrsaHbh"
      },
      "execution_count": null,
      "outputs": []
    },
    {
      "cell_type": "code",
      "source": [
        "class Seller(object):\n",
        "  def __init__(self, value):\n",
        "    self.value = value\n",
        "    self.history = []\n",
        "  def make_offer(self):\n",
        "    raise NotImplementedError(\"Subclasses should implement this method.\")\n",
        "  def save_round(self, offer, decision):\n",
        "    self.history.append({\"offer\":offer, \"decision\":decision})\n",
        "\n",
        "class DescentByOneSeller(Seller):\n",
        "  def __init__(self, value, init_offer):\n",
        "    super().__init__(value)  # Call to parent's __init__ method\n",
        "    self.init_offer = init_offer\n",
        "  def make_offer(self):\n",
        "    if len(self.history)==0:\n",
        "      offer = self.init_offer\n",
        "    else:\n",
        "      offer = self.history[-1][\"offer\"]-1\n",
        "    return offer\n",
        "\n",
        "\n",
        "class UserInputSeller(Seller):\n",
        " def make_offer(self):\n",
        "  offer = int(input(\"You: \"))\n",
        "  return offer"
      ],
      "metadata": {
        "id": "S1J8cqD-cVdy"
      },
      "execution_count": null,
      "outputs": []
    },
    {
      "cell_type": "code",
      "source": [
        "class Interaction(object):\n",
        "  def __init__(self, buyer, seller, verbose=True):\n",
        "    self.buyer = buyer\n",
        "    self.seller = seller\n",
        "    self.verbose = verbose # whether to print info\n",
        "\n",
        "  def negotiation_round(self):\n",
        "    if self.verbose:\n",
        "      print(f\"The current buyer impatience is {self.buyer.imp}.\")\n",
        "    offer = self.seller.make_offer()\n",
        "    decision = self.buyer.check_offer(offer)\n",
        "    self.seller.save_round(offer, decision)\n",
        "    if self.verbose:\n",
        "      print(f\"Seller made offer of {offer}. The buyer decided to {decision}\")\n",
        "    return decision\n",
        "\n",
        "  def run_interaction(self):\n",
        "    decision = \"\"\n",
        "    while decision != \"walk away\" and decision != \"accept offer\":\n",
        "      decision = self.negotiation_round()\n",
        "    if decision == \"accept offer\":\n",
        "      final_offer = self.seller.history[-1][\"offer\"]\n",
        "      profit = final_offer - self.seller.value\n",
        "      if self.verbose:\n",
        "        print(f\"Deal made at {final_offer}\")\n",
        "        print(f\"Buyer's max_price was {self.buyer.maxprice}\")\n",
        "    else:\n",
        "      if self.verbose:\n",
        "        print(f\"No deal made - no profit.\")\n",
        "      profit = 0\n",
        "    return profit"
      ],
      "metadata": {
        "id": "-VLUVKr0l9Kh"
      },
      "execution_count": null,
      "outputs": []
    },
    {
      "cell_type": "code",
      "source": [
        "# simulation\n",
        "value = 10\n",
        "range_min = 11\n",
        "range_max = 15\n",
        "imp_incr = 0.1\n",
        "imp_init = 0\n",
        "\n",
        "rounds = 1000000\n",
        "i = 0\n",
        "total_profit = 0\n",
        "while i < rounds:\n",
        "  maxprice = int(random.uniform(range_min, range_max+1)) #+1 to include the upper bound\n",
        "  buyer = Buyer(maxprice, imp_init, imp_incr)\n",
        "  seller = DescentByOneSeller(value, range_max)\n",
        "\n",
        "  interaction = Interaction(buyer, seller, verbose=False)\n",
        "  profit = interaction.run_interaction()\n",
        "  total_profit += profit\n",
        "  i+= 1\n",
        "print(f\"Total_profit is ${total_profit} over {rounds} rounds for an average return of ${round(total_profit/rounds,2)}\")"
      ],
      "metadata": {
        "colab": {
          "base_uri": "https://localhost:8080/"
        },
        "id": "eiIkeqlvkkqm",
        "outputId": "e9637e8b-c03a-46be-cc81-e04f2b7d5486"
      },
      "execution_count": null,
      "outputs": [
        {
          "output_type": "stream",
          "name": "stdout",
          "text": [
            "Total_profit is $2413741 over 1000000 rounds for an average return of $2.41\n"
          ]
        }
      ]
    },
    {
      "cell_type": "code",
      "source": [
        "# user interaction\n",
        "value = 10\n",
        "range_min = 11\n",
        "range_max = 15\n",
        "imp_incr = 0.2\n",
        "imp_init = 0\n",
        "\n",
        "rounds = 4\n",
        "i = 0\n",
        "total_profit = 0\n",
        "while i < rounds:\n",
        "  maxprice = int(random.uniform(range_min, range_max+1)) #+1 to include the upper bound\n",
        "  buyer = Buyer(maxprice, imp_init, imp_incr)\n",
        "  seller = UserInputSeller(value)\n",
        "\n",
        "  interaction = Interaction(buyer, seller, verbose=True)\n",
        "  profit = interaction.run_interaction()\n",
        "  total_profit += profit\n",
        "  i+= 1\n",
        "print(f\"Total_profit is ${total_profit} over {rounds} rounds for an average return of ${round(total_profit/rounds,2)}\")"
      ],
      "metadata": {
        "colab": {
          "base_uri": "https://localhost:8080/"
        },
        "id": "Bzn7GLTkyVGy",
        "outputId": "0384674b-471a-4fb4-b064-83717490cea0"
      },
      "execution_count": null,
      "outputs": [
        {
          "output_type": "stream",
          "name": "stdout",
          "text": [
            "The current buyer impatience is 0.\n",
            "You: 10\n",
            "Seller made offer of 10. The buyer decided to accept offer\n",
            "Deal made at 10\n",
            "Buyer's max_price was 14\n",
            "The current buyer impatience is 0.\n",
            "You: 10\n",
            "Seller made offer of 10. The buyer decided to accept offer\n",
            "Deal made at 10\n",
            "Buyer's max_price was 14\n",
            "The current buyer impatience is 0.\n",
            "You: 10\n",
            "Seller made offer of 10. The buyer decided to accept offer\n",
            "Deal made at 10\n",
            "Buyer's max_price was 11\n",
            "The current buyer impatience is 0.\n",
            "You: 10\n",
            "Seller made offer of 10. The buyer decided to accept offer\n",
            "Deal made at 10\n",
            "Buyer's max_price was 13\n",
            "Total_profit is $0 over 4 rounds for an average return of $0.0\n"
          ]
        }
      ]
    },
    {
      "cell_type": "markdown",
      "source": [
        "# Policy iteration (direct calculation)"
      ],
      "metadata": {
        "id": "bEinUhfKWGiE"
      }
    },
    {
      "cell_type": "code",
      "source": [
        "# to get optimal strategy\n",
        "import math\n",
        "from itertools import combinations\n",
        "\n",
        "def all_possible_strategies(range_min, range_max, imp_incr, imp_init):\n",
        "  strategies = []\n",
        "  #get max number of moves possible\n",
        "  max_moves = math.ceil((1-imp_init)/imp_incr + 1)\n",
        "\n",
        "  # Reverse the input range\n",
        "  numbers = list(range(range_min, range_max + 1))[::-1]\n",
        "\n",
        "  # Generate all combinations\n",
        "  all_combinations = [list(comb) for i in range(1, max_moves + 1) for comb in combinations(numbers, i)]\n",
        "\n",
        "  # Filter out combinations that don't end with range_min or don't have k numbers\n",
        "  filtered_combinations = [comb for comb in all_combinations if (comb[-1] == range_min) or len(comb) == max_moves]\n",
        "\n",
        "  return filtered_combinations"
      ],
      "metadata": {
        "id": "3SyxYz91ewEp"
      },
      "execution_count": null,
      "outputs": []
    },
    {
      "cell_type": "code",
      "source": [
        "all_strategies = all_possible_strategies(range_min, range_max, imp_incr, imp_init)\n",
        "len(all_strategies)"
      ],
      "metadata": {
        "id": "NUzp_ohomUsW",
        "colab": {
          "base_uri": "https://localhost:8080/"
        },
        "outputId": "f454aedb-3a97-4b78-ba6b-7c3986aba385"
      },
      "execution_count": null,
      "outputs": [
        {
          "output_type": "execute_result",
          "data": {
            "text/plain": [
              "[[11],\n",
              " [15, 11],\n",
              " [14, 11],\n",
              " [13, 11],\n",
              " [12, 11],\n",
              " [15, 14, 11],\n",
              " [15, 13, 11],\n",
              " [15, 12, 11],\n",
              " [14, 13, 11],\n",
              " [14, 12, 11],\n",
              " [13, 12, 11],\n",
              " [15, 14, 13, 11],\n",
              " [15, 14, 12, 11],\n",
              " [15, 13, 12, 11],\n",
              " [14, 13, 12, 11],\n",
              " [15, 14, 13, 12, 11]]"
            ]
          },
          "metadata": {},
          "execution_count": 49
        }
      ]
    },
    {
      "cell_type": "code",
      "source": [
        "def calculate_payoff_realprice(strategy, real_price, imp_incr, imp_init, value):\n",
        "  payoff = 0\n",
        "  last_imp = 0\n",
        "  curr_imp = imp_init\n",
        "  for i in range(len(strategy)):\n",
        "    bid = strategy[i]\n",
        "    if bid <= real_price:\n",
        "      discount_factor = 1\n",
        "      for j in range(i):\n",
        "        discount_factor = discount_factor*(1-j*imp_incr)\n",
        "      payoff += discount_factor*(bid-value)\n",
        "      break\n",
        "    if bid > real_price:\n",
        "      last_imp = curr_imp\n",
        "      curr_imp = last_imp+imp_incr\n",
        "  return payoff\n",
        "\n",
        "def calculate_expected_payoff(strategy, range_min, range_max, imp_incr, imp_init, value):\n",
        "  expected_payoffs = []\n",
        "  for real_price in range(range_min, range_max+1):\n",
        "    expected_payoffs.append(calculate_payoff_realprice(strategy, real_price, imp_incr, imp_init, value))\n",
        "  expected_payoffs.append(sum(expected_payoffs)/(range_max+1-range_min))\n",
        "  return expected_payoffs"
      ],
      "metadata": {
        "id": "-NdQOpU-px8g"
      },
      "execution_count": null,
      "outputs": []
    },
    {
      "cell_type": "code",
      "source": [
        "import pandas as pd\n",
        "\n",
        "header = [\"R\"]\n",
        "data = [list(range(range_min, range_max+1)) + [\"total\"]]\n",
        "for strategy in all_strategies:\n",
        "  header.append(str(strategy))\n",
        "  data.append(calculate_expected_payoff(strategy, range_min, range_max, imp_incr, imp_init, value))\n",
        "\n",
        "# Transpose the data\n",
        "data = list(map(list, zip(*data)))\n",
        "# Convert the data to a pandas DataFrame\n",
        "df = pd.DataFrame(data, columns=header)"
      ],
      "metadata": {
        "id": "P1vYzlwHw7KO"
      },
      "execution_count": null,
      "outputs": []
    },
    {
      "cell_type": "code",
      "source": [
        "df.iloc[len(df)-1][1:].sort_values()[:15]"
      ],
      "metadata": {
        "id": "srKGYlCNxqIK",
        "colab": {
          "base_uri": "https://localhost:8080/"
        },
        "outputId": "aee49238-9140-46d0-9167-cbf1f5ac5904"
      },
      "execution_count": null,
      "outputs": [
        {
          "output_type": "execute_result",
          "data": {
            "text/plain": [
              "[11]                  1.0\n",
              "[15, 11]              1.8\n",
              "[12, 11]              1.8\n",
              "[14, 11]              2.2\n",
              "[13, 11]              2.2\n",
              "[15, 14, 11]         2.34\n",
              "[15, 12, 11]         2.38\n",
              "[13, 12, 11]         2.38\n",
              "[15, 13, 11]         2.56\n",
              "[14, 13, 11]         2.56\n",
              "[14, 12, 11]         2.58\n",
              "[15, 14, 13, 11]    2.628\n",
              "[15, 14, 12, 11]    2.664\n",
              "[15, 13, 12, 11]    2.704\n",
              "[14, 13, 12, 11]    2.704\n",
              "Name: 5, dtype: object"
            ]
          },
          "metadata": {},
          "execution_count": 54
        }
      ]
    },
    {
      "cell_type": "markdown",
      "source": [
        "# Simulation code (with Markov assumption)"
      ],
      "metadata": {
        "id": "G9TrUpGJWQmM"
      }
    },
    {
      "cell_type": "code",
      "source": [
        "\"\"\"\n",
        "Markov assumption states that the past doesn't affect the present - all information relevant to decision making is contained in the \"state\"\n",
        "To this end we will modify our original agents to have access to state rather than history\n",
        "State will encapsulate the current impatience, and the current\n",
        "\"\"\""
      ],
      "metadata": {
        "colab": {
          "base_uri": "https://localhost:8080/",
          "height": 54
        },
        "id": "osPvXLANWSZo",
        "outputId": "a8e53537-4e99-4271-9f2b-d2493613590b"
      },
      "execution_count": null,
      "outputs": [
        {
          "output_type": "execute_result",
          "data": {
            "text/plain": [
              "'\\nMarkov assumption states that the past doesn\\'t affect the present - all information relevant to decision making is contained in the \"state\" \\nTo this end we will modify our original agents to have access to state rather than history\\n'"
            ],
            "application/vnd.google.colaboratory.intrinsic+json": {
              "type": "string"
            }
          },
          "metadata": {},
          "execution_count": 12
        }
      ]
    },
    {
      "cell_type": "code",
      "source": [
        "import random\n",
        "class Buyer(object):\n",
        "    def __init__(self, maxprice, imp_init, imp_incr):\n",
        "        self.maxprice = maxprice\n",
        "        self.imp = imp_init\n",
        "        self.imp_incr = imp_incr\n",
        "    def check_offer(self, offer):\n",
        "      random_number = random.uniform(0, 1)\n",
        "      if random_number <= self.imp:\n",
        "        return \"walk away\"\n",
        "      elif offer <= self.maxprice:\n",
        "        return \"accept offer\"\n",
        "      else:\n",
        "        self.imp += self.imp_incr\n",
        "        return \"reject but continue\""
      ],
      "metadata": {
        "id": "mT1B5T1oW-AY"
      },
      "execution_count": null,
      "outputs": []
    },
    {
      "cell_type": "code",
      "source": [
        "class Episode(object):\n",
        "  def __init__(self, buyer, seller, verbose=True):\n",
        "    self.buyer = buyer\n",
        "    self.seller = seller\n",
        "    self.verbose = verbose # whether to print info\n",
        "\n",
        "  def negotiation_round(self):\n",
        "    if self.verbose:\n",
        "      print(f\"Curr state: {self.seller.state}\")\n",
        "\n",
        "    offer = self.seller.make_offer()\n",
        "    decision = self.buyer.check_offer(offer)\n",
        "    new_state = {\"last-offer\":offer, \"imp\":self.buyer.imp}\n",
        "    self.seller.state = new_state\n",
        "\n",
        "    if self.verbose:\n",
        "      print(f\"Seller made offer of {offer}. The buyer decided to {decision}\")\n",
        "    return decision\n",
        "\n",
        "  def run_episode(self):\n",
        "    decision = \"\"\n",
        "    while decision != \"walk away\" and decision != \"accept offer\":\n",
        "      decision = self.negotiation_round()\n",
        "\n",
        "    if decision == \"accept offer\":\n",
        "      final_offer = self.seller.state[\"last-offer\"]\n",
        "      profit = final_offer - self.seller.value\n",
        "      if self.verbose:\n",
        "        print(f\"Deal made at {final_offer}\")\n",
        "        print(f\"Buyer's max_price was {self.buyer.maxprice}\")\n",
        "\n",
        "    else:\n",
        "      if self.verbose:\n",
        "        print(f\"No deal made - no profit.\")\n",
        "        print(f\"Buyer's max_price was {self.buyer.maxprice}\")\n",
        "      profit = 0\n",
        "    # reset seller state\n",
        "    self.seller.reset_state()\n",
        "    return profit"
      ],
      "metadata": {
        "id": "FPkprPmtje-1"
      },
      "execution_count": 267,
      "outputs": []
    },
    {
      "cell_type": "code",
      "source": [
        "def simulation(value, range_min, range_max, imp_incr, imp_init, rounds, seller, verbose=False):\n",
        "  total_profit = 0\n",
        "  round_cnt = 0\n",
        "  for i in range(rounds):\n",
        "    maxprice = int(random.uniform(range_min, range_max+1))\n",
        "    buyer = Buyer(maxprice, imp_init, imp_incr)\n",
        "    episode = Episode(buyer, seller, verbose=verbose)\n",
        "    profit = episode.run_episode()\n",
        "    total_profit += profit\n",
        "  average_return = total_profit/rounds\n",
        "  return average_return"
      ],
      "metadata": {
        "id": "LU_k7vNReqKT"
      },
      "execution_count": 507,
      "outputs": []
    },
    {
      "cell_type": "code",
      "source": [
        "class Seller(object):\n",
        "  def __init__(self, value, imp_init, init_offer):\n",
        "    self.value = value\n",
        "    self.imp_init = imp_init\n",
        "    self.init_offer = init_offer\n",
        "    self.state = {\"last-offer\": self.init_offer, \"imp\":self.imp_init} # initial state\n",
        "  def make_offer(self):\n",
        "    raise NotImplementedError(\"Subclasses should implement this method.\")\n",
        "  def reset_state(self):\n",
        "    self.state = {\"last-offer\":self.init_offer, \"imp\":self.imp_init}\n",
        "\n",
        "class RandomSeller(Seller):\n",
        "  def make_offer(self):\n",
        "    offer = int(random.uniform(value+1, self.state[\"last-offer\"])) # return random offer\n",
        "    return offer\n",
        "\n",
        "class DescentByOneSeller(Seller):\n",
        "  def make_offer(self):\n",
        "    offer = self.state[\"last-offer\"]-1\n",
        "    return offer\n",
        "\n",
        "class UserInputSeller(Seller):\n",
        " def make_offer(self):\n",
        "  offer = int(input(\"You: \"))\n",
        "  return offer"
      ],
      "metadata": {
        "id": "Vh5eiftLYDyP"
      },
      "execution_count": 435,
      "outputs": []
    },
    {
      "cell_type": "code",
      "source": [
        "class DescentArithmeticSeller(Seller):\n",
        "  def __init__(self, value, imp_init, init_offer, init_descent):\n",
        "    super().__init__(value, imp_init, init_offer)\n",
        "    self.init_descent = init_descent\n",
        "    self.descent = init_descent\n",
        "  def make_offer(self):\n",
        "    offer = self.state[\"last-offer\"]-max(self.descent,1)\n",
        "    self.descent = self.descent-1\n",
        "    return offer\n",
        "  def reset_state(self):\n",
        "    super().reset_state()\n",
        "    self.descent = self.init_descent"
      ],
      "metadata": {
        "id": "FU7tIJcH5Jcc"
      },
      "execution_count": 512,
      "outputs": []
    },
    {
      "cell_type": "code",
      "source": [
        "class DescentByNSeller(Seller):\n",
        "  def __init__(self, value, imp_init, init_offer, descent):\n",
        "    super().__init__(value, imp_init, init_offer)\n",
        "    self.descent = descent\n",
        "  def make_offer(self):\n",
        "    offer = self.state[\"last-offer\"]-self.descent\n",
        "    return offer"
      ],
      "metadata": {
        "id": "x4YTlQrr40wM"
      },
      "execution_count": 513,
      "outputs": []
    },
    {
      "cell_type": "code",
      "source": [
        "imp_list = [i / 10.0 for i in range(11)]\n",
        "all_results = []\n",
        "\n",
        "# params that are needed to initialize seller\n",
        "value = 10\n",
        "range_min = 11\n",
        "range_max = 50\n",
        "rounds = 10000\n",
        "n = 1\n",
        "sim_results = []\n",
        "seller = DescentByNSeller(value=value, imp_init=0, init_offer=range_max, descent=n)\n",
        "for imp_incr in imp_list:\n",
        "  result = simulation(value,\n",
        "                        range_min,\n",
        "                        range_max,\n",
        "                        imp_incr = imp_incr,\n",
        "                        imp_init = 0,\n",
        "                        rounds = rounds,\n",
        "                        seller=seller)\n",
        "  sim_results.append(result)\n",
        "\n",
        "all_results.append(sim_results)"
      ],
      "metadata": {
        "id": "UeYI67TqGTpl"
      },
      "execution_count": 528,
      "outputs": []
    },
    {
      "cell_type": "code",
      "source": [
        "random_results = []\n",
        "seller = RandomSeller(value=value, imp_init=0, init_offer=range_max)\n",
        "for imp_incr in imp_list:\n",
        "  result = simulation(value,\n",
        "                        range_min,\n",
        "                        range_max,\n",
        "                        imp_incr = imp_incr,\n",
        "                        imp_init = 0,\n",
        "                        rounds = rounds,\n",
        "                        seller=seller)\n",
        "  random_results.append(result)"
      ],
      "metadata": {
        "id": "l0N4qSEKJVAY"
      },
      "execution_count": 529,
      "outputs": []
    },
    {
      "cell_type": "code",
      "source": [
        "arithmetic_results = []\n",
        "n = 20\n",
        "seller = DescentArithmeticSeller(value=value, imp_init=0, init_offer=range_max, init_descent = n)\n",
        "for imp_incr in imp_list:\n",
        "  result = simulation(value,\n",
        "                        range_min,\n",
        "                        range_max,\n",
        "                        imp_incr = imp_incr,\n",
        "                        imp_init = 0,\n",
        "                        rounds = rounds,\n",
        "                        seller=seller)\n",
        "  arithmetic_results.append(result)"
      ],
      "metadata": {
        "id": "TPYHBHYwJfno"
      },
      "execution_count": 539,
      "outputs": []
    },
    {
      "cell_type": "code",
      "source": [
        "import matplotlib.pyplot as plt\n",
        "\n",
        "plt.figure(figsize=(10, 6))\n",
        "for i in range(len(all_results)):\n",
        "  plt.plot(imp_list, all_results[i], marker='o', label=f'DescentBy{i+1}Seller')\n",
        "plt.plot(imp_list, random_results, marker='o', label=f'RandomSeller')\n",
        "plt.plot(imp_list, arithmetic_results, marker='o', label=f'DescentArithmeticSeller')\n",
        "plt.title('Payoff vs. Imp_incr')\n",
        "plt.xlabel('Impatience Incremenet')\n",
        "plt.ylabel('Average Episode Payoff')\n",
        "plt.grid()\n",
        "\n",
        "plt.legend()  # This will create a legend using the labels specified in the plot functions\n",
        "\n",
        "plt.show()"
      ],
      "metadata": {
        "colab": {
          "base_uri": "https://localhost:8080/",
          "height": 564
        },
        "id": "ZgoBPvIRETfh",
        "outputId": "b5ec490a-1288-49b8-b5dc-b44110c57cab"
      },
      "execution_count": 540,
      "outputs": [
        {
          "output_type": "display_data",
          "data": {
            "text/plain": [
              "<Figure size 1000x600 with 1 Axes>"
            ],
            "image/png": "[encoded data removed]"
          },
          "metadata": {}
        }
      ]
    },
    {
      "cell_type": "code",
      "source": [
        "imp_list = [i / 10.0 for i in range(11)]\n",
        "all_results = []\n",
        "\n",
        "# params that are needed to initialize seller\n",
        "value = 10\n",
        "range_min = 11\n",
        "range_max = 30\n",
        "\n",
        "for n in range(2):\n",
        "  sim_results = []\n",
        "  seller = DescentByNSeller(value=value, imp_init=0, init_offer=range_max, descent=n)\n",
        "\n",
        "  for imp_incr in imp_list:\n",
        "    result = simulation(value,\n",
        "                        range_min,\n",
        "                        range_max,\n",
        "                        imp_incr = imp_incr,\n",
        "                        imp_init = 0,\n",
        "                        rounds = 1,\n",
        "                        seller=seller)\n",
        "    sim_results.append(result)\n",
        "\n",
        "  all_results.append(sim_results)"
      ],
      "metadata": {
        "colab": {
          "base_uri": "https://localhost:8080/",
          "height": 381
        },
        "id": "1E92zCP-5umO",
        "outputId": "a90db119-8110-4ea2-b931-a0455f794e56"
      },
      "execution_count": 441,
      "outputs": [
        {
          "output_type": "error",
          "ename": "KeyboardInterrupt",
          "evalue": "ignored",
          "traceback": [
            "\u001b[0;31m---------------------------------------------------------------------------\u001b[0m",
            "\u001b[0;31mKeyboardInterrupt\u001b[0m                         Traceback (most recent call last)",
            "\u001b[0;32m<ipython-input-441-a68b6a535da0>\u001b[0m in \u001b[0;36m<cell line: 9>\u001b[0;34m()\u001b[0m\n\u001b[1;32m     12\u001b[0m \u001b[0;34m\u001b[0m\u001b[0m\n\u001b[1;32m     13\u001b[0m   \u001b[0;32mfor\u001b[0m \u001b[0mimp_incr\u001b[0m \u001b[0;32min\u001b[0m \u001b[0mimp_list\u001b[0m\u001b[0;34m:\u001b[0m\u001b[0;34m\u001b[0m\u001b[0;34m\u001b[0m\u001b[0m\n\u001b[0;32m---> 14\u001b[0;31m     result = simulation(value,\n\u001b[0m\u001b[1;32m     15\u001b[0m                         \u001b[0mrange_min\u001b[0m\u001b[0;34m,\u001b[0m\u001b[0;34m\u001b[0m\u001b[0;34m\u001b[0m\u001b[0m\n\u001b[1;32m     16\u001b[0m                         \u001b[0mrange_max\u001b[0m\u001b[0;34m,\u001b[0m\u001b[0;34m\u001b[0m\u001b[0;34m\u001b[0m\u001b[0m\n",
            "\u001b[0;32m<ipython-input-434-0befc944b134>\u001b[0m in \u001b[0;36msimulation\u001b[0;34m(value, range_min, range_max, imp_incr, imp_init, rounds, seller)\u001b[0m\n\u001b[1;32m      6\u001b[0m     \u001b[0mbuyer\u001b[0m \u001b[0;34m=\u001b[0m \u001b[0mBuyer\u001b[0m\u001b[0;34m(\u001b[0m\u001b[0mmaxprice\u001b[0m\u001b[0;34m,\u001b[0m \u001b[0mimp_init\u001b[0m\u001b[0;34m,\u001b[0m \u001b[0mimp_incr\u001b[0m\u001b[0;34m)\u001b[0m\u001b[0;34m\u001b[0m\u001b[0;34m\u001b[0m\u001b[0m\n\u001b[1;32m      7\u001b[0m     \u001b[0mepisode\u001b[0m \u001b[0;34m=\u001b[0m \u001b[0mEpisode\u001b[0m\u001b[0;34m(\u001b[0m\u001b[0mbuyer\u001b[0m\u001b[0;34m,\u001b[0m \u001b[0mseller\u001b[0m\u001b[0;34m,\u001b[0m \u001b[0mverbose\u001b[0m\u001b[0;34m=\u001b[0m\u001b[0;32mFalse\u001b[0m\u001b[0;34m)\u001b[0m\u001b[0;34m\u001b[0m\u001b[0;34m\u001b[0m\u001b[0m\n\u001b[0;32m----> 8\u001b[0;31m     \u001b[0mprofit\u001b[0m \u001b[0;34m=\u001b[0m \u001b[0mepisode\u001b[0m\u001b[0;34m.\u001b[0m\u001b[0mrun_episode\u001b[0m\u001b[0;34m(\u001b[0m\u001b[0;34m)\u001b[0m\u001b[0;34m\u001b[0m\u001b[0;34m\u001b[0m\u001b[0m\n\u001b[0m\u001b[1;32m      9\u001b[0m     \u001b[0mtotal_profit\u001b[0m \u001b[0;34m+=\u001b[0m \u001b[0mprofit\u001b[0m\u001b[0;34m\u001b[0m\u001b[0;34m\u001b[0m\u001b[0m\n\u001b[1;32m     10\u001b[0m   \u001b[0maverage_return\u001b[0m \u001b[0;34m=\u001b[0m \u001b[0mtotal_profit\u001b[0m\u001b[0;34m/\u001b[0m\u001b[0mrounds\u001b[0m\u001b[0;34m\u001b[0m\u001b[0;34m\u001b[0m\u001b[0m\n",
            "\u001b[0;32m<ipython-input-267-80045c978b06>\u001b[0m in \u001b[0;36mrun_episode\u001b[0;34m(self)\u001b[0m\n\u001b[1;32m     20\u001b[0m   \u001b[0;32mdef\u001b[0m \u001b[0mrun_episode\u001b[0m\u001b[0;34m(\u001b[0m\u001b[0mself\u001b[0m\u001b[0;34m)\u001b[0m\u001b[0;34m:\u001b[0m\u001b[0;34m\u001b[0m\u001b[0;34m\u001b[0m\u001b[0m\n\u001b[1;32m     21\u001b[0m     \u001b[0mdecision\u001b[0m \u001b[0;34m=\u001b[0m \u001b[0;34m\"\"\u001b[0m\u001b[0;34m\u001b[0m\u001b[0;34m\u001b[0m\u001b[0m\n\u001b[0;32m---> 22\u001b[0;31m     \u001b[0;32mwhile\u001b[0m \u001b[0mdecision\u001b[0m \u001b[0;34m!=\u001b[0m \u001b[0;34m\"walk away\"\u001b[0m \u001b[0;32mand\u001b[0m \u001b[0mdecision\u001b[0m \u001b[0;34m!=\u001b[0m \u001b[0;34m\"accept offer\"\u001b[0m\u001b[0;34m:\u001b[0m\u001b[0;34m\u001b[0m\u001b[0;34m\u001b[0m\u001b[0m\n\u001b[0m\u001b[1;32m     23\u001b[0m       \u001b[0mdecision\u001b[0m \u001b[0;34m=\u001b[0m \u001b[0mself\u001b[0m\u001b[0;34m.\u001b[0m\u001b[0mnegotiation_round\u001b[0m\u001b[0;34m(\u001b[0m\u001b[0;34m)\u001b[0m\u001b[0;34m\u001b[0m\u001b[0;34m\u001b[0m\u001b[0m\n\u001b[1;32m     24\u001b[0m \u001b[0;34m\u001b[0m\u001b[0m\n",
            "\u001b[0;31mKeyboardInterrupt\u001b[0m: "
          ]
        }
      ]
    },
    {
      "cell_type": "code",
      "source": [
        "import matplotlib.pyplot as plt\n",
        "\n",
        "plt.figure(figsize=(10, 6))\n",
        "plt.plot(imp_list, random_sim_results, marker='o', label='Random Seller')\n",
        "plt.plot(imp_list, byone_sim_results, marker='o', label='DescentByOne Seller')\n",
        "plt.title('Payoff vs. Imp_incr')\n",
        "plt.xlabel('Impatience Incremenet')\n",
        "plt.ylabel('Average Episode Payoff')\n",
        "plt.grid()\n",
        "\n",
        "plt.legend()  # This will create a legend using the labels specified in the plot functions\n",
        "\n",
        "plt.show()\n"
      ],
      "metadata": {
        "colab": {
          "base_uri": "https://localhost:8080/",
          "height": 564
        },
        "id": "vdQqzmSX3Wgi",
        "outputId": "89780a9b-19b1-4ad7-f613-e32a466c78a0"
      },
      "execution_count": 389,
      "outputs": [
        {
          "output_type": "display_data",
          "data": {
            "text/plain": [
              "<Figure size 1000x600 with 1 Axes>"
            ],
            "image/png": "[encoded data removed]"
          },
          "metadata": {}
        }
      ]
    },
    {
      "cell_type": "code",
      "source": [
        "\"\"\"\n",
        "compute and reach nash equilibrium quickly\n",
        "design specific neural network structure for our specific problem\n",
        "q learning, deep q learning\n",
        "\"\"\""
      ],
      "metadata": {
        "id": "qZmV6LZ-7Uyf"
      },
      "execution_count": null,
      "outputs": []
    },
    {
      "cell_type": "code",
      "source": [
        " # simulation\n",
        "value = 10\n",
        "range_min = 11\n",
        "range_max = 30\n",
        "imp_incr = 0.1\n",
        "imp_init = 0\n",
        "init_offer = range_max\n",
        "\n",
        "maxprice = int(random.uniform(range_min, range_max+1)) #+1 to include the upper bound\n",
        "buyer = Buyer(maxprice, imp_init, imp_incr)\n",
        "\n",
        "\n",
        "print(\"RandomSeller episode\")\n",
        "seller = RandomSeller(value, imp_init, init_offer)\n",
        "episode = Episode(buyer, seller, verbose=True)\n",
        "profit = episode.run_episode()\n",
        "\n",
        "print(\"\\n\")\n",
        "print(\"DescentByOneSeller episode\")\n",
        "seller = DescentByOneSeller(value, imp_init, init_offer)\n",
        "episode = Episode(buyer, seller, verbose=True)\n",
        "profit = episode.run_episode()\n"
      ],
      "metadata": {
        "colab": {
          "base_uri": "https://localhost:8080/"
        },
        "id": "ui7W7cDdYLow",
        "outputId": "74546a65-630d-43a7-c66a-c4b075d64111"
      },
      "execution_count": 403,
      "outputs": [
        {
          "output_type": "stream",
          "name": "stdout",
          "text": [
            "RandomSeller episode\n",
            "Curr state: {'last-offer': 30, 'imp': 0}\n",
            "Seller made offer of 13. The buyer decided to accept offer\n",
            "Deal made at 13\n",
            "Buyer's max_price was 25\n",
            "\n",
            "\n",
            "DescentByOneSeller episode\n",
            "Curr state: {'last-offer': 30, 'imp': 0}\n",
            "Seller made offer of 29. The buyer decided to reject but continue\n",
            "Curr state: {'last-offer': 29, 'imp': 0.1}\n",
            "Seller made offer of 28. The buyer decided to reject but continue\n",
            "Curr state: {'last-offer': 28, 'imp': 0.2}\n",
            "Seller made offer of 27. The buyer decided to reject but continue\n",
            "Curr state: {'last-offer': 27, 'imp': 0.30000000000000004}\n",
            "Seller made offer of 26. The buyer decided to reject but continue\n",
            "Curr state: {'last-offer': 26, 'imp': 0.4}\n",
            "Seller made offer of 25. The buyer decided to accept offer\n",
            "Deal made at 25\n",
            "Buyer's max_price was 25\n"
          ]
        }
      ]
    },
    {
      "cell_type": "code",
      "source": [
        "# simulation\n",
        "value = 10\n",
        "range_min = 11\n",
        "range_max = 15\n",
        "imp_incr = 0.1\n",
        "imp_init = 0\n",
        "init_offer = 16\n",
        "\n",
        "maxprice = int(random.uniform(range_min, range_max+1)) #+1 to include the upper bound\n",
        "buyer = Buyer(maxprice, imp_init, imp_incr)\n",
        "seller = RandomSeller(value, imp_init, init_offer)\n",
        "\n",
        "episode = Episode(buyer, seller, verbose=True)\n",
        "profit = episode.run_episode()\n",
        "print(profit)"
      ],
      "metadata": {
        "id": "u8ErXiQZcQl7"
      },
      "execution_count": null,
      "outputs": []
    },
    {
      "cell_type": "code",
      "source": [
        "# simulation\n",
        "value = 10\n",
        "range_min = 11\n",
        "range_max = 15\n",
        "imp_incr = 0.1\n",
        "imp_init = 0\n",
        "\n",
        "maxprice = int(random.uniform(range_min, range_max+1)) #+1 to include the upper bound\n",
        "buyer = Buyer(maxprice, imp_init, imp_incr)\n",
        "seller = RandomSeller(value, range_max)\n",
        "\n",
        "  interaction = Interaction(buyer, seller, verbose=False)\n",
        "  profit = interaction.run_interaction()\n",
        "  total_profit += profit\n",
        "\n",
        "rounds = 1000000\n",
        "i = 0\n",
        "total_profit = 0\n",
        "while i < rounds:\n",
        "  maxprice = int(random.uniform(range_min, range_max+1)) #+1 to include the upper bound\n",
        "  buyer = Buyer(maxprice, imp_init, imp_incr)\n",
        "  seller = RandomSeller(value, range_max)\n",
        "\n",
        "  interaction = Interaction(buyer, seller, verbose=False)\n",
        "  profit = interaction.run_interaction()\n",
        "  total_profit += profit\n",
        "  i+= 1\n",
        "print(f\"Total_profit is ${total_profit} over {rounds} rounds for an average return of ${round(total_profit/rounds,2)}\")"
      ],
      "metadata": {
        "id": "e9cktC9GaLP6"
      },
      "execution_count": null,
      "outputs": []
    },
    {
      "cell_type": "code",
      "source": [
        "import numpy as np\n",
        "\n",
        "# initialize parameters\n",
        "alpha = 0.5\n",
        "gamma = 1\n",
        "epsilon = 0.1\n",
        "num_episodes = 100\n",
        "\n",
        "actions = [11,12,13,14,15]\n",
        "# specify the number of states and actions\n",
        "num_states = 16 # 0 is initial (None, 0) everything else is up to 1 prob for each price\n",
        "num_actions = 5  # 11, 12 ,13, 14, 15\n",
        "# initialize Q-table with zeros\n",
        "Q = np.zeros((num_states, num_actions))"
      ],
      "metadata": {
        "id": "yvOGlztK_Xa_"
      },
      "execution_count": null,
      "outputs": []
    },
    {
      "cell_type": "code",
      "source": [
        "# simulation\n",
        "value = 10\n",
        "range_min = 11\n",
        "range_max = 15\n",
        "imp_incr = 0.5\n",
        "imp_init = 0"
      ],
      "metadata": {
        "id": "8yMd3aGcAY0Z"
      },
      "execution_count": null,
      "outputs": []
    },
    {
      "cell_type": "code",
      "source": [
        "possible_actions = list(range(range_min, range_max+1))\n",
        "possible_actions\n",
        "\n",
        "possible_impatience = [0,0.5,1]\n",
        "\n",
        "possible_states = [(None, 0)]\n",
        "for offer in possible_actions:\n",
        "  for impatience in possible_impatience:\n",
        "    possible_states.append((offer, impatience))\n",
        "\n",
        "\n",
        "\n",
        "Q_table = []\n",
        "for state in possible_states:\n",
        "  row_id = str(state)\n",
        "  row = {row_id:[]}\n",
        "  for action in possible_actions:\n",
        "    col_id = str(action)\n",
        "    row[row_id].append({col_id:0})\n",
        "  Q_table.append(row)"
      ],
      "metadata": {
        "id": "oR9gR-slDfFI"
      },
      "execution_count": null,
      "outputs": []
    },
    {
      "cell_type": "code",
      "source": [
        "Q_table"
      ],
      "metadata": {
        "colab": {
          "base_uri": "https://localhost:8080/"
        },
        "id": "xZ1bZOvqHeQg",
        "outputId": "597588b1-b189-4649-9cd4-c9e6e9aac837"
      },
      "execution_count": null,
      "outputs": [
        {
          "output_type": "execute_result",
          "data": {
            "text/plain": [
              "[{'(None, 0)': [{'11': 0}, {'12': 0}, {'13': 0}, {'14': 0}, {'15': 0}]},\n",
              " {'(11, 0)': [{'11': 0}, {'12': 0}, {'13': 0}, {'14': 0}, {'15': 0}]},\n",
              " {'(11, 0.5)': [{'11': 0}, {'12': 0}, {'13': 0}, {'14': 0}, {'15': 0}]},\n",
              " {'(11, 1)': [{'11': 0}, {'12': 0}, {'13': 0}, {'14': 0}, {'15': 0}]},\n",
              " {'(12, 0)': [{'11': 0}, {'12': 0}, {'13': 0}, {'14': 0}, {'15': 0}]},\n",
              " {'(12, 0.5)': [{'11': 0}, {'12': 0}, {'13': 0}, {'14': 0}, {'15': 0}]},\n",
              " {'(12, 1)': [{'11': 0}, {'12': 0}, {'13': 0}, {'14': 0}, {'15': 0}]},\n",
              " {'(13, 0)': [{'11': 0}, {'12': 0}, {'13': 0}, {'14': 0}, {'15': 0}]},\n",
              " {'(13, 0.5)': [{'11': 0}, {'12': 0}, {'13': 0}, {'14': 0}, {'15': 0}]},\n",
              " {'(13, 1)': [{'11': 0}, {'12': 0}, {'13': 0}, {'14': 0}, {'15': 0}]},\n",
              " {'(14, 0)': [{'11': 0}, {'12': 0}, {'13': 0}, {'14': 0}, {'15': 0}]},\n",
              " {'(14, 0.5)': [{'11': 0}, {'12': 0}, {'13': 0}, {'14': 0}, {'15': 0}]},\n",
              " {'(14, 1)': [{'11': 0}, {'12': 0}, {'13': 0}, {'14': 0}, {'15': 0}]},\n",
              " {'(15, 0)': [{'11': 0}, {'12': 0}, {'13': 0}, {'14': 0}, {'15': 0}]},\n",
              " {'(15, 0.5)': [{'11': 0}, {'12': 0}, {'13': 0}, {'14': 0}, {'15': 0}]},\n",
              " {'(15, 1)': [{'11': 0}, {'12': 0}, {'13': 0}, {'14': 0}, {'15': 0}]}]"
            ]
          },
          "metadata": {},
          "execution_count": 67
        }
      ]
    },
    {
      "cell_type": "code",
      "source": [
        "class QLearningSeller(Seller):\n",
        "  def __init__(self, value, Q_table, epsilon, alpha):\n",
        "    super().__init__(value)  # Call to parent's __init__ method\n",
        "    self.Q_table = Q_table\n",
        "    self.epsilon = epsilon\n",
        "    self.alpha = alpha\n",
        "  def make_offer(self):\n",
        "    curr_state = #HOW OD I GET THE CURRENT STATE HERE\n",
        "    # explore\n",
        "    if np.random.random()<self.epsilon:\n",
        "      offer =\n",
        "    # exploit\n",
        "\n",
        "    return offer"
      ],
      "metadata": {
        "id": "apPUyEUrFc_D"
      },
      "execution_count": null,
      "outputs": []
    },
    {
      "cell_type": "code",
      "source": [
        "np.random.random()"
      ],
      "metadata": {
        "colab": {
          "base_uri": "https://localhost:8080/"
        },
        "id": "v6cGrNYwGfYH",
        "outputId": "ad597788-779f-4424-f8cd-3080e136ce06"
      },
      "execution_count": null,
      "outputs": [
        {
          "output_type": "execute_result",
          "data": {
            "text/plain": [
              "0.23918557423431552"
            ]
          },
          "metadata": {},
          "execution_count": 65
        }
      ]
    },
    {
      "cell_type": "code",
      "source": [
        "\n",
        "\n",
        "rounds = 1000000\n",
        "i = 0\n",
        "while i < rounds:\n",
        "  maxprice = int(random.uniform(range_min, range_max+1)) #+1 to include the upper bound\n",
        "  buyer = Buyer(maxprice, imp_init, imp_incr)\n",
        "  seller = DescentByOneSeller(value, range_max)\n",
        "\n",
        "  interaction = Interaction(buyer, seller, verbose=False)\n",
        "  profit = interaction.run_interaction()\n",
        "  total_profit += profit\n",
        "  i+= 1\n",
        "print(f\"Total_profit is ${total_profit} over {rounds} rounds for an average return of ${round(total_profit/rounds,2)}\")"
      ],
      "metadata": {
        "id": "DZRfWD0EPovl",
        "colab": {
          "base_uri": "https://localhost:8080/",
          "height": 242
        },
        "outputId": "2bcf59c3-3a8a-4810-93ef-7d325f1bbfdb"
      },
      "execution_count": null,
      "outputs": [
        {
          "output_type": "error",
          "ename": "TypeError",
          "evalue": "ignored",
          "traceback": [
            "\u001b[0;31m---------------------------------------------------------------------------\u001b[0m",
            "\u001b[0;31mTypeError\u001b[0m                                 Traceback (most recent call last)",
            "\u001b[0;32m<ipython-input-3-a7e097323953>\u001b[0m in \u001b[0;36m<cell line: 14>\u001b[0;34m()\u001b[0m\n\u001b[1;32m     12\u001b[0m \u001b[0;34m\u001b[0m\u001b[0m\n\u001b[1;32m     13\u001b[0m \u001b[0;31m# initialize Q-table with zeros\u001b[0m\u001b[0;34m\u001b[0m\u001b[0;34m\u001b[0m\u001b[0m\n\u001b[0;32m---> 14\u001b[0;31m \u001b[0mQ\u001b[0m \u001b[0;34m=\u001b[0m \u001b[0mnp\u001b[0m\u001b[0;34m.\u001b[0m\u001b[0mzeros\u001b[0m\u001b[0;34m(\u001b[0m\u001b[0;34m(\u001b[0m\u001b[0mnum_states\u001b[0m\u001b[0;34m,\u001b[0m \u001b[0mnum_actions\u001b[0m\u001b[0;34m)\u001b[0m\u001b[0;34m)\u001b[0m\u001b[0;34m\u001b[0m\u001b[0;34m\u001b[0m\u001b[0m\n\u001b[0m\u001b[1;32m     15\u001b[0m \u001b[0;34m\u001b[0m\u001b[0m\n\u001b[1;32m     16\u001b[0m \u001b[0;31m# main loop over episodes\u001b[0m\u001b[0;34m\u001b[0m\u001b[0;34m\u001b[0m\u001b[0m\n",
            "\u001b[0;31mTypeError\u001b[0m: 'ellipsis' object cannot be interpreted as an integer"
          ]
        }
      ]
    },
    {
      "cell_type": "code",
      "source": [
        "import numpy as np\n",
        "\n",
        "# initialize parameters\n",
        "alpha = 0.5\n",
        "gamma = 0.9\n",
        "epsilon = 0.1\n",
        "num_episodes = 50000\n",
        "\n",
        "# specify the number of states and actions\n",
        "num_states = ...  # fill this with your number of states\n",
        "num_actions = ...  # fill this with your number of actions\n",
        "\n",
        "# initialize Q-table with zeros\n",
        "Q = np.zeros((num_states, num_actions))\n",
        "\n",
        "# main loop over episodes\n",
        "for i_episode in range(num_episodes):\n",
        "\n",
        "    # initialize state (this will depend on your specific problem)\n",
        "    state = ...  # fill this with your initial state\n",
        "\n",
        "    for t in range(100):  # limit each episode to a maximum length of 100 steps\n",
        "\n",
        "        # choose action using epsilon-greedy policy\n",
        "        if np.random.rand() < epsilon:\n",
        "            action = np.random.choice(num_actions)  # random action\n",
        "        else:\n",
        "            action = np.argmax(Q[state])  # greedy action\n",
        "\n",
        "        # take action and get reward and new state\n",
        "        new_state, reward, done = ...  # fill this with your environment's response\n",
        "\n",
        "        # update Q-value\n",
        "        Q[state, action] = Q[state, action] + alpha * (reward + gamma * np.max(Q[new_state]) - Q[state, action])\n",
        "\n",
        "        # move to new state\n",
        "        state = new_state\n",
        "\n",
        "        # end episode if done\n",
        "        if done:\n",
        "            break\n",
        "\n",
        "# after all episodes, print the resulting Q-table\n",
        "print(Q)\n"
      ],
      "metadata": {
        "id": "CV8hPbhs_Og_"
      },
      "execution_count": null,
      "outputs": []
    }
  ]
}