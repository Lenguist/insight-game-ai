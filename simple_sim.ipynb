{
  "cells": [
    {
      "cell_type": "markdown",
      "metadata": {
        "id": "view-in-github",
        "colab_type": "text"
      },
      "source": [
        "<a href=\"https://colab.research.google.com/github/Lenguist/insight-game-ai/blob/main/simple_sim.ipynb\" target=\"_parent\"><img src=\"https://colab.research.google.com/assets/colab-badge.svg\" alt=\"Open In Colab\"/></a>"
      ]
    },
    {
      "cell_type": "code",
      "execution_count": null,
      "metadata": {
        "id": "qM5G7hdEqB1d",
        "cellView": "form"
      },
      "outputs": [],
      "source": [
        "#@title Initialization\n",
        "import random\n",
        "class Buyer:\n",
        "    def __init__(self, maxprice):\n",
        "        self.maxprice = maxprice\n",
        "        self.prob_to_walk = 0\n",
        "    def print_params(self):\n",
        "        print(f\"Buyer prob to walk {self.prob_to_walk}\")\n",
        "\n",
        "class Seller:\n",
        "    def __init__(self, minprice):\n",
        "        self.minprice = minprice\n",
        "\n",
        "def check_offer(offer, buyer, seller):\n",
        "  if offer >= seller.minprice and offer <= buyer.maxprice:\n",
        "    return \"accepted\"\n",
        "  else:\n",
        "    random_number = random.uniform(0, 1)\n",
        "    if random_number < buyer.prob_to_walk:\n",
        "      return \"walked\""
      ]
    },
    {
      "cell_type": "code",
      "execution_count": null,
      "metadata": {
        "id": "5MdCyvVs2G4E",
        "cellView": "form"
      },
      "outputs": [],
      "source": [
        "#@title Simplest Bargaining (-1 offer every time)\n",
        "\n",
        "buyer = Buyer(15)\n",
        "seller = Seller(10)\n",
        "offer = 20 #initial buyer offer\n",
        "print(\"initial offer is \" + str(offer))\n",
        "\n",
        "while offer>seller.minprice:\n",
        "  print(\"new round\")\n",
        "  buyer.print_params()\n",
        "  if check_offer(offer, buyer, seller)==\"accepted\":\n",
        "    print(\"Deal made at \" + str(offer))\n",
        "    break\n",
        "\n",
        "  if check_offer(offer, buyer, seller) == \"walked\":\n",
        "    print(f\"The buyer walked at the offer of {offer}\")\n",
        "    break\n",
        "\n",
        "  else:\n",
        "    print(f\"Offer at {offer} rejected by the buyer\")\n",
        "    offer += -1    \n",
        "    # faster bargaining \n",
        "    # offer = min(int((offer+buyer.maxprice)/2),offer-1)\n",
        "\n",
        "    buyer.prob_to_walk += 0.05\n",
        "    buyer.prob_to_walk = round(buyer.prob_to_walk,2)\n",
        "    check_offer(offer, buyer, seller)"
      ]
    },
    {
      "cell_type": "code",
      "execution_count": null,
      "metadata": {
        "id": "r-YTt3S8Cic4",
        "cellView": "form"
      },
      "outputs": [],
      "source": [
        "#@title Input Bargaining (user input game demo)\n",
        "def input_bargaining(seller_minprice, init_offer, product_value):\n",
        "  #we define buyer_maxprice to be a random number between the product value and the initial offer\n",
        "  max_price = int(random.uniform(product_value, init_offer))\n",
        "  buyer = Buyer(max_price) #initialize buyer with the max price they are willing to buy at\n",
        "  seller = Seller(seller_minprice) # initialize seller\n",
        "  offer = init_offer\n",
        "  print(f\"Seller (you) make initial offer of {offer}; your break even cost is {seller_minprice}.\")\n",
        "\n",
        "  while offer>=seller.minprice:\n",
        "    if check_offer(offer, buyer, seller)==\"accepted\":\n",
        "      print(\"Deal made at \" + str(offer))\n",
        "      print(\"buyer max price: \"+str(buyer.maxprice))\n",
        "      print(\"missed value: \"+str(buyer.maxprice-offer))\n",
        "      break\n",
        "\n",
        "    if check_offer(offer, buyer, seller) == \"walked\": \n",
        "      print(f\"The buyer walked at the offer of {offer}\")\n",
        "      print(\"buyer max price: \"+str(buyer.maxprice))\n",
        "      print(f\"value of car: {product_value}\")\n",
        "      print(\"unrealized profit from not selling: \"+str(buyer.maxprice-product_value))\n",
        "      break\n",
        "\n",
        "    else:\n",
        "      print(f\"Offer at {offer} rejected by the buyer\")\n",
        "      offer = int(input(\"what is your new offer?\"))\n",
        "      buyer.prob_to_walk += 0.05\n",
        "      buyer.prob_to_walk = round(buyer.prob_to_walk,2)\n",
        "      check_offer(offer, buyer, seller)\n",
        "\n",
        "input_bargaining(10,30,10)"
      ]
    },
    {
      "cell_type": "code",
      "execution_count": null,
      "metadata": {
        "id": "TI44Sl1FHKk3",
        "colab": {
          "base_uri": "https://localhost:8080/"
        },
        "outputId": "f44d6c85-b296-437b-86c6-81a38d60e862"
      },
      "outputs": [
        {
          "output_type": "stream",
          "name": "stdout",
          "text": [
            "initial offer is 20\n",
            "offer rejected at 20.\n",
            "New offer is 19\n",
            "offer rejected at 19.\n",
            "New offer is 18\n",
            "offer rejected at 18.\n",
            "New offer is 17\n",
            "offer rejected at 17.\n",
            "New offer is 16\n",
            "buyer walked at 16. Value lost: 5\n",
            "(0, 5)\n"
          ]
        }
      ],
      "source": [
        "#@title Bargaining Strategies function, outputs (money made, value lost)\n",
        "def bargaining_event(product_value, max_possible_buyer_price, printing=False):\n",
        "  #printing variable is for debugging, set it to True to debug\n",
        "  #we define buyer_maxprice to be a random number between the product value and max_possible_buyer_price\n",
        "  max_price = int(random.uniform(product_value, max_possible_buyer_price))+1\n",
        "  buyer = Buyer(max_price) #initialize buyer with the max price they are willing to buy at\n",
        "  buyer_init_impatience = 0\n",
        "  buyer_impatience_increment = .1\n",
        "  seller = Seller(product_value+1) # initialize seller\n",
        "  initial_offer = 20\n",
        "  offer = initial_offer # initial offer\n",
        "  if printing: \n",
        "    print(\"initial offer is \" + str(offer))\n",
        "\n",
        "  while offer>=seller.minprice:\n",
        "    if check_offer(offer, buyer, seller)==\"accepted\":\n",
        "      if printing:\n",
        "        print(f\"deal accepted at {offer}. Money made: {offer-product_value}\") \n",
        "      return (offer-product_value, 0)\n",
        "    if check_offer(offer, buyer, seller) == \"walked\": \n",
        "      if printing:\n",
        "        print(f\"buyer walked at {offer}. Value lost: {buyer.maxprice-product_value}\") \n",
        "      return (0,buyer.maxprice-product_value)\n",
        "    else: # now offer a new price\n",
        "      if printing:\n",
        "        print(f\"offer rejected at {offer}.\")\n",
        "      change_in_offer = 1\n",
        "      offer -= change_in_offer    #change the offer for the next time\n",
        "      buyer.prob_to_walk += buyer_impatience_increment\n",
        "      if printing:\n",
        "        print(f\"New offer is {offer}\") \n",
        "\n",
        "print(bargaining_event(10,20,True))\n"
      ]
    },
    {
      "cell_type": "code",
      "execution_count": null,
      "metadata": {
        "colab": {
          "base_uri": "https://localhost:8080/"
        },
        "id": "BqXxY4eoGCke",
        "outputId": "19793d03-042b-46bd-f6bc-551c1f9d2e6a"
      },
      "outputs": [
        {
          "output_type": "stream",
          "name": "stdout",
          "text": [
            "you gained $279213 over 100000 runs\n"
          ]
        }
      ],
      "source": [
        "#@title Runs simulation $n$ times and outputs profit\n",
        "value_gained = 0\n",
        "n = 100000\n",
        "for i in range(n):\n",
        "  value_gained += bargaining_event(10,15,False)[0]\n",
        "\n",
        "print(f\"you gained ${value_gained} over {n} runs\")"
      ]
    },
    {
      "cell_type": "code",
      "execution_count": null,
      "metadata": {
        "id": "9enrC4JS3QeS"
      },
      "outputs": [],
      "source": [
        "# COMPARE FASTER BARGAINING VS NORMAL FOR SEVERAL ITERATIONS"
      ]
    },
    {
      "cell_type": "code",
      "source": [],
      "metadata": {
        "id": "jHKWAYIKJ6u2"
      },
      "execution_count": null,
      "outputs": []
    },
    {
      "cell_type": "code",
      "execution_count": null,
      "metadata": {
        "id": "lnqx3r7e73ET"
      },
      "outputs": [],
      "source": [
        "\n"
      ]
    },
    {
      "cell_type": "code",
      "execution_count": null,
      "metadata": {
        "id": "ZnCNknQUy8wn"
      },
      "outputs": [],
      "source": [
        "\n"
      ]
    }
  ],
  "metadata": {
    "colab": {
      "provenance": [],
      "include_colab_link": true
    },
    "kernelspec": {
      "display_name": "Python 3",
      "name": "python3"
    },
    "language_info": {
      "name": "python"
    }
  },
  "nbformat": 4,
  "nbformat_minor": 0
}