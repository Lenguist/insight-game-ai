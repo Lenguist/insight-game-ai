{
  "cells": [
    {
      "cell_type": "markdown",
      "metadata": {
        "id": "view-in-github",
        "colab_type": "text"
      },
      "source": [
        "<a href=\"https://colab.research.google.com/github/Lenguist/insight-game-ai/blob/main/simple_sim.ipynb\" target=\"_parent\"><img src=\"https://colab.research.google.com/assets/colab-badge.svg\" alt=\"Open In Colab\"/></a>"
      ]
    },
    {
      "cell_type": "code",
      "source": [
        "car_image1 = '''\n",
        "                              _.-=\"_-         _\n",
        "                         _.-=\"   _-          | ||\"\"\"\"\"\"\"---._______     __..\n",
        "             ___.===\"\"\"\"-.______-,,,,,,,,,,,,`-''----\" \"\"\"\"\"       \"\"\"\"\"  __'\n",
        "      __.--\"\"     __        ,'                   o \\           __        [__|\n",
        " __-\"\"=======.--\"\"  \"\"--.=================================.--\"\"  \"\"--.=======:\n",
        "]       [w] : /        \\ : |========================|    : /        \\ :  [w] :\n",
        "V___________:|          |: |========================|    :|          |:   _-\"\n",
        " V__________: \\        / :_|=======================/_____: \\        / :__-\"\n",
        " -----------'  \"-____-\"  `-------------------------------'  \"-____-\"\n",
        " '''\n",
        "\n",
        "car_image2 = '''\n",
        "        __-------__\n",
        "      / _---------_ \\\\\n",
        "     / /           \\ \\\\\n",
        "     | |           | |\n",
        "     |_|___________|_|\n",
        " /-\\|                 |/-\\\\\n",
        "| _ |\\       0       /| _ |\n",
        "|(_)| \\      !      / |(_)|\n",
        "|___|__\\_____!_____/__|___|\n",
        "[_________|MEIN1|_________]\n",
        " ||||    ~~~~~~~~     ||||\n",
        " `--'                 `--'\n",
        "'''"
      ],
      "metadata": {
        "id": "3aryA9MsCY-0"
      },
      "execution_count": null,
      "outputs": []
    },
    {
      "cell_type": "code",
      "execution_count": null,
      "metadata": {
        "id": "qM5G7hdEqB1d"
      },
      "outputs": [],
      "source": [
        "#@title Initialization\n",
        "import random\n",
        "import numpy\n",
        "class Buyer:\n",
        "    def __init__(self, maxprice):\n",
        "        self.maxprice = maxprice\n",
        "        self.prob_to_walk = 0\n",
        "    def print_params(self):\n",
        "        print(f\"Buyer prob to walk {self.prob_to_walk}\")\n",
        "\n",
        "class Seller:\n",
        "    def __init__(self, minprice):\n",
        "        self.minprice = minprice\n",
        "\n",
        "def check_offer(offer, buyer, seller):\n",
        "  if offer >= seller.minprice and offer <= buyer.maxprice:\n",
        "    return \"accepted\"\n",
        "  else:\n",
        "    random_number = numpy.random.uniform(0, 1)\n",
        "    if random_number <= buyer.prob_to_walk:\n",
        "      # print(f\"buyer walked at a probability of {buyer.prob_to_walk}\")\n",
        "      return \"walked\""
      ]
    },
    {
      "cell_type": "code",
      "execution_count": null,
      "metadata": {
        "id": "5MdCyvVs2G4E",
        "cellView": "form",
        "colab": {
          "base_uri": "https://localhost:8080/"
        },
        "outputId": "a4f80a82-3dd9-4e2c-9cc4-504af79dd620"
      },
      "outputs": [
        {
          "output_type": "stream",
          "name": "stdout",
          "text": [
            "initial offer is 20\n",
            "new round\n",
            "Buyer prob to walk 0\n",
            "Offer at 20 rejected by the buyer\n",
            "new round\n",
            "Buyer prob to walk 0.05\n",
            "Offer at 19 rejected by the buyer\n",
            "new round\n",
            "Buyer prob to walk 0.1\n",
            "Offer at 18 rejected by the buyer\n",
            "new round\n",
            "Buyer prob to walk 0.15\n",
            "Offer at 17 rejected by the buyer\n",
            "new round\n",
            "Buyer prob to walk 0.2\n",
            "Offer at 16 rejected by the buyer\n",
            "new round\n",
            "Buyer prob to walk 0.25\n",
            "Deal made at 15\n"
          ]
        }
      ],
      "source": [
        "#@title Simplest Bargaining (-1 offer every time)\n",
        "\n",
        "buyer = Buyer(15)\n",
        "seller = Seller(10)\n",
        "offer = 20 #initial buyer offer\n",
        "print(\"initial offer is \" + str(offer))\n",
        "\n",
        "while offer>seller.minprice:\n",
        "  print(\"new round\")\n",
        "  buyer.print_params()\n",
        "  if check_offer(offer, buyer, seller)==\"accepted\":\n",
        "    print(\"Deal made at \" + str(offer))\n",
        "    break\n",
        "\n",
        "  if check_offer(offer, buyer, seller) == \"walked\":\n",
        "    print(f\"The buyer walked at the offer of {offer}\")\n",
        "    break\n",
        "\n",
        "  else:\n",
        "    print(f\"Offer at {offer} rejected by the buyer\")\n",
        "    offer += -1\n",
        "    # faster bargaining\n",
        "    # offer = min(int((offer+buyer.maxprice)/2),offer-1)\n",
        "\n",
        "    buyer.prob_to_walk += 0.05\n",
        "    buyer.prob_to_walk = round(buyer.prob_to_walk,2)\n",
        "    check_offer(offer, buyer, seller)"
      ]
    },
    {
      "cell_type": "code",
      "source": [
        "#@title Input Bargaining (user input game demo)\n",
        "def input_bargaining(seller_minprice, init_offer, product_value):\n",
        "  #we define buyer_maxprice to be a random number between the product value and the initial offer\n",
        "  max_price = int(random.uniform(product_value, init_offer))\n",
        "  buyer = Buyer(max_price) #initialize buyer with the max price they are willing to buy at\n",
        "  seller = Seller(seller_minprice) # initialize seller\n",
        "  offer = init_offer\n",
        "  print(\"Buyer: Hello! I wanted to buy this car. How much is it?\")\n",
        "  print(car_image1)\n",
        "  print(f\"*you bought this car for {product_value} so you shouldn't sell cheaper*\")\n",
        "  print(\"Buyer: What is your initial offer?\")\n",
        "  init_offer = int(input(\"You: \"))\n",
        "  if init_offer - max_price > 5:\n",
        "    print(\"Buyer: Okay, no, that's way too much. How about this car instead?\")\n",
        "    print()\n",
        "    print(car_image2)\n",
        "\n",
        "  while offer>=seller.minprice:\n",
        "    if check_offer(offer, buyer, seller)==\"accepted\":\n",
        "      print(\"Deal made at \" + str(offer))\n",
        "      print(\"buyer max price: \"+str(buyer.maxprice))\n",
        "      print(\"missed value: \"+str(buyer.maxprice-offer))\n",
        "      break\n",
        "\n",
        "    if check_offer(offer, buyer, seller) == \"walked\":\n",
        "      print(f\"The buyer walked at the offer of {offer}\")\n",
        "      print(\"buyer max price: \"+str(buyer.maxprice))\n",
        "      print(f\"value of car: {product_value}\")\n",
        "      print(\"unrealized profit from not selling: \"+str(buyer.maxprice-product_value))\n",
        "      break\n",
        "\n",
        "    else:\n",
        "      print(f\"Offer at {offer} rejected by the buyer\")\n",
        "      offer = int(input(\"what is your new offer?\"))\n",
        "      buyer.prob_to_walk += 0.05\n",
        "      buyer.prob_to_walk = round(buyer.prob_to_walk,2)\n",
        "      check_offer(offer, buyer, seller)\n",
        "\n",
        "input_bargaining(10,30,50)"
      ],
      "metadata": {
        "colab": {
          "base_uri": "https://localhost:8080/"
        },
        "id": "oBiQoozdCfqW",
        "outputId": "49f95c06-4834-4507-f44b-1f06cd3928c6"
      },
      "execution_count": null,
      "outputs": [
        {
          "output_type": "stream",
          "name": "stdout",
          "text": [
            "Buyer: Hello! I wanted to buy this car. How much is it?\n",
            "\n",
            "                              _.-=\"_-         _\n",
            "                         _.-=\"   _-          | ||\"\"\"\"\"\"\"---._______     __..\n",
            "             ___.===\"\"\"\"-.______-,,,,,,,,,,,,`-''----\" \"\"\"\"\"       \"\"\"\"\"  __'\n",
            "      __.--\"\"     __        ,'                   o \\           __        [__|\n",
            " __-\"\"=======.--\"\"  \"\"--.=================================.--\"\"  \"\"--.=======:\n",
            "]       [w] : /        \\ : |========================|    : /        \\ :  [w] :\n",
            "V___________:|          |: |========================|    :|          |:   _-\"\n",
            " V__________: \\        / :_|=======================/_____: \\        / :__-\"\n",
            " -----------'  \"-____-\"  `-------------------------------'  \"-____-\"\n",
            " \n",
            "*you bought this car for 50 so you shouldn't sell cheaper*\n",
            "Buyer: What is your initial offer?\n",
            "You: 50\n",
            "Buyer: Okay, no, that's way too much. How about this car instead?\n",
            "\n",
            "\n",
            "        __-------__\n",
            "      / _---------_ \\\n",
            "     / /           \\ \\\n",
            "     | |           | |\n",
            "     |_|___________|_|\n",
            " /-\\|                 |/-\\\n",
            "| _ |\\       0       /| _ |\n",
            "|(_)| \\      !      / |(_)|\n",
            "|___|__\\_____!_____/__|___|\n",
            "[_________|MEIN1|_________] \n",
            " ||||    ~~~~~~~~     ||||\n",
            " `--'                 `--'\n",
            "\n",
            "Deal made at 30\n",
            "buyer max price: 33\n",
            "missed value: 3\n"
          ]
        }
      ]
    },
    {
      "cell_type": "code",
      "source": [
        "print(car_image2)"
      ],
      "metadata": {
        "colab": {
          "base_uri": "https://localhost:8080/"
        },
        "id": "tsGVcWjcE26M",
        "outputId": "fb7115e8-1709-485d-b3df-2db1647fdbb9"
      },
      "execution_count": null,
      "outputs": [
        {
          "output_type": "stream",
          "name": "stdout",
          "text": [
            "\n",
            "        __-------__\n",
            "      / _---------_ \n",
            "\n",
            "     / /           \\ \n",
            "\n",
            "     | |           | |\n",
            "     |_|___________|_|\n",
            " /-\\|                 |/-| _ |\\       0       /| _ |\n",
            "|(_)| \\      !      / |(_)|\n",
            "|___|__\\_____!_____/__|___|\n",
            "[_________|MEIN1|_________] \n",
            " ||||    ~~~~~~~~     ||||\n",
            " `--'                 `--'\n",
            "\n"
          ]
        }
      ]
    },
    {
      "cell_type": "code",
      "execution_count": null,
      "metadata": {
        "id": "r-YTt3S8Cic4",
        "colab": {
          "base_uri": "https://localhost:8080/"
        },
        "outputId": "6f12abcf-0786-465b-b859-3f69a8fe1d15"
      },
      "outputs": [
        {
          "output_type": "stream",
          "name": "stdout",
          "text": [
            "Seller (you) make initial offer of 30; your break even cost is 10.\n",
            "Offer at 30 rejected by the buyer\n",
            "what is your new offer?29\n",
            "Offer at 29 rejected by the buyer\n",
            "what is your new offer?27\n",
            "Offer at 27 rejected by the buyer\n",
            "what is your new offer?24\n",
            "Offer at 24 rejected by the buyer\n",
            "what is your new offer?20\n",
            "Offer at 20 rejected by the buyer\n",
            "what is your new offer?17\n",
            "Deal made at 17\n",
            "buyer max price: 18\n",
            "missed value: 1\n"
          ]
        }
      ],
      "source": [
        "#@title Input Bargaining (user input game demo)\n",
        "def input_bargaining(seller_minprice, init_offer, product_value):\n",
        "  #we define buyer_maxprice to be a random number between the product value and the initial offer\n",
        "  max_price = int(random.uniform(product_value, init_offer))\n",
        "  buyer = Buyer(max_price) #initialize buyer with the max price they are willing to buy at\n",
        "  seller = Seller(seller_minprice) # initialize seller\n",
        "  offer = init_offer\n",
        "  print(f\"Seller (you) make initial offer of {offer}; your break even cost is {seller_minprice}.\")\n",
        "\n",
        "  while offer>=seller.minprice:\n",
        "    if check_offer(offer, buyer, seller)==\"accepted\":\n",
        "      print(\"Deal made at \" + str(offer))\n",
        "      print(\"buyer max price: \"+str(buyer.maxprice))\n",
        "      print(\"missed value: \"+str(buyer.maxprice-offer))\n",
        "      break\n",
        "\n",
        "    if check_offer(offer, buyer, seller) == \"walked\":\n",
        "      print(f\"The buyer walked at the offer of {offer}\")\n",
        "      print(\"buyer max price: \"+str(buyer.maxprice))\n",
        "      print(f\"value of car: {product_value}\")\n",
        "      print(\"unrealized profit from not selling: \"+str(buyer.maxprice-product_value))\n",
        "      break\n",
        "\n",
        "    else:\n",
        "      print(f\"Offer at {offer} rejected by the buyer\")\n",
        "      offer = int(input(\"what is your new offer?\"))\n",
        "      buyer.prob_to_walk += 0.05\n",
        "      buyer.prob_to_walk = round(buyer.prob_to_walk,2)\n",
        "      check_offer(offer, buyer, seller)\n",
        "\n",
        "input_bargaining(10,30,10)"
      ]
    },
    {
      "cell_type": "code",
      "execution_count": null,
      "metadata": {
        "id": "TI44Sl1FHKk3",
        "cellView": "form",
        "colab": {
          "base_uri": "https://localhost:8080/"
        },
        "outputId": "48226500-8e07-4af4-9809-e9ca18c344ac"
      },
      "outputs": [
        {
          "output_type": "stream",
          "name": "stdout",
          "text": [
            "initial offer is 30\n",
            "offer rejected at 30.\n",
            "New offer is 29\n",
            "offer rejected at 29.\n",
            "New offer is 28\n",
            "buyer walked at 28. Value lost: 6\n",
            "(0, 6)\n"
          ]
        }
      ],
      "source": [
        "#@title Bargaining Strategies function, outputs (money made, value lost)\n",
        "def bargaining_event(product_value, max_possible_buyer_price, printing=False):\n",
        "  #printing variable is for debugging, set it to True to debug\n",
        "  #we define buyer_maxprice to be a random number between the product value and max_possible_buyer_price\n",
        "  max_price = int(random.uniform(product_value, max_possible_buyer_price))+1\n",
        "  buyer = Buyer(max_price) #initialize buyer with the max price they are willing to buy at\n",
        "  buyer_init_impatience = 0\n",
        "  buyer_impatience_increment = .10\n",
        "  seller = Seller(product_value+1) # initialize seller\n",
        "  initial_offer = 30\n",
        "  offer = initial_offer # initial offer\n",
        "  if printing:\n",
        "    print(\"initial offer is \" + str(offer))\n",
        "\n",
        "  while offer>=seller.minprice:\n",
        "    if check_offer(offer, buyer, seller)==\"accepted\":\n",
        "      if printing:\n",
        "        print(f\"deal accepted at {offer}. Money made: {offer-product_value}\")\n",
        "      return (offer-product_value, 0)\n",
        "    if check_offer(offer, buyer, seller) == \"walked\":\n",
        "      if printing:\n",
        "        print(f\"buyer walked at {offer}. Value lost: {buyer.maxprice-product_value}\")\n",
        "      return (0,buyer.maxprice-product_value)\n",
        "    else: # now offer a new price\n",
        "      if printing:\n",
        "        print(f\"offer rejected at {offer}.\")\n",
        "      change_in_offer = 1\n",
        "      offer -= change_in_offer    #change the offer for the next time\n",
        "      buyer.prob_to_walk += buyer_impatience_increment\n",
        "      if printing:\n",
        "        print(f\"New offer is {offer}\")\n",
        "\n",
        "print(bargaining_event(10,20,True))\n"
      ]
    },
    {
      "cell_type": "code",
      "source": [
        "#@title Bargaining Strategies with explicitely hard coded strategy\n",
        "#gives strategy as list of inputed \"bids\"\n",
        "def bargaining_event_with_explicit_bids(product_value, max_possible_buyer_price, bids, printing=False):\n",
        "  #printing variable is for debugging, set it to True to debug\n",
        "  #we define buyer_maxprice to be a random number between the product value and max_possible_buyer_price\n",
        "  max_price = int(random.uniform(product_value, max_possible_buyer_price))+1\n",
        "  buyer = Buyer(max_price) #initialize buyer with the max price they are willing to buy at\n",
        "  buyer_init_impatience = 0\n",
        "  buyer_impatience_increment = .1\n",
        "  seller = Seller(product_value+1) # initialize seller\n",
        "\n",
        "\n",
        "  for offer in bids:\n",
        "    if printing:\n",
        "        print(f\"New offer is {offer}\")\n",
        "        print(f\"cur impatience is {buyer.prob_to_walk}\")\n",
        "    offercheck = check_offer(offer, buyer, seller)\n",
        "    if offercheck==\"accepted\":\n",
        "      if printing:\n",
        "        print(f\"deal accepted at {offer}. Money made: {offer-product_value}\")\n",
        "      return (offer-product_value, max_price-offer)\n",
        "    if offercheck == \"walked\":\n",
        "      if printing:\n",
        "        print(f\"buyer walked at {offer}. Value lost: {buyer.maxprice-product_value}\")\n",
        "      return (0,buyer.maxprice-product_value)\n",
        "    else: # now offer a new price\n",
        "      if printing:\n",
        "        print(f\"offer rejected at {offer}.\")\n",
        "      buyer.prob_to_walk += buyer_impatience_increment\n",
        "\n",
        "bids=[30,20,15,14,13,12,11]\n",
        "for i in range(10):\n",
        "  print(bargaining_event_with_explicit_bids(10,30,bids,True))\n"
      ],
      "metadata": {
        "colab": {
          "base_uri": "https://localhost:8080/"
        },
        "id": "SWHaeFas3XIU",
        "outputId": "d38032ab-68b7-43ca-ecf6-f59e9b45c478"
      },
      "execution_count": null,
      "outputs": [
        {
          "output_type": "stream",
          "name": "stdout",
          "text": [
            "New offer is 30\n",
            "cur impatience is 0\n",
            "offer rejected at 30.\n",
            "New offer is 20\n",
            "cur impatience is 0.1\n",
            "deal accepted at 20. Money made: 10\n",
            "(10, 0)\n",
            "New offer is 30\n",
            "cur impatience is 0\n",
            "offer rejected at 30.\n",
            "New offer is 20\n",
            "cur impatience is 0.1\n",
            "deal accepted at 20. Money made: 10\n",
            "(10, 7)\n",
            "New offer is 30\n",
            "cur impatience is 0\n",
            "offer rejected at 30.\n",
            "New offer is 20\n",
            "cur impatience is 0.1\n",
            "deal accepted at 20. Money made: 10\n",
            "(10, 3)\n",
            "New offer is 30\n",
            "cur impatience is 0\n",
            "offer rejected at 30.\n",
            "New offer is 20\n",
            "cur impatience is 0.1\n",
            "deal accepted at 20. Money made: 10\n",
            "(10, 0)\n",
            "New offer is 30\n",
            "cur impatience is 0\n",
            "offer rejected at 30.\n",
            "New offer is 20\n",
            "cur impatience is 0.1\n",
            "deal accepted at 20. Money made: 10\n",
            "(10, 9)\n",
            "New offer is 30\n",
            "cur impatience is 0\n",
            "offer rejected at 30.\n",
            "New offer is 20\n",
            "cur impatience is 0.1\n",
            "deal accepted at 20. Money made: 10\n",
            "(10, 1)\n",
            "New offer is 30\n",
            "cur impatience is 0\n",
            "offer rejected at 30.\n",
            "New offer is 20\n",
            "cur impatience is 0.1\n",
            "buyer walked at 20. Value lost: 4\n",
            "(0, 4)\n",
            "New offer is 30\n",
            "cur impatience is 0\n",
            "offer rejected at 30.\n",
            "New offer is 20\n",
            "cur impatience is 0.1\n",
            "deal accepted at 20. Money made: 10\n",
            "(10, 6)\n",
            "New offer is 30\n",
            "cur impatience is 0\n",
            "offer rejected at 30.\n",
            "New offer is 20\n",
            "cur impatience is 0.1\n",
            "offer rejected at 20.\n",
            "New offer is 15\n",
            "cur impatience is 0.2\n",
            "deal accepted at 15. Money made: 5\n",
            "(5, 4)\n",
            "New offer is 30\n",
            "cur impatience is 0\n",
            "offer rejected at 30.\n",
            "New offer is 20\n",
            "cur impatience is 0.1\n",
            "deal accepted at 20. Money made: 10\n",
            "(10, 1)\n"
          ]
        }
      ]
    },
    {
      "cell_type": "code",
      "execution_count": null,
      "metadata": {
        "colab": {
          "base_uri": "https://localhost:8080/"
        },
        "id": "BqXxY4eoGCke",
        "outputId": "e0fd932d-6938-4630-f7dd-745861f620b1"
      },
      "outputs": [
        {
          "output_type": "stream",
          "name": "stdout",
          "text": [
            "Over 1000000 runs...\n",
            "For bids1: your value gained was $3549337, or $3.55 per run.\n",
            "Your value lost was $6947990, or $6.95 per run.\n",
            "\n",
            "For bids2: your value gained was $8569838, or $8.57 per run.\n",
            "Your value lost was $1932668, or $1.93 per run.\n"
          ]
        }
      ],
      "source": [
        "#@title Runs simulation $n$ times and outputs profit\n",
        "value_gained1= 0\n",
        "value_lost1=0\n",
        "value_gained2= 0\n",
        "value_lost2=0\n",
        "n = 1000000\n",
        "bids1=[28, 11]\n",
        "bids2=[26, 22, 18, 15, 13, 12, 11]\n",
        "\n",
        "for i in range(n):\n",
        "  barg1 = bargaining_event_with_explicit_bids(10,30,bids1,False)\n",
        "  barg2 = bargaining_event_with_explicit_bids(10,30,bids2,False)\n",
        "  value_gained1 += barg1[0]\n",
        "  value_lost1 += barg1[1]\n",
        "  value_gained2 += barg2[0]\n",
        "  value_lost2 += barg2[1]\n",
        "\n",
        "print(f\"Over {n} runs...\")\n",
        "print(f\"For bids1: your value gained was ${value_gained1}, or ${round(value_gained1/n,2)} per run.\\nYour value lost was ${value_lost1}, or ${round(value_lost1/n,2)} per run.\")\n",
        "print(f\"\\nFor bids2: your value gained was ${value_gained2}, or ${round(value_gained2/n,2)} per run.\\nYour value lost was ${value_lost2}, or ${round(value_lost2/n,2)} per run.\")"
      ]
    },
    {
      "cell_type": "code",
      "execution_count": null,
      "metadata": {
        "id": "9enrC4JS3QeS"
      },
      "outputs": [],
      "source": [
        "# COMPARE FASTER BARGAINING VS NORMAL FOR SEVERAL ITERATIONS"
      ]
    },
    {
      "cell_type": "code",
      "source": [],
      "metadata": {
        "id": "jHKWAYIKJ6u2"
      },
      "execution_count": null,
      "outputs": []
    },
    {
      "cell_type": "code",
      "execution_count": null,
      "metadata": {
        "id": "lnqx3r7e73ET"
      },
      "outputs": [],
      "source": [
        "\n"
      ]
    },
    {
      "cell_type": "code",
      "execution_count": null,
      "metadata": {
        "id": "ZnCNknQUy8wn"
      },
      "outputs": [],
      "source": [
        "\n"
      ]
    },
    {
      "cell_type": "code",
      "source": [],
      "metadata": {
        "id": "Pj8fbsHmBtNv"
      },
      "execution_count": null,
      "outputs": []
    }
  ],
  "metadata": {
    "colab": {
      "provenance": [],
      "include_colab_link": true
    },
    "kernelspec": {
      "display_name": "Python 3",
      "name": "python3"
    },
    "language_info": {
      "name": "python"
    }
  },
  "nbformat": 4,
  "nbformat_minor": 0
}